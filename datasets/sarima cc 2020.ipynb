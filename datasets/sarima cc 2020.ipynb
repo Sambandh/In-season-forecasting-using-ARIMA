{
 "cells": [
  {
   "cell_type": "code",
   "execution_count": 14,
   "id": "ee644ca7",
   "metadata": {},
   "outputs": [],
   "source": [
    "import numpy as np\n",
    "import matplotlib.pyplot as plt\n",
    "import pandas as pd"
   ]
  },
  {
   "cell_type": "code",
   "execution_count": 15,
   "id": "03f04c50",
   "metadata": {},
   "outputs": [],
   "source": [
    "f4 = pd.read_csv(\"C:/Users/samba/OneDrive/Desktop/TAMU CORPUS/Driscoll/sarima/datasets/CC_2020.csv\")"
   ]
  },
  {
   "cell_type": "code",
   "execution_count": 16,
   "id": "4ebeea97",
   "metadata": {},
   "outputs": [],
   "source": [
    "f4['Date'] = pd.to_datetime(f4['Date'])"
   ]
  },
  {
   "cell_type": "code",
   "execution_count": 17,
   "id": "26665571",
   "metadata": {},
   "outputs": [],
   "source": [
    "from datetime import datetime, timedelta\n",
    "import matplotlib.pyplot as plt\n",
    "import numpy as np\n",
    "import pandas as pd\n",
    "import statsmodels.api as sm\n",
    "from statsmodels.tsa.stattools import adfuller, kpss\n",
    "from statsmodels.tsa.api import ExponentialSmoothing"
   ]
  },
  {
   "cell_type": "code",
   "execution_count": 18,
   "id": "ecd27b3f",
   "metadata": {},
   "outputs": [
    {
     "data": {
      "text/html": [
       "<div>\n",
       "<style scoped>\n",
       "    .dataframe tbody tr th:only-of-type {\n",
       "        vertical-align: middle;\n",
       "    }\n",
       "\n",
       "    .dataframe tbody tr th {\n",
       "        vertical-align: top;\n",
       "    }\n",
       "\n",
       "    .dataframe thead th {\n",
       "        text-align: right;\n",
       "    }\n",
       "</style>\n",
       "<table border=\"1\" class=\"dataframe\">\n",
       "  <thead>\n",
       "    <tr style=\"text-align: right;\">\n",
       "      <th></th>\n",
       "      <th>Date</th>\n",
       "      <th>CC</th>\n",
       "    </tr>\n",
       "  </thead>\n",
       "  <tbody>\n",
       "    <tr>\n",
       "      <th>0</th>\n",
       "      <td>2020-03-26</td>\n",
       "      <td>0.000490</td>\n",
       "    </tr>\n",
       "    <tr>\n",
       "      <th>1</th>\n",
       "      <td>2020-03-27</td>\n",
       "      <td>0.017949</td>\n",
       "    </tr>\n",
       "    <tr>\n",
       "      <th>2</th>\n",
       "      <td>2020-03-28</td>\n",
       "      <td>0.035408</td>\n",
       "    </tr>\n",
       "    <tr>\n",
       "      <th>3</th>\n",
       "      <td>2020-03-29</td>\n",
       "      <td>0.052867</td>\n",
       "    </tr>\n",
       "    <tr>\n",
       "      <th>4</th>\n",
       "      <td>2020-03-30</td>\n",
       "      <td>0.070327</td>\n",
       "    </tr>\n",
       "    <tr>\n",
       "      <th>...</th>\n",
       "      <td>...</td>\n",
       "      <td>...</td>\n",
       "    </tr>\n",
       "    <tr>\n",
       "      <th>111</th>\n",
       "      <td>2020-07-15</td>\n",
       "      <td>90.812000</td>\n",
       "    </tr>\n",
       "    <tr>\n",
       "      <th>112</th>\n",
       "      <td>2020-07-16</td>\n",
       "      <td>91.734000</td>\n",
       "    </tr>\n",
       "    <tr>\n",
       "      <th>113</th>\n",
       "      <td>2020-07-17</td>\n",
       "      <td>92.656000</td>\n",
       "    </tr>\n",
       "    <tr>\n",
       "      <th>114</th>\n",
       "      <td>2020-07-18</td>\n",
       "      <td>93.578000</td>\n",
       "    </tr>\n",
       "    <tr>\n",
       "      <th>115</th>\n",
       "      <td>2020-07-19</td>\n",
       "      <td>94.500000</td>\n",
       "    </tr>\n",
       "  </tbody>\n",
       "</table>\n",
       "<p>116 rows × 2 columns</p>\n",
       "</div>"
      ],
      "text/plain": [
       "          Date         CC\n",
       "0   2020-03-26   0.000490\n",
       "1   2020-03-27   0.017949\n",
       "2   2020-03-28   0.035408\n",
       "3   2020-03-29   0.052867\n",
       "4   2020-03-30   0.070327\n",
       "..         ...        ...\n",
       "111 2020-07-15  90.812000\n",
       "112 2020-07-16  91.734000\n",
       "113 2020-07-17  92.656000\n",
       "114 2020-07-18  93.578000\n",
       "115 2020-07-19  94.500000\n",
       "\n",
       "[116 rows x 2 columns]"
      ]
     },
     "execution_count": 18,
     "metadata": {},
     "output_type": "execute_result"
    }
   ],
   "source": [
    "f4"
   ]
  },
  {
   "cell_type": "code",
   "execution_count": 19,
   "id": "96c69673",
   "metadata": {},
   "outputs": [],
   "source": [
    "data2 = f4.copy()"
   ]
  },
  {
   "cell_type": "code",
   "execution_count": 20,
   "id": "8e0215f8",
   "metadata": {},
   "outputs": [],
   "source": [
    "data2['Date'] = pd.to_datetime(data2['Date'])\n",
    "data2.index = data2['Date']"
   ]
  },
  {
   "cell_type": "code",
   "execution_count": 21,
   "id": "ecac4c3b",
   "metadata": {},
   "outputs": [],
   "source": [
    "data2.drop(['Date'], axis = 1,inplace = True)"
   ]
  },
  {
   "cell_type": "code",
   "execution_count": 22,
   "id": "eef0aec4",
   "metadata": {},
   "outputs": [
    {
     "data": {
      "text/plain": [
       "[<matplotlib.lines.Line2D at 0x219932d03d0>]"
      ]
     },
     "execution_count": 22,
     "metadata": {},
     "output_type": "execute_result"
    },
    {
     "data": {
      "image/png": "[encoded data removed]",
      "text/plain": [
       "<Figure size 720x360 with 1 Axes>"
      ]
     },
     "metadata": {
      "needs_background": "light"
     },
     "output_type": "display_data"
    }
   ],
   "source": [
    "from matplotlib.pylab import rcParams\n",
    "rcParams['figure.figsize'] = 10,5\n",
    "plt.plot(data2['CC'])"
   ]
  },
  {
   "cell_type": "code",
   "execution_count": 23,
   "id": "c12afc06",
   "metadata": {},
   "outputs": [
    {
     "name": "stdout",
     "output_type": "stream",
     "text": [
      "ADF Statistic: -0.6723398290690231\n",
      "p-value: 0.8537846580909019\n"
     ]
    }
   ],
   "source": [
    "ad_fuller_result = adfuller(data2['CC'])\n",
    "print(f'ADF Statistic: {ad_fuller_result[0]}')\n",
    "print(f'p-value: {ad_fuller_result[1]}')"
   ]
  },
  {
   "cell_type": "code",
   "execution_count": 24,
   "id": "eaf611a7",
   "metadata": {},
   "outputs": [],
   "source": [
    "data2['CC'] = np.log(data2['CC'])\n",
    "data2['CC_log_diff'] = data2['CC'] - data2['CC'].shift(1)"
   ]
  },
  {
   "cell_type": "code",
   "execution_count": 25,
   "id": "d64b56bf",
   "metadata": {},
   "outputs": [],
   "source": [
    "data2 = data2.dropna()"
   ]
  },
  {
   "cell_type": "code",
   "execution_count": 26,
   "id": "35ed44ed",
   "metadata": {},
   "outputs": [
    {
     "name": "stdout",
     "output_type": "stream",
     "text": [
      "ADF Statistic: -17.19808496519131\n",
      "p-value: 6.486610016704656e-30\n"
     ]
    }
   ],
   "source": [
    "ad_fuller_result = adfuller(data2['CC_log_diff'])\n",
    "print(f'ADF Statistic: {ad_fuller_result[0]}')\n",
    "print(f'p-value: {ad_fuller_result[1]}')"
   ]
  },
  {
   "cell_type": "code",
   "execution_count": 27,
   "id": "9080bbb0",
   "metadata": {},
   "outputs": [
    {
     "data": {
      "text/plain": [
       "[<matplotlib.lines.Line2D at 0x21993cd5d00>]"
      ]
     },
     "execution_count": 27,
     "metadata": {},
     "output_type": "execute_result"
    },
    {
     "data": {
      "image/png": "[encoded data removed]",
      "text/plain": [
       "<Figure size 720x360 with 1 Axes>"
      ]
     },
     "metadata": {
      "needs_background": "light"
     },
     "output_type": "display_data"
    }
   ],
   "source": [
    "plt.plot(data2['CC_log_diff'])"
   ]
  },
  {
   "cell_type": "code",
   "execution_count": 28,
   "id": "65729003",
   "metadata": {},
   "outputs": [
    {
     "data": {
      "image/png": "[encoded data removed]",
      "text/plain": [
       "<Figure size 720x360 with 1 Axes>"
      ]
     },
     "metadata": {
      "needs_background": "light"
     },
     "output_type": "display_data"
    }
   ],
   "source": [
    "sm.graphics.tsa.plot_acf(data2['CC_log_diff'].values.squeeze(), lags=20)\n",
    "plt.show()"
   ]
  },
  {
   "cell_type": "code",
   "execution_count": 29,
   "id": "d8e6554f",
   "metadata": {},
   "outputs": [
    {
     "name": "stderr",
     "output_type": "stream",
     "text": [
      "C:\\ProgramData\\Anaconda3\\lib\\site-packages\\statsmodels\\graphics\\tsaplots.py:348: FutureWarning: The default method 'yw' can produce PACF values outside of the [-1,1] interval. After 0.13, the default will change tounadjusted Yule-Walker ('ywm'). You can use this method now by setting method='ywm'.\n",
      "  warnings.warn(\n"
     ]
    },
    {
     "data": {
      "image/png": "[encoded data removed]",
      "text/plain": [
       "<Figure size 720x360 with 1 Axes>"
      ]
     },
     "metadata": {
      "needs_background": "light"
     },
     "output_type": "display_data"
    }
   ],
   "source": [
    "sm.graphics.tsa.plot_pacf(data2['CC_log_diff'].values.squeeze(), lags=40)\n",
    "plt.show()"
   ]
  },
  {
   "cell_type": "code",
   "execution_count": 18,
   "id": "73c127bf",
   "metadata": {},
   "outputs": [],
   "source": [
    "# p can be 1\n",
    "# q value can be 1\n",
    "# D is 1\n",
    "# ARIMA model"
   ]
  },
  {
   "cell_type": "code",
   "execution_count": 30,
   "id": "0812a1e9",
   "metadata": {},
   "outputs": [
    {
     "data": {
      "text/plain": [
       "Date\n",
       "2020-03-27   -4.020212\n",
       "2020-03-28   -3.340808\n",
       "2020-03-29   -2.939966\n",
       "2020-03-30   -2.654604\n",
       "2020-03-31   -2.432855\n",
       "2020-04-01   -2.251464\n",
       "2020-04-02   -2.097979\n",
       "2020-04-03   -1.964947\n",
       "2020-04-04   -1.847552\n",
       "2020-04-05   -1.742503\n",
       "2020-04-06   -1.647447\n",
       "2020-04-07   -1.560648\n",
       "2020-04-08   -0.399856\n",
       "2020-04-09    0.122955\n",
       "2020-04-10    0.464520\n",
       "2020-04-11    0.718652\n",
       "2020-04-12    0.921112\n",
       "2020-04-13    1.089403\n",
       "2020-04-14    1.233410\n",
       "2020-04-15    1.359266\n",
       "2020-04-16    1.471038\n",
       "2020-04-17    1.571563\n",
       "2020-04-18    1.662900\n",
       "2020-04-19    1.746588\n",
       "2020-04-20    1.975677\n",
       "2020-04-21    2.161943\n",
       "2020-04-22    2.318901\n",
       "2020-04-23    2.454533\n",
       "2020-04-24    2.573947\n",
       "2020-04-25    2.680610\n",
       "2020-04-26    2.776985\n",
       "2020-04-27    2.864883\n",
       "2020-04-28    2.945675\n",
       "2020-04-29    3.020425\n",
       "2020-04-30    3.054630\n",
       "2020-05-01    3.087704\n",
       "2020-05-02    3.119718\n",
       "2020-05-03    3.150740\n",
       "2020-05-04    3.180828\n",
       "2020-05-05    3.210037\n",
       "2020-05-06    3.243959\n",
       "2020-05-07    3.276767\n",
       "2020-05-08    3.308534\n",
       "2020-05-09    3.339322\n",
       "2020-05-10    3.369191\n",
       "2020-05-11    3.398193\n",
       "2020-05-12    3.426378\n",
       "2020-05-13    3.453790\n",
       "2020-05-14    3.504255\n",
       "2020-05-15    3.552296\n",
       "Name: CC, dtype: float64"
      ]
     },
     "execution_count": 30,
     "metadata": {},
     "output_type": "execute_result"
    }
   ],
   "source": [
    "train_data = data2[:50]\n",
    "train_data_1 = train_data['CC']\n",
    "train_data_1"
   ]
  },
  {
   "cell_type": "code",
   "execution_count": 31,
   "id": "856883e1",
   "metadata": {},
   "outputs": [
    {
     "name": "stderr",
     "output_type": "stream",
     "text": [
      "C:\\ProgramData\\Anaconda3\\lib\\site-packages\\statsmodels\\tsa\\base\\tsa_model.py:471: ValueWarning: No frequency information was provided, so inferred frequency D will be used.\n",
      "  self._init_dates(dates, freq)\n",
      "C:\\ProgramData\\Anaconda3\\lib\\site-packages\\statsmodels\\tsa\\base\\tsa_model.py:471: ValueWarning: No frequency information was provided, so inferred frequency D will be used.\n",
      "  self._init_dates(dates, freq)\n",
      "C:\\ProgramData\\Anaconda3\\lib\\site-packages\\statsmodels\\tsa\\base\\tsa_model.py:471: ValueWarning: No frequency information was provided, so inferred frequency D will be used.\n",
      "  self._init_dates(dates, freq)\n"
     ]
    }
   ],
   "source": [
    "from math import sqrt\n",
    "from multiprocessing import cpu_count\n",
    "from joblib import Parallel\n",
    "from joblib import delayed\n",
    "from warnings import catch_warnings\n",
    "from warnings import filterwarnings\n",
    "from statsmodels.tsa.statespace.sarimax import SARIMAX\n",
    "from sklearn.metrics import mean_squared_error\n",
    "from statsmodels.tsa.arima.model import ARIMA\n",
    "model = ARIMA(train_data_1, order = (1,1,1))\n",
    "model_fit = model.fit()"
   ]
  },
  {
   "cell_type": "code",
   "execution_count": 32,
   "id": "addd8488",
   "metadata": {},
   "outputs": [
    {
     "name": "stdout",
     "output_type": "stream",
     "text": [
      "                               SARIMAX Results                                \n",
      "==============================================================================\n",
      "Dep. Variable:                     CC   No. Observations:                   50\n",
      "Model:                 ARIMA(1, 1, 1)   Log Likelihood                  15.641\n",
      "Date:                Wed, 03 Aug 2022   AIC                            -25.283\n",
      "Time:                        11:08:40   BIC                            -19.607\n",
      "Sample:                    03-27-2020   HQIC                           -23.129\n",
      "                         - 05-15-2020                                         \n",
      "Covariance Type:                  opg                                         \n",
      "==============================================================================\n",
      "                 coef    std err          z      P>|z|      [0.025      0.975]\n",
      "------------------------------------------------------------------------------\n",
      "ar.L1          0.9104      0.103      8.857      0.000       0.709       1.112\n",
      "ma.L1         -0.4003      0.328     -1.222      0.222      -1.043       0.242\n",
      "sigma2         0.0303      0.002     15.711      0.000       0.026       0.034\n",
      "===================================================================================\n",
      "Ljung-Box (L1) (Q):                   0.10   Jarque-Bera (JB):              1691.03\n",
      "Prob(Q):                              0.75   Prob(JB):                         0.00\n",
      "Heteroskedasticity (H):               0.00   Skew:                             4.98\n",
      "Prob(H) (two-sided):                  0.00   Kurtosis:                        30.00\n",
      "===================================================================================\n",
      "\n",
      "Warnings:\n",
      "[1] Covariance matrix calculated using the outer product of gradients (complex-step).\n"
     ]
    }
   ],
   "source": [
    "print (model_fit.summary())"
   ]
  },
  {
   "cell_type": "code",
   "execution_count": 33,
   "id": "f597b940",
   "metadata": {},
   "outputs": [
    {
     "data": {
      "text/plain": [
       "<AxesSubplot:xlabel='Date'>"
      ]
     },
     "execution_count": 33,
     "metadata": {},
     "output_type": "execute_result"
    },
    {
     "data": {
      "image/png": "[encoded data removed]",
      "text/plain": [
       "<Figure size 720x360 with 1 Axes>"
      ]
     },
     "metadata": {
      "needs_background": "light"
     },
     "output_type": "display_data"
    }
   ],
   "source": [
    "from pandas import DataFrame\n",
    "residuals = DataFrame(model_fit.resid)\n",
    "residuals.plot()"
   ]
  },
  {
   "cell_type": "code",
   "execution_count": 34,
   "id": "185a8660",
   "metadata": {},
   "outputs": [
    {
     "data": {
      "text/plain": [
       "<AxesSubplot:ylabel='Density'>"
      ]
     },
     "execution_count": 34,
     "metadata": {},
     "output_type": "execute_result"
    },
    {
     "data": {
      "image/png": "[encoded data removed]",
      "text/plain": [
       "<Figure size 720x360 with 1 Axes>"
      ]
     },
     "metadata": {
      "needs_background": "light"
     },
     "output_type": "display_data"
    }
   ],
   "source": [
    "residuals.plot(kind='kde')"
   ]
  },
  {
   "cell_type": "code",
   "execution_count": 35,
   "id": "f2baed19",
   "metadata": {},
   "outputs": [
    {
     "data": {
      "text/html": [
       "<div>\n",
       "<style scoped>\n",
       "    .dataframe tbody tr th:only-of-type {\n",
       "        vertical-align: middle;\n",
       "    }\n",
       "\n",
       "    .dataframe tbody tr th {\n",
       "        vertical-align: top;\n",
       "    }\n",
       "\n",
       "    .dataframe thead th {\n",
       "        text-align: right;\n",
       "    }\n",
       "</style>\n",
       "<table border=\"1\" class=\"dataframe\">\n",
       "  <thead>\n",
       "    <tr style=\"text-align: right;\">\n",
       "      <th></th>\n",
       "      <th>0</th>\n",
       "    </tr>\n",
       "  </thead>\n",
       "  <tbody>\n",
       "    <tr>\n",
       "      <th>count</th>\n",
       "      <td>50.000000</td>\n",
       "    </tr>\n",
       "    <tr>\n",
       "      <th>mean</th>\n",
       "      <td>-0.061798</td>\n",
       "    </tr>\n",
       "    <tr>\n",
       "      <th>std</th>\n",
       "      <td>0.601603</td>\n",
       "    </tr>\n",
       "    <tr>\n",
       "      <th>min</th>\n",
       "      <td>-4.020212</td>\n",
       "    </tr>\n",
       "    <tr>\n",
       "      <th>25%</th>\n",
       "      <td>-0.026307</td>\n",
       "    </tr>\n",
       "    <tr>\n",
       "      <th>50%</th>\n",
       "      <td>-0.002623</td>\n",
       "    </tr>\n",
       "    <tr>\n",
       "      <th>75%</th>\n",
       "      <td>0.003009</td>\n",
       "    </tr>\n",
       "    <tr>\n",
       "      <th>max</th>\n",
       "      <td>1.081366</td>\n",
       "    </tr>\n",
       "  </tbody>\n",
       "</table>\n",
       "</div>"
      ],
      "text/plain": [
       "               0\n",
       "count  50.000000\n",
       "mean   -0.061798\n",
       "std     0.601603\n",
       "min    -4.020212\n",
       "25%    -0.026307\n",
       "50%    -0.002623\n",
       "75%     0.003009\n",
       "max     1.081366"
      ]
     },
     "execution_count": 35,
     "metadata": {},
     "output_type": "execute_result"
    }
   ],
   "source": [
    "residuals.describe()"
   ]
  },
  {
   "cell_type": "code",
   "execution_count": 37,
   "id": "e84d28a1",
   "metadata": {},
   "outputs": [
    {
     "data": {
      "text/plain": [
       "2020-05-16    3.590913\n",
       "2020-05-17    3.626069\n",
       "2020-05-18    3.658075\n",
       "2020-05-19    3.687212\n",
       "2020-05-20    3.713737\n",
       "2020-05-21    3.737885\n",
       "2020-05-22    3.759869\n",
       "2020-05-23    3.779882\n",
       "2020-05-24    3.798102\n",
       "2020-05-25    3.814689\n",
       "Freq: D, Name: predicted_mean, dtype: float64"
      ]
     },
     "execution_count": 37,
     "metadata": {},
     "output_type": "execute_result"
    }
   ],
   "source": [
    "model_pred = model_fit.forecast(steps = 10)\n",
    "model_pred"
   ]
  },
  {
   "cell_type": "code",
   "execution_count": 36,
   "id": "d32413f4",
   "metadata": {},
   "outputs": [
    {
     "data": {
      "text/plain": [
       "Date\n",
       "2020-05-16    3.598134\n",
       "2020-05-17    3.641963\n",
       "2020-05-18    3.683951\n",
       "2020-05-19    3.724247\n",
       "2020-05-20    3.748159\n",
       "2020-05-21    3.771512\n",
       "2020-05-22    3.794333\n",
       "2020-05-23    3.816644\n",
       "2020-05-24    3.838469\n",
       "2020-05-25    3.859827\n",
       "Name: CC, dtype: float64"
      ]
     },
     "execution_count": 36,
     "metadata": {},
     "output_type": "execute_result"
    }
   ],
   "source": [
    "test_data = data2[50:60]\n",
    "test_data_1 = test_data['CC']\n",
    "test_data_1"
   ]
  },
  {
   "cell_type": "code",
   "execution_count": 38,
   "id": "e066d0d0",
   "metadata": {},
   "outputs": [
    {
     "name": "stdout",
     "output_type": "stream",
     "text": [
      "2020-05-16    36.267179\n",
      "2020-05-17    37.564875\n",
      "2020-05-18    38.786598\n",
      "2020-05-19    39.933342\n",
      "2020-05-20    41.006764\n",
      "2020-05-21    42.009049\n",
      "2020-05-22    42.942792\n",
      "2020-05-23    43.810882\n",
      "2020-05-24    44.616419\n",
      "2020-05-25    45.362631\n",
      "Freq: D, Name: predicted_mean, dtype: float64\n",
      "Date\n",
      "2020-05-16    36.530000\n",
      "2020-05-17    38.166667\n",
      "2020-05-18    39.803333\n",
      "2020-05-19    41.440000\n",
      "2020-05-20    42.442857\n",
      "2020-05-21    43.445714\n",
      "2020-05-22    44.448571\n",
      "2020-05-23    45.451429\n",
      "2020-05-24    46.454286\n",
      "2020-05-25    47.457143\n",
      "Name: CC, dtype: float64\n",
      "Test RMSE: 1.435\n"
     ]
    }
   ],
   "source": [
    "from sklearn.metrics import mean_squared_error\n",
    "from math import sqrt\n",
    "model_pred_1 = np.exp(model_pred)\n",
    "test_data_2 = np.exp(test_data_1)\n",
    "print (model_pred_1)\n",
    "print (test_data_2)\n",
    "rmse = sqrt(mean_squared_error(test_data_2, model_pred_1))\n",
    "print('Test RMSE: %.3f' % rmse)"
   ]
  },
  {
   "cell_type": "code",
   "execution_count": null,
   "id": "16741bac",
   "metadata": {},
   "outputs": [],
   "source": []
  }
 ],
 "metadata": {
  "kernelspec": {
   "display_name": "Python 3 (ipykernel)",
   "language": "python",
   "name": "python3"
  },
  "language_info": {
   "codemirror_mode": {
    "name": "ipython",
    "version": 3
   },
   "file_extension": ".py",
   "mimetype": "text/x-python",
   "name": "python",
   "nbconvert_exporter": "python",
   "pygments_lexer": "ipython3",
   "version": "3.9.12"
  }
 },
 "nbformat": 4,
 "nbformat_minor": 5
}
