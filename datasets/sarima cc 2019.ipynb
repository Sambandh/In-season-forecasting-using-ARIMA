{
 "cells": [
  {
   "cell_type": "code",
   "execution_count": 146,
   "id": "ee644ca7",
   "metadata": {},
   "outputs": [],
   "source": [
    "import numpy as np\n",
    "import matplotlib.pyplot as plt\n",
    "import pandas as pd"
   ]
  },
  {
   "cell_type": "code",
   "execution_count": 172,
   "id": "03f04c50",
   "metadata": {},
   "outputs": [],
   "source": [
    "f4 = pd.read_csv(\"C:/Users/samba/OneDrive/Desktop/TAMU CORPUS/Driscoll/sarima/datasets/CC_2019.csv\")"
   ]
  },
  {
   "cell_type": "code",
   "execution_count": 173,
   "id": "4ebeea97",
   "metadata": {},
   "outputs": [],
   "source": [
    "f4['Date'] = pd.to_datetime(f4['Date'])"
   ]
  },
  {
   "cell_type": "code",
   "execution_count": 174,
   "id": "26665571",
   "metadata": {},
   "outputs": [],
   "source": [
    "from datetime import datetime, timedelta\n",
    "import matplotlib.pyplot as plt\n",
    "import numpy as np\n",
    "import pandas as pd\n",
    "import statsmodels.api as sm\n",
    "from statsmodels.tsa.stattools import adfuller, kpss\n",
    "from statsmodels.tsa.api import ExponentialSmoothing"
   ]
  },
  {
   "cell_type": "code",
   "execution_count": 175,
   "id": "ecd27b3f",
   "metadata": {},
   "outputs": [
    {
     "data": {
      "text/html": [
       "<div>\n",
       "<style scoped>\n",
       "    .dataframe tbody tr th:only-of-type {\n",
       "        vertical-align: middle;\n",
       "    }\n",
       "\n",
       "    .dataframe tbody tr th {\n",
       "        vertical-align: top;\n",
       "    }\n",
       "\n",
       "    .dataframe thead th {\n",
       "        text-align: right;\n",
       "    }\n",
       "</style>\n",
       "<table border=\"1\" class=\"dataframe\">\n",
       "  <thead>\n",
       "    <tr style=\"text-align: right;\">\n",
       "      <th></th>\n",
       "      <th>Date</th>\n",
       "      <th>CC</th>\n",
       "    </tr>\n",
       "  </thead>\n",
       "  <tbody>\n",
       "    <tr>\n",
       "      <th>0</th>\n",
       "      <td>2019-03-26</td>\n",
       "      <td>0.000200</td>\n",
       "    </tr>\n",
       "    <tr>\n",
       "      <th>1</th>\n",
       "      <td>2019-03-27</td>\n",
       "      <td>0.002267</td>\n",
       "    </tr>\n",
       "    <tr>\n",
       "      <th>2</th>\n",
       "      <td>2019-03-28</td>\n",
       "      <td>0.004333</td>\n",
       "    </tr>\n",
       "    <tr>\n",
       "      <th>3</th>\n",
       "      <td>2019-03-29</td>\n",
       "      <td>0.006400</td>\n",
       "    </tr>\n",
       "    <tr>\n",
       "      <th>4</th>\n",
       "      <td>2019-03-30</td>\n",
       "      <td>0.008467</td>\n",
       "    </tr>\n",
       "    <tr>\n",
       "      <th>...</th>\n",
       "      <td>...</td>\n",
       "      <td>...</td>\n",
       "    </tr>\n",
       "    <tr>\n",
       "      <th>111</th>\n",
       "      <td>2019-07-15</td>\n",
       "      <td>81.008000</td>\n",
       "    </tr>\n",
       "    <tr>\n",
       "      <th>112</th>\n",
       "      <td>2019-07-16</td>\n",
       "      <td>78.556000</td>\n",
       "    </tr>\n",
       "    <tr>\n",
       "      <th>113</th>\n",
       "      <td>2019-07-17</td>\n",
       "      <td>76.104000</td>\n",
       "    </tr>\n",
       "    <tr>\n",
       "      <th>114</th>\n",
       "      <td>2019-07-18</td>\n",
       "      <td>73.652000</td>\n",
       "    </tr>\n",
       "    <tr>\n",
       "      <th>115</th>\n",
       "      <td>2019-07-19</td>\n",
       "      <td>71.200000</td>\n",
       "    </tr>\n",
       "  </tbody>\n",
       "</table>\n",
       "<p>116 rows × 2 columns</p>\n",
       "</div>"
      ],
      "text/plain": [
       "          Date         CC\n",
       "0   2019-03-26   0.000200\n",
       "1   2019-03-27   0.002267\n",
       "2   2019-03-28   0.004333\n",
       "3   2019-03-29   0.006400\n",
       "4   2019-03-30   0.008467\n",
       "..         ...        ...\n",
       "111 2019-07-15  81.008000\n",
       "112 2019-07-16  78.556000\n",
       "113 2019-07-17  76.104000\n",
       "114 2019-07-18  73.652000\n",
       "115 2019-07-19  71.200000\n",
       "\n",
       "[116 rows x 2 columns]"
      ]
     },
     "execution_count": 175,
     "metadata": {},
     "output_type": "execute_result"
    }
   ],
   "source": [
    "f4"
   ]
  },
  {
   "cell_type": "code",
   "execution_count": 176,
   "id": "96c69673",
   "metadata": {},
   "outputs": [],
   "source": [
    "data2 = f4.copy()"
   ]
  },
  {
   "cell_type": "code",
   "execution_count": 177,
   "id": "8e0215f8",
   "metadata": {},
   "outputs": [],
   "source": [
    "data2['Date'] = pd.to_datetime(data2['Date'])\n",
    "data2.index = data2['Date']"
   ]
  },
  {
   "cell_type": "code",
   "execution_count": 178,
   "id": "ecac4c3b",
   "metadata": {},
   "outputs": [],
   "source": [
    "data2.drop(['Date'], axis = 1,inplace = True)"
   ]
  },
  {
   "cell_type": "code",
   "execution_count": 179,
   "id": "eef0aec4",
   "metadata": {},
   "outputs": [
    {
     "data": {
      "text/plain": [
       "[<matplotlib.lines.Line2D at 0x22d07f5f2b0>]"
      ]
     },
     "execution_count": 179,
     "metadata": {},
     "output_type": "execute_result"
    },
    {
     "data": {
      "image/png": "[encoded data removed]",
      "text/plain": [
       "<Figure size 720x360 with 1 Axes>"
      ]
     },
     "metadata": {
      "needs_background": "light"
     },
     "output_type": "display_data"
    }
   ],
   "source": [
    "from matplotlib.pylab import rcParams\n",
    "rcParams['figure.figsize'] = 10,5\n",
    "plt.plot(data2['CC'])"
   ]
  },
  {
   "cell_type": "code",
   "execution_count": 180,
   "id": "c12afc06",
   "metadata": {},
   "outputs": [
    {
     "name": "stdout",
     "output_type": "stream",
     "text": [
      "ADF Statistic: -2.0782880343739802\n",
      "p-value: 0.25333422885261947\n"
     ]
    }
   ],
   "source": [
    "ad_fuller_result = adfuller(data2['CC'])\n",
    "print(f'ADF Statistic: {ad_fuller_result[0]}')\n",
    "print(f'p-value: {ad_fuller_result[1]}')"
   ]
  },
  {
   "cell_type": "code",
   "execution_count": 181,
   "id": "eaf611a7",
   "metadata": {},
   "outputs": [],
   "source": [
    "data2['CC'] = np.log(data2['CC'])\n",
    "data2['CC_log_diff'] = data2['CC'] - data2['CC'].shift(1)"
   ]
  },
  {
   "cell_type": "code",
   "execution_count": 182,
   "id": "d64b56bf",
   "metadata": {},
   "outputs": [],
   "source": [
    "data2 = data2.dropna()"
   ]
  },
  {
   "cell_type": "code",
   "execution_count": 183,
   "id": "35ed44ed",
   "metadata": {},
   "outputs": [
    {
     "name": "stdout",
     "output_type": "stream",
     "text": [
      "ADF Statistic: -6.544258447027843\n",
      "p-value: 9.183072675050473e-09\n"
     ]
    }
   ],
   "source": [
    "ad_fuller_result = adfuller(data2['CC_log_diff'])\n",
    "print(f'ADF Statistic: {ad_fuller_result[0]}')\n",
    "print(f'p-value: {ad_fuller_result[1]}')"
   ]
  },
  {
   "cell_type": "code",
   "execution_count": 184,
   "id": "9080bbb0",
   "metadata": {},
   "outputs": [
    {
     "data": {
      "text/plain": [
       "[<matplotlib.lines.Line2D at 0x22d0837bc10>]"
      ]
     },
     "execution_count": 184,
     "metadata": {},
     "output_type": "execute_result"
    },
    {
     "data": {
      "image/png": "[encoded data removed]",
      "text/plain": [
       "<Figure size 720x360 with 1 Axes>"
      ]
     },
     "metadata": {
      "needs_background": "light"
     },
     "output_type": "display_data"
    }
   ],
   "source": [
    "plt.plot(data2['CC_log_diff'])"
   ]
  },
  {
   "cell_type": "code",
   "execution_count": 185,
   "id": "65729003",
   "metadata": {},
   "outputs": [
    {
     "data": {
      "image/png": "[encoded data removed]",
      "text/plain": [
       "<Figure size 720x360 with 1 Axes>"
      ]
     },
     "metadata": {
      "needs_background": "light"
     },
     "output_type": "display_data"
    }
   ],
   "source": [
    "sm.graphics.tsa.plot_acf(data2['CC_log_diff'].values.squeeze(), lags=40)\n",
    "plt.show()"
   ]
  },
  {
   "cell_type": "code",
   "execution_count": 186,
   "id": "d8e6554f",
   "metadata": {},
   "outputs": [
    {
     "name": "stderr",
     "output_type": "stream",
     "text": [
      "C:\\ProgramData\\Anaconda3\\lib\\site-packages\\statsmodels\\graphics\\tsaplots.py:348: FutureWarning: The default method 'yw' can produce PACF values outside of the [-1,1] interval. After 0.13, the default will change tounadjusted Yule-Walker ('ywm'). You can use this method now by setting method='ywm'.\n",
      "  warnings.warn(\n"
     ]
    },
    {
     "data": {
      "image/png": "[encoded data removed]",
      "text/plain": [
       "<Figure size 720x360 with 1 Axes>"
      ]
     },
     "metadata": {
      "needs_background": "light"
     },
     "output_type": "display_data"
    }
   ],
   "source": [
    "sm.graphics.tsa.plot_pacf(data2['CC_log_diff'].values.squeeze(), lags=40)\n",
    "plt.show()"
   ]
  },
  {
   "cell_type": "code",
   "execution_count": 187,
   "id": "73c127bf",
   "metadata": {},
   "outputs": [],
   "source": [
    "# p can be 1\n",
    "# q value can be 2\n",
    "# D value can be 1"
   ]
  },
  {
   "cell_type": "code",
   "execution_count": 188,
   "id": "0812a1e9",
   "metadata": {},
   "outputs": [
    {
     "data": {
      "text/plain": [
       "Date\n",
       "2019-03-27   -6.089445\n",
       "2019-03-28   -5.441418\n",
       "2019-03-29   -5.051457\n",
       "2019-03-30   -4.771618\n",
       "2019-03-31   -4.553210\n",
       "2019-04-01   -4.374058\n",
       "2019-04-02   -4.222178\n",
       "2019-04-03   -4.090353\n",
       "2019-04-04   -3.973898\n",
       "2019-04-05   -3.869602\n",
       "2019-04-06   -3.775164\n",
       "2019-04-07   -3.688879\n",
       "2019-04-08   -2.030651\n",
       "2019-04-09   -1.437588\n",
       "2019-04-10   -1.067841\n",
       "2019-04-11   -0.798508\n",
       "2019-04-12   -0.586537\n",
       "2019-04-13   -0.411735\n",
       "2019-04-14   -0.262989\n",
       "2019-04-15   -0.133531\n",
       "2019-04-16   -0.018928\n",
       "2019-04-17    0.083881\n",
       "2019-04-18    0.177100\n",
       "2019-04-19    0.262364\n",
       "2019-04-20    1.065400\n",
       "2019-04-21    1.504966\n",
       "2019-04-22    1.809272\n",
       "2019-04-23    2.042259\n",
       "2019-04-24    2.231089\n",
       "2019-04-25    2.389863\n",
       "2019-04-26    2.526848\n",
       "2019-04-27    2.647309\n",
       "2019-04-28    2.754807\n",
       "2019-04-29    2.851862\n",
       "2019-04-30    3.014145\n",
       "2019-05-01    3.153733\n",
       "2019-05-02    3.276201\n",
       "2019-05-03    3.385294\n",
       "2019-05-04    3.483647\n",
       "2019-05-05    3.573188\n",
       "2019-05-06    3.622840\n",
       "2019-05-07    3.670143\n",
       "2019-05-08    3.715308\n",
       "2019-05-09    3.758522\n",
       "2019-05-10    3.799946\n",
       "2019-05-11    3.839721\n",
       "2019-05-12    3.877975\n",
       "2019-05-13    3.914819\n",
       "2019-05-14    3.943360\n",
       "2019-05-15    3.971109\n",
       "Name: CC, dtype: float64"
      ]
     },
     "execution_count": 188,
     "metadata": {},
     "output_type": "execute_result"
    }
   ],
   "source": [
    "train_data = data2[:50]\n",
    "train_data_1 = train_data['CC']\n",
    "train_data_1"
   ]
  },
  {
   "cell_type": "code",
   "execution_count": 189,
   "id": "856883e1",
   "metadata": {},
   "outputs": [
    {
     "name": "stderr",
     "output_type": "stream",
     "text": [
      "C:\\ProgramData\\Anaconda3\\lib\\site-packages\\statsmodels\\tsa\\base\\tsa_model.py:471: ValueWarning: No frequency information was provided, so inferred frequency D will be used.\n",
      "  self._init_dates(dates, freq)\n",
      "C:\\ProgramData\\Anaconda3\\lib\\site-packages\\statsmodels\\tsa\\base\\tsa_model.py:471: ValueWarning: No frequency information was provided, so inferred frequency D will be used.\n",
      "  self._init_dates(dates, freq)\n",
      "C:\\ProgramData\\Anaconda3\\lib\\site-packages\\statsmodels\\tsa\\base\\tsa_model.py:471: ValueWarning: No frequency information was provided, so inferred frequency D will be used.\n",
      "  self._init_dates(dates, freq)\n",
      "C:\\ProgramData\\Anaconda3\\lib\\site-packages\\statsmodels\\tsa\\statespace\\sarimax.py:978: UserWarning: Non-invertible starting MA parameters found. Using zeros as starting parameters.\n",
      "  warn('Non-invertible starting MA parameters found.'\n"
     ]
    }
   ],
   "source": [
    "from math import sqrt\n",
    "from multiprocessing import cpu_count\n",
    "from joblib import Parallel\n",
    "from joblib import delayed\n",
    "from warnings import catch_warnings\n",
    "from warnings import filterwarnings\n",
    "from statsmodels.tsa.statespace.sarimax import SARIMAX\n",
    "from sklearn.metrics import mean_squared_error\n",
    "from statsmodels.tsa.arima.model import ARIMA\n",
    "model = ARIMA(train_data_1, order = (12,1,12))\n",
    "model_fit = model.fit()"
   ]
  },
  {
   "cell_type": "code",
   "execution_count": 190,
   "id": "addd8488",
   "metadata": {},
   "outputs": [
    {
     "name": "stdout",
     "output_type": "stream",
     "text": [
      "                               SARIMAX Results                                \n",
      "==============================================================================\n",
      "Dep. Variable:                     CC   No. Observations:                   50\n",
      "Model:               ARIMA(12, 1, 12)   Log Likelihood              -26253.723\n",
      "Date:                Wed, 03 Aug 2022   AIC                          52557.446\n",
      "Time:                        12:35:15   BIC                          52604.742\n",
      "Sample:                    03-27-2019   HQIC                         52575.390\n",
      "                         - 05-15-2019                                         \n",
      "Covariance Type:                  opg                                         \n",
      "==============================================================================\n",
      "                 coef    std err          z      P>|z|      [0.025      0.975]\n",
      "------------------------------------------------------------------------------\n",
      "ar.L1          0.1169      0.056      2.076      0.038       0.007       0.227\n",
      "ar.L2          0.7114      0.046     15.305      0.000       0.620       0.803\n",
      "ar.L3          0.6809      0.067     10.149      0.000       0.549       0.812\n",
      "ar.L4         -0.1838      0.051     -3.580      0.000      -0.284      -0.083\n",
      "ar.L5         -0.0653      0.042     -1.567      0.117      -0.147       0.016\n",
      "ar.L6         -0.5142      0.047    -11.044      0.000      -0.605      -0.423\n",
      "ar.L7          0.0060      0.013      0.459      0.646      -0.020       0.032\n",
      "ar.L8          0.2700      0.032      8.316      0.000       0.206       0.334\n",
      "ar.L9          0.2883      0.023     12.671      0.000       0.244       0.333\n",
      "ar.L10        -0.0493      0.013     -3.910      0.000      -0.074      -0.025\n",
      "ar.L11        -0.0173      0.020     -0.874      0.382      -0.056       0.022\n",
      "ar.L12        -0.2486      0.008    -32.661      0.000      -0.264      -0.234\n",
      "ma.L1      -3.217e-05      0.057     -0.001      1.000      -0.111       0.111\n",
      "ma.L2      -3.229e-05      0.042     -0.001      0.999      -0.081       0.081\n",
      "ma.L3       -3.21e-05      0.031     -0.001      0.999      -0.061       0.061\n",
      "ma.L4      -3.206e-05      0.054     -0.001      1.000      -0.106       0.106\n",
      "ma.L5      -3.202e-05      0.022     -0.001      0.999      -0.043       0.043\n",
      "ma.L6      -3.195e-05      0.023     -0.001      0.999      -0.046       0.046\n",
      "ma.L7       -3.19e-05      0.009     -0.003      0.997      -0.018       0.018\n",
      "ma.L8      -3.171e-05      0.019     -0.002      0.999      -0.038       0.038\n",
      "ma.L9      -3.171e-05      0.007     -0.004      0.997      -0.014       0.014\n",
      "ma.L10     -3.156e-05      0.015     -0.002      0.998      -0.029       0.029\n",
      "ma.L11     -3.137e-05      0.017     -0.002      0.998      -0.033       0.033\n",
      "ma.L12     -3.126e-05      0.004     -0.007      0.994      -0.008       0.008\n",
      "sigma2         0.0002   2.07e-07    729.221      0.000       0.000       0.000\n",
      "===================================================================================\n",
      "Ljung-Box (L1) (Q):                   5.21   Jarque-Bera (JB):                65.17\n",
      "Prob(Q):                              0.02   Prob(JB):                         0.00\n",
      "Heteroskedasticity (H):               0.00   Skew:                             0.86\n",
      "Prob(H) (two-sided):                  0.00   Kurtosis:                         8.38\n",
      "===================================================================================\n",
      "\n",
      "Warnings:\n",
      "[1] Covariance matrix calculated using the outer product of gradients (complex-step).\n"
     ]
    }
   ],
   "source": [
    "print (model_fit.summary())"
   ]
  },
  {
   "cell_type": "code",
   "execution_count": 191,
   "id": "f597b940",
   "metadata": {},
   "outputs": [
    {
     "data": {
      "text/plain": [
       "<AxesSubplot:xlabel='Date'>"
      ]
     },
     "execution_count": 191,
     "metadata": {},
     "output_type": "execute_result"
    },
    {
     "data": {
      "image/png": "[encoded data removed]",
      "text/plain": [
       "<Figure size 720x360 with 1 Axes>"
      ]
     },
     "metadata": {
      "needs_background": "light"
     },
     "output_type": "display_data"
    }
   ],
   "source": [
    "from pandas import DataFrame\n",
    "residuals = DataFrame(model_fit.resid)\n",
    "residuals.plot()"
   ]
  },
  {
   "cell_type": "code",
   "execution_count": 192,
   "id": "185a8660",
   "metadata": {},
   "outputs": [
    {
     "data": {
      "text/plain": [
       "<AxesSubplot:ylabel='Density'>"
      ]
     },
     "execution_count": 192,
     "metadata": {},
     "output_type": "execute_result"
    },
    {
     "data": {
      "image/png": "[encoded data removed]",
      "text/plain": [
       "<Figure size 720x360 with 1 Axes>"
      ]
     },
     "metadata": {
      "needs_background": "light"
     },
     "output_type": "display_data"
    }
   ],
   "source": [
    "residuals.plot(kind='kde')"
   ]
  },
  {
   "cell_type": "code",
   "execution_count": 193,
   "id": "f2baed19",
   "metadata": {},
   "outputs": [
    {
     "data": {
      "text/html": [
       "<div>\n",
       "<style scoped>\n",
       "    .dataframe tbody tr th:only-of-type {\n",
       "        vertical-align: middle;\n",
       "    }\n",
       "\n",
       "    .dataframe tbody tr th {\n",
       "        vertical-align: top;\n",
       "    }\n",
       "\n",
       "    .dataframe thead th {\n",
       "        text-align: right;\n",
       "    }\n",
       "</style>\n",
       "<table border=\"1\" class=\"dataframe\">\n",
       "  <thead>\n",
       "    <tr style=\"text-align: right;\">\n",
       "      <th></th>\n",
       "      <th>0</th>\n",
       "    </tr>\n",
       "  </thead>\n",
       "  <tbody>\n",
       "    <tr>\n",
       "      <th>count</th>\n",
       "      <td>50.000000</td>\n",
       "    </tr>\n",
       "    <tr>\n",
       "      <th>mean</th>\n",
       "      <td>-0.116475</td>\n",
       "    </tr>\n",
       "    <tr>\n",
       "      <th>std</th>\n",
       "      <td>0.959428</td>\n",
       "    </tr>\n",
       "    <tr>\n",
       "      <th>min</th>\n",
       "      <td>-6.089445</td>\n",
       "    </tr>\n",
       "    <tr>\n",
       "      <th>25%</th>\n",
       "      <td>-0.128246</td>\n",
       "    </tr>\n",
       "    <tr>\n",
       "      <th>50%</th>\n",
       "      <td>-0.000061</td>\n",
       "    </tr>\n",
       "    <tr>\n",
       "      <th>75%</th>\n",
       "      <td>0.044929</td>\n",
       "    </tr>\n",
       "    <tr>\n",
       "      <th>max</th>\n",
       "      <td>1.622362</td>\n",
       "    </tr>\n",
       "  </tbody>\n",
       "</table>\n",
       "</div>"
      ],
      "text/plain": [
       "               0\n",
       "count  50.000000\n",
       "mean   -0.116475\n",
       "std     0.959428\n",
       "min    -6.089445\n",
       "25%    -0.128246\n",
       "50%    -0.000061\n",
       "75%     0.044929\n",
       "max     1.622362"
      ]
     },
     "execution_count": 193,
     "metadata": {},
     "output_type": "execute_result"
    }
   ],
   "source": [
    "residuals.describe()"
   ]
  },
  {
   "cell_type": "code",
   "execution_count": 199,
   "id": "d32413f4",
   "metadata": {},
   "outputs": [
    {
     "data": {
      "text/plain": [
       "Date\n",
       "2019-05-16    3.998109\n",
       "2019-05-17    4.024399\n",
       "2019-05-18    4.050015\n",
       "2019-05-19    4.074992\n",
       "2019-05-20    4.095725\n",
       "2019-05-21    4.116036\n",
       "2019-05-22    4.135943\n",
       "2019-05-23    4.155462\n",
       "2019-05-24    4.174607\n",
       "2019-05-25    4.193392\n",
       "2019-05-26    4.211831\n",
       "2019-05-27    4.228626\n",
       "2019-05-28    4.245143\n",
       "2019-05-29    4.261391\n",
       "2019-05-30    4.277380\n",
       "2019-05-31    4.293117\n",
       "2019-06-01    4.308611\n",
       "2019-06-02    4.323868\n",
       "2019-06-03    4.339184\n",
       "2019-06-04    4.354270\n",
       "Name: CC, dtype: float64"
      ]
     },
     "execution_count": 199,
     "metadata": {},
     "output_type": "execute_result"
    }
   ],
   "source": [
    "test_data = data2[50:60]\n",
    "test_data_1 = test_data['CC']\n",
    "test_data_1"
   ]
  },
  {
   "cell_type": "code",
   "execution_count": 200,
   "id": "e066d0d0",
   "metadata": {},
   "outputs": [
    {
     "data": {
      "text/plain": [
       "2019-05-16    3.986461\n",
       "2019-05-17    3.997195\n",
       "2019-05-18    4.009438\n",
       "2019-05-19    4.011290\n",
       "2019-05-20    4.016215\n",
       "2019-05-21    4.016928\n",
       "2019-05-22    4.016554\n",
       "2019-05-23    4.017157\n",
       "2019-05-24    4.010780\n",
       "2019-05-25    4.005178\n",
       "2019-05-26    3.995965\n",
       "2019-05-27    3.982473\n",
       "2019-05-28    3.969115\n",
       "2019-05-29    3.951455\n",
       "2019-05-30    3.932827\n",
       "2019-05-31    3.914387\n",
       "2019-06-01    3.892228\n",
       "2019-06-02    3.871283\n",
       "2019-06-03    3.848173\n",
       "2019-06-04    3.823024\n",
       "Freq: D, Name: predicted_mean, dtype: float64"
      ]
     },
     "execution_count": 200,
     "metadata": {},
     "output_type": "execute_result"
    }
   ],
   "source": [
    "model_pred = model_fit.forecast(steps = 10)\n",
    "model_pred"
   ]
  },
  {
   "cell_type": "code",
   "execution_count": 201,
   "id": "48d39b0a",
   "metadata": {},
   "outputs": [
    {
     "name": "stdout",
     "output_type": "stream",
     "text": [
      "2019-05-16    53.863917\n",
      "2019-05-17    54.445224\n",
      "2019-05-18    55.115873\n",
      "2019-05-19    55.218061\n",
      "2019-05-20    55.490671\n",
      "2019-05-21    55.530247\n",
      "2019-05-22    55.509477\n",
      "2019-05-23    55.542958\n",
      "2019-05-24    55.189878\n",
      "2019-05-25    54.881604\n",
      "2019-05-26    54.378309\n",
      "2019-05-27    53.649562\n",
      "2019-05-28    52.937638\n",
      "2019-05-29    52.010998\n",
      "2019-05-30    51.051119\n",
      "2019-05-31    50.118360\n",
      "2019-06-01    49.019985\n",
      "2019-06-02    48.003941\n",
      "2019-06-03    46.907268\n",
      "2019-06-04    45.742331\n",
      "Freq: D, Name: predicted_mean, dtype: float64\n",
      "Date\n",
      "2019-05-16    54.495000\n",
      "2019-05-17    55.946667\n",
      "2019-05-18    57.398333\n",
      "2019-05-19    58.850000\n",
      "2019-05-20    60.082857\n",
      "2019-05-21    61.315714\n",
      "2019-05-22    62.548571\n",
      "2019-05-23    63.781429\n",
      "2019-05-24    65.014286\n",
      "2019-05-25    66.247143\n",
      "2019-05-26    67.480000\n",
      "2019-05-27    68.622857\n",
      "2019-05-28    69.765714\n",
      "2019-05-29    70.908571\n",
      "2019-05-30    72.051429\n",
      "2019-05-31    73.194286\n",
      "2019-06-01    74.337143\n",
      "2019-06-02    75.480000\n",
      "2019-06-03    76.645000\n",
      "2019-06-04    77.810000\n",
      "Name: CC, dtype: float64\n",
      "Test RMSE: 16.937\n"
     ]
    }
   ],
   "source": [
    "from sklearn.metrics import mean_squared_error\n",
    "from math import sqrt\n",
    "model_pred_1 = np.exp(model_pred)\n",
    "test_data_2 = np.exp(test_data_1)\n",
    "print (model_pred_1)\n",
    "print (test_data_2)\n",
    "rmse = sqrt(mean_squared_error(test_data_2, model_pred_1))\n",
    "print('Test RMSE: %.3f' % rmse)"
   ]
  }
 ],
 "metadata": {
  "kernelspec": {
   "display_name": "Python 3 (ipykernel)",
   "language": "python",
   "name": "python3"
  },
  "language_info": {
   "codemirror_mode": {
    "name": "ipython",
    "version": 3
   },
   "file_extension": ".py",
   "mimetype": "text/x-python",
   "name": "python",
   "nbconvert_exporter": "python",
   "pygments_lexer": "ipython3",
   "version": "3.9.12"
  }
 },
 "nbformat": 4,
 "nbformat_minor": 5
}
