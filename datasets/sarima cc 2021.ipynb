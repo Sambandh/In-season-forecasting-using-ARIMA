{
 "cells": [
  {
   "cell_type": "code",
   "execution_count": 1109,
   "id": "ee644ca7",
   "metadata": {},
   "outputs": [],
   "source": [
    "import numpy as np\n",
    "import matplotlib.pyplot as plt\n",
    "import pandas as pd"
   ]
  },
  {
   "cell_type": "code",
   "execution_count": 1110,
   "id": "03f04c50",
   "metadata": {},
   "outputs": [],
   "source": [
    "f4 = pd.read_csv(\"C:/Users/samba/OneDrive/Desktop/TAMU CORPUS/Driscoll/sarima/datasets/CC_2021.csv\")"
   ]
  },
  {
   "cell_type": "code",
   "execution_count": 1111,
   "id": "4ebeea97",
   "metadata": {},
   "outputs": [],
   "source": [
    "f4['Date'] = pd.to_datetime(f4['Date'])"
   ]
  },
  {
   "cell_type": "code",
   "execution_count": 1112,
   "id": "26665571",
   "metadata": {},
   "outputs": [],
   "source": [
    "from datetime import datetime, timedelta\n",
    "import matplotlib.pyplot as plt\n",
    "import numpy as np\n",
    "import pandas as pd\n",
    "import statsmodels.api as sm\n",
    "from statsmodels.tsa.stattools import adfuller, kpss\n",
    "from statsmodels.tsa.api import ExponentialSmoothing"
   ]
  },
  {
   "cell_type": "code",
   "execution_count": 1113,
   "id": "ecd27b3f",
   "metadata": {},
   "outputs": [
    {
     "data": {
      "text/html": [
       "<div>\n",
       "<style scoped>\n",
       "    .dataframe tbody tr th:only-of-type {\n",
       "        vertical-align: middle;\n",
       "    }\n",
       "\n",
       "    .dataframe tbody tr th {\n",
       "        vertical-align: top;\n",
       "    }\n",
       "\n",
       "    .dataframe thead th {\n",
       "        text-align: right;\n",
       "    }\n",
       "</style>\n",
       "<table border=\"1\" class=\"dataframe\">\n",
       "  <thead>\n",
       "    <tr style=\"text-align: right;\">\n",
       "      <th></th>\n",
       "      <th>Date</th>\n",
       "      <th>CC</th>\n",
       "    </tr>\n",
       "  </thead>\n",
       "  <tbody>\n",
       "    <tr>\n",
       "      <th>0</th>\n",
       "      <td>2021-03-26</td>\n",
       "      <td>0.0032</td>\n",
       "    </tr>\n",
       "    <tr>\n",
       "      <th>1</th>\n",
       "      <td>2021-03-27</td>\n",
       "      <td>0.0221</td>\n",
       "    </tr>\n",
       "    <tr>\n",
       "      <th>2</th>\n",
       "      <td>2021-03-28</td>\n",
       "      <td>0.0410</td>\n",
       "    </tr>\n",
       "    <tr>\n",
       "      <th>3</th>\n",
       "      <td>2021-03-29</td>\n",
       "      <td>0.0599</td>\n",
       "    </tr>\n",
       "    <tr>\n",
       "      <th>4</th>\n",
       "      <td>2021-03-30</td>\n",
       "      <td>0.0788</td>\n",
       "    </tr>\n",
       "    <tr>\n",
       "      <th>...</th>\n",
       "      <td>...</td>\n",
       "      <td>...</td>\n",
       "    </tr>\n",
       "    <tr>\n",
       "      <th>111</th>\n",
       "      <td>2021-07-15</td>\n",
       "      <td>92.3780</td>\n",
       "    </tr>\n",
       "    <tr>\n",
       "      <th>112</th>\n",
       "      <td>2021-07-16</td>\n",
       "      <td>92.9260</td>\n",
       "    </tr>\n",
       "    <tr>\n",
       "      <th>113</th>\n",
       "      <td>2021-07-17</td>\n",
       "      <td>93.4740</td>\n",
       "    </tr>\n",
       "    <tr>\n",
       "      <th>114</th>\n",
       "      <td>2021-07-18</td>\n",
       "      <td>94.0220</td>\n",
       "    </tr>\n",
       "    <tr>\n",
       "      <th>115</th>\n",
       "      <td>2021-07-19</td>\n",
       "      <td>94.5700</td>\n",
       "    </tr>\n",
       "  </tbody>\n",
       "</table>\n",
       "<p>116 rows × 2 columns</p>\n",
       "</div>"
      ],
      "text/plain": [
       "          Date       CC\n",
       "0   2021-03-26   0.0032\n",
       "1   2021-03-27   0.0221\n",
       "2   2021-03-28   0.0410\n",
       "3   2021-03-29   0.0599\n",
       "4   2021-03-30   0.0788\n",
       "..         ...      ...\n",
       "111 2021-07-15  92.3780\n",
       "112 2021-07-16  92.9260\n",
       "113 2021-07-17  93.4740\n",
       "114 2021-07-18  94.0220\n",
       "115 2021-07-19  94.5700\n",
       "\n",
       "[116 rows x 2 columns]"
      ]
     },
     "execution_count": 1113,
     "metadata": {},
     "output_type": "execute_result"
    }
   ],
   "source": [
    "f4"
   ]
  },
  {
   "cell_type": "code",
   "execution_count": 1114,
   "id": "96c69673",
   "metadata": {},
   "outputs": [],
   "source": [
    "data2 = f4[0:35].copy()"
   ]
  },
  {
   "cell_type": "code",
   "execution_count": 1115,
   "id": "6593ac7b",
   "metadata": {},
   "outputs": [
    {
     "data": {
      "text/html": [
       "<div>\n",
       "<style scoped>\n",
       "    .dataframe tbody tr th:only-of-type {\n",
       "        vertical-align: middle;\n",
       "    }\n",
       "\n",
       "    .dataframe tbody tr th {\n",
       "        vertical-align: top;\n",
       "    }\n",
       "\n",
       "    .dataframe thead th {\n",
       "        text-align: right;\n",
       "    }\n",
       "</style>\n",
       "<table border=\"1\" class=\"dataframe\">\n",
       "  <thead>\n",
       "    <tr style=\"text-align: right;\">\n",
       "      <th></th>\n",
       "      <th>Date</th>\n",
       "      <th>CC</th>\n",
       "    </tr>\n",
       "  </thead>\n",
       "  <tbody>\n",
       "    <tr>\n",
       "      <th>0</th>\n",
       "      <td>2021-03-26</td>\n",
       "      <td>0.0032</td>\n",
       "    </tr>\n",
       "    <tr>\n",
       "      <th>1</th>\n",
       "      <td>2021-03-27</td>\n",
       "      <td>0.0221</td>\n",
       "    </tr>\n",
       "    <tr>\n",
       "      <th>2</th>\n",
       "      <td>2021-03-28</td>\n",
       "      <td>0.0410</td>\n",
       "    </tr>\n",
       "    <tr>\n",
       "      <th>3</th>\n",
       "      <td>2021-03-29</td>\n",
       "      <td>0.0599</td>\n",
       "    </tr>\n",
       "    <tr>\n",
       "      <th>4</th>\n",
       "      <td>2021-03-30</td>\n",
       "      <td>0.0788</td>\n",
       "    </tr>\n",
       "    <tr>\n",
       "      <th>5</th>\n",
       "      <td>2021-03-31</td>\n",
       "      <td>0.0977</td>\n",
       "    </tr>\n",
       "    <tr>\n",
       "      <th>6</th>\n",
       "      <td>2021-04-01</td>\n",
       "      <td>0.1166</td>\n",
       "    </tr>\n",
       "    <tr>\n",
       "      <th>7</th>\n",
       "      <td>2021-04-02</td>\n",
       "      <td>0.1355</td>\n",
       "    </tr>\n",
       "    <tr>\n",
       "      <th>8</th>\n",
       "      <td>2021-04-03</td>\n",
       "      <td>0.1544</td>\n",
       "    </tr>\n",
       "    <tr>\n",
       "      <th>9</th>\n",
       "      <td>2021-04-04</td>\n",
       "      <td>0.1733</td>\n",
       "    </tr>\n",
       "    <tr>\n",
       "      <th>10</th>\n",
       "      <td>2021-04-05</td>\n",
       "      <td>0.1922</td>\n",
       "    </tr>\n",
       "    <tr>\n",
       "      <th>11</th>\n",
       "      <td>2021-04-06</td>\n",
       "      <td>0.2111</td>\n",
       "    </tr>\n",
       "    <tr>\n",
       "      <th>12</th>\n",
       "      <td>2021-04-07</td>\n",
       "      <td>0.2300</td>\n",
       "    </tr>\n",
       "    <tr>\n",
       "      <th>13</th>\n",
       "      <td>2021-04-08</td>\n",
       "      <td>0.9600</td>\n",
       "    </tr>\n",
       "    <tr>\n",
       "      <th>14</th>\n",
       "      <td>2021-04-09</td>\n",
       "      <td>1.6900</td>\n",
       "    </tr>\n",
       "    <tr>\n",
       "      <th>15</th>\n",
       "      <td>2021-04-10</td>\n",
       "      <td>2.4200</td>\n",
       "    </tr>\n",
       "    <tr>\n",
       "      <th>16</th>\n",
       "      <td>2021-04-11</td>\n",
       "      <td>3.1500</td>\n",
       "    </tr>\n",
       "    <tr>\n",
       "      <th>17</th>\n",
       "      <td>2021-04-12</td>\n",
       "      <td>3.8800</td>\n",
       "    </tr>\n",
       "    <tr>\n",
       "      <th>18</th>\n",
       "      <td>2021-04-13</td>\n",
       "      <td>4.6100</td>\n",
       "    </tr>\n",
       "    <tr>\n",
       "      <th>19</th>\n",
       "      <td>2021-04-14</td>\n",
       "      <td>5.3400</td>\n",
       "    </tr>\n",
       "    <tr>\n",
       "      <th>20</th>\n",
       "      <td>2021-04-15</td>\n",
       "      <td>6.0700</td>\n",
       "    </tr>\n",
       "    <tr>\n",
       "      <th>21</th>\n",
       "      <td>2021-04-16</td>\n",
       "      <td>6.8000</td>\n",
       "    </tr>\n",
       "    <tr>\n",
       "      <th>22</th>\n",
       "      <td>2021-04-17</td>\n",
       "      <td>7.5300</td>\n",
       "    </tr>\n",
       "    <tr>\n",
       "      <th>23</th>\n",
       "      <td>2021-04-18</td>\n",
       "      <td>8.2600</td>\n",
       "    </tr>\n",
       "    <tr>\n",
       "      <th>24</th>\n",
       "      <td>2021-04-19</td>\n",
       "      <td>8.9900</td>\n",
       "    </tr>\n",
       "    <tr>\n",
       "      <th>25</th>\n",
       "      <td>2021-04-20</td>\n",
       "      <td>9.5400</td>\n",
       "    </tr>\n",
       "    <tr>\n",
       "      <th>26</th>\n",
       "      <td>2021-04-21</td>\n",
       "      <td>10.0900</td>\n",
       "    </tr>\n",
       "    <tr>\n",
       "      <th>27</th>\n",
       "      <td>2021-04-22</td>\n",
       "      <td>10.6400</td>\n",
       "    </tr>\n",
       "    <tr>\n",
       "      <th>28</th>\n",
       "      <td>2021-04-23</td>\n",
       "      <td>11.1900</td>\n",
       "    </tr>\n",
       "    <tr>\n",
       "      <th>29</th>\n",
       "      <td>2021-04-24</td>\n",
       "      <td>11.7400</td>\n",
       "    </tr>\n",
       "    <tr>\n",
       "      <th>30</th>\n",
       "      <td>2021-04-25</td>\n",
       "      <td>12.2900</td>\n",
       "    </tr>\n",
       "    <tr>\n",
       "      <th>31</th>\n",
       "      <td>2021-04-26</td>\n",
       "      <td>12.8400</td>\n",
       "    </tr>\n",
       "    <tr>\n",
       "      <th>32</th>\n",
       "      <td>2021-04-27</td>\n",
       "      <td>13.3900</td>\n",
       "    </tr>\n",
       "    <tr>\n",
       "      <th>33</th>\n",
       "      <td>2021-04-28</td>\n",
       "      <td>13.9400</td>\n",
       "    </tr>\n",
       "    <tr>\n",
       "      <th>34</th>\n",
       "      <td>2021-04-29</td>\n",
       "      <td>14.4900</td>\n",
       "    </tr>\n",
       "  </tbody>\n",
       "</table>\n",
       "</div>"
      ],
      "text/plain": [
       "         Date       CC\n",
       "0  2021-03-26   0.0032\n",
       "1  2021-03-27   0.0221\n",
       "2  2021-03-28   0.0410\n",
       "3  2021-03-29   0.0599\n",
       "4  2021-03-30   0.0788\n",
       "5  2021-03-31   0.0977\n",
       "6  2021-04-01   0.1166\n",
       "7  2021-04-02   0.1355\n",
       "8  2021-04-03   0.1544\n",
       "9  2021-04-04   0.1733\n",
       "10 2021-04-05   0.1922\n",
       "11 2021-04-06   0.2111\n",
       "12 2021-04-07   0.2300\n",
       "13 2021-04-08   0.9600\n",
       "14 2021-04-09   1.6900\n",
       "15 2021-04-10   2.4200\n",
       "16 2021-04-11   3.1500\n",
       "17 2021-04-12   3.8800\n",
       "18 2021-04-13   4.6100\n",
       "19 2021-04-14   5.3400\n",
       "20 2021-04-15   6.0700\n",
       "21 2021-04-16   6.8000\n",
       "22 2021-04-17   7.5300\n",
       "23 2021-04-18   8.2600\n",
       "24 2021-04-19   8.9900\n",
       "25 2021-04-20   9.5400\n",
       "26 2021-04-21  10.0900\n",
       "27 2021-04-22  10.6400\n",
       "28 2021-04-23  11.1900\n",
       "29 2021-04-24  11.7400\n",
       "30 2021-04-25  12.2900\n",
       "31 2021-04-26  12.8400\n",
       "32 2021-04-27  13.3900\n",
       "33 2021-04-28  13.9400\n",
       "34 2021-04-29  14.4900"
      ]
     },
     "execution_count": 1115,
     "metadata": {},
     "output_type": "execute_result"
    }
   ],
   "source": [
    "data2"
   ]
  },
  {
   "cell_type": "code",
   "execution_count": 1116,
   "id": "8e0215f8",
   "metadata": {},
   "outputs": [],
   "source": [
    "data2['Date'] = pd.to_datetime(data2['Date'])\n",
    "data2.index = data2['Date']"
   ]
  },
  {
   "cell_type": "code",
   "execution_count": 1117,
   "id": "ecac4c3b",
   "metadata": {},
   "outputs": [],
   "source": [
    "data2.drop(['Date'], axis = 1,inplace = True)"
   ]
  },
  {
   "cell_type": "code",
   "execution_count": 1118,
   "id": "eef0aec4",
   "metadata": {},
   "outputs": [
    {
     "data": {
      "text/plain": [
       "[<matplotlib.lines.Line2D at 0x201ce6bf610>]"
      ]
     },
     "execution_count": 1118,
     "metadata": {},
     "output_type": "execute_result"
    },
    {
     "data": {
      "image/png": "[encoded data removed]",
      "text/plain": [
       "<Figure size 720x360 with 1 Axes>"
      ]
     },
     "metadata": {
      "needs_background": "light"
     },
     "output_type": "display_data"
    }
   ],
   "source": [
    "from matplotlib.pylab import rcParams\n",
    "rcParams['figure.figsize'] = 10,5\n",
    "plt.plot(data2['CC'])"
   ]
  },
  {
   "cell_type": "code",
   "execution_count": 1082,
   "id": "2ba5b972",
   "metadata": {},
   "outputs": [
    {
     "name": "stdout",
     "output_type": "stream",
     "text": [
      "ADF Statistic: 1.932790608308608\n",
      "p-value: 0.9985789866878944\n"
     ]
    }
   ],
   "source": [
    "ad_fuller_result = adfuller(data2['CC'].loc['2021'])\n",
    "print(f'ADF Statistic: {ad_fuller_result[0]}')\n",
    "print(f'p-value: {ad_fuller_result[1]}')"
   ]
  },
  {
   "cell_type": "code",
   "execution_count": 954,
   "id": "f9a4654d",
   "metadata": {},
   "outputs": [],
   "source": [
    "# Diff by 2 value\n",
    "data2['CC_log_1'] = data2['CC'].diff().diff()"
   ]
  },
  {
   "cell_type": "code",
   "execution_count": 1054,
   "id": "b85e8597",
   "metadata": {},
   "outputs": [],
   "source": [
    "# Diff by 1 values\n",
    "data2['CC_log'] = np.log(data2['CC'])\n",
    "data2['CC_log_1'] = np.log(data2['CC']).diff()"
   ]
  },
  {
   "cell_type": "code",
   "execution_count": 1119,
   "id": "c674fa49",
   "metadata": {},
   "outputs": [],
   "source": [
    "# Log and take difference of log\n",
    "data2['CC_log'] = np.log(data2['CC'])\n",
    "data2['CC_log_1'] = data2['CC_log'] - data2['CC_log'].diff()"
   ]
  },
  {
   "cell_type": "code",
   "execution_count": 1120,
   "id": "f6ce0654",
   "metadata": {},
   "outputs": [
    {
     "name": "stdout",
     "output_type": "stream",
     "text": [
      "Date\n",
      "2021-03-26         NaN\n",
      "2021-03-27   -5.744604\n",
      "2021-03-28   -3.812178\n",
      "2021-03-29   -3.194183\n",
      "2021-03-30   -2.815079\n",
      "2021-03-31   -2.540842\n",
      "2021-04-01   -2.325854\n",
      "2021-04-02   -2.149006\n",
      "2021-04-03   -1.998784\n",
      "2021-04-04   -1.868209\n",
      "2021-04-05   -1.752731\n",
      "2021-04-06   -1.649219\n",
      "2021-04-07   -1.555423\n",
      "2021-04-08   -1.469676\n",
      "2021-04-09   -0.040822\n",
      "2021-04-10    0.524729\n",
      "2021-04-11    0.883768\n",
      "2021-04-12    1.147402\n",
      "2021-04-13    1.355835\n",
      "2021-04-14    1.528228\n",
      "2021-04-15    1.675226\n",
      "2021-04-16    1.803359\n",
      "2021-04-17    1.916923\n",
      "2021-04-18    2.018895\n",
      "2021-04-19    2.111425\n",
      "2021-04-20    2.196113\n",
      "2021-04-21    2.255493\n",
      "2021-04-22    2.311545\n",
      "2021-04-23    2.364620\n",
      "2021-04-24    2.415021\n",
      "2021-04-25    2.463002\n",
      "2021-04-26    2.508786\n",
      "2021-04-27    2.552565\n",
      "2021-04-28    2.594508\n",
      "2021-04-29    2.634762\n",
      "Name: CC_log_1, dtype: float64\n"
     ]
    }
   ],
   "source": [
    "print (data2['CC_log_1'])"
   ]
  },
  {
   "cell_type": "code",
   "execution_count": 1121,
   "id": "35ed44ed",
   "metadata": {},
   "outputs": [
    {
     "name": "stdout",
     "output_type": "stream",
     "text": [
      "ADF Statistic: -4.0261255268841545\n",
      "p-value: 0.0012797221915888122\n"
     ]
    }
   ],
   "source": [
    "ad_fuller_result = adfuller(data2['CC_log_1'].dropna())\n",
    "print(f'ADF Statistic: {ad_fuller_result[0]}')\n",
    "print(f'p-value: {ad_fuller_result[1]}')"
   ]
  },
  {
   "cell_type": "code",
   "execution_count": 1122,
   "id": "edae9024",
   "metadata": {},
   "outputs": [],
   "source": [
    "data2 = data2.dropna()"
   ]
  },
  {
   "cell_type": "code",
   "execution_count": 1123,
   "id": "65729003",
   "metadata": {},
   "outputs": [
    {
     "data": {
      "image/png": "[encoded data removed]",
      "text/plain": [
       "<Figure size 720x360 with 1 Axes>"
      ]
     },
     "metadata": {
      "needs_background": "light"
     },
     "output_type": "display_data"
    }
   ],
   "source": [
    "sm.graphics.tsa.plot_acf(data2['CC_log_1'].values.squeeze(), lags=20)\n",
    "plt.show()"
   ]
  },
  {
   "cell_type": "code",
   "execution_count": 1124,
   "id": "d8e6554f",
   "metadata": {},
   "outputs": [
    {
     "name": "stderr",
     "output_type": "stream",
     "text": [
      "C:\\ProgramData\\Anaconda3\\lib\\site-packages\\statsmodels\\graphics\\tsaplots.py:348: FutureWarning: The default method 'yw' can produce PACF values outside of the [-1,1] interval. After 0.13, the default will change tounadjusted Yule-Walker ('ywm'). You can use this method now by setting method='ywm'.\n",
      "  warnings.warn(\n"
     ]
    },
    {
     "data": {
      "image/png": "[encoded data removed]",
      "text/plain": [
       "<Figure size 720x360 with 1 Axes>"
      ]
     },
     "metadata": {
      "needs_background": "light"
     },
     "output_type": "display_data"
    }
   ],
   "source": [
    "sm.graphics.tsa.plot_pacf(data2['CC_log_1'].values.squeeze(), lags=10)\n",
    "plt.show()"
   ]
  },
  {
   "cell_type": "code",
   "execution_count": 686,
   "id": "bfa8c6ff",
   "metadata": {},
   "outputs": [],
   "source": [
    "# p can be 1\n",
    "# ACF is geometric so its an AR process (q = 0)"
   ]
  },
  {
   "cell_type": "code",
   "execution_count": 1125,
   "id": "7710df24",
   "metadata": {},
   "outputs": [],
   "source": [
    "train_data_1 = data2['CC_log']"
   ]
  },
  {
   "cell_type": "code",
   "execution_count": 1126,
   "id": "856883e1",
   "metadata": {},
   "outputs": [
    {
     "name": "stderr",
     "output_type": "stream",
     "text": [
      "C:\\ProgramData\\Anaconda3\\lib\\site-packages\\statsmodels\\tsa\\base\\tsa_model.py:471: ValueWarning: No frequency information was provided, so inferred frequency D will be used.\n",
      "  self._init_dates(dates, freq)\n",
      "C:\\ProgramData\\Anaconda3\\lib\\site-packages\\statsmodels\\tsa\\base\\tsa_model.py:471: ValueWarning: No frequency information was provided, so inferred frequency D will be used.\n",
      "  self._init_dates(dates, freq)\n",
      "C:\\ProgramData\\Anaconda3\\lib\\site-packages\\statsmodels\\tsa\\base\\tsa_model.py:471: ValueWarning: No frequency information was provided, so inferred frequency D will be used.\n",
      "  self._init_dates(dates, freq)\n"
     ]
    }
   ],
   "source": [
    "from math import sqrt\n",
    "from multiprocessing import cpu_count\n",
    "from joblib import Parallel\n",
    "from joblib import delayed\n",
    "from warnings import catch_warnings\n",
    "from warnings import filterwarnings\n",
    "from statsmodels.tsa.statespace.sarimax import SARIMAX\n",
    "from sklearn.metrics import mean_squared_error\n",
    "from statsmodels.tsa.arima.model import ARIMA\n",
    "model = ARIMA(train_data_1, order = (1,1,1))\n",
    "model_fit = model.fit()"
   ]
  },
  {
   "cell_type": "code",
   "execution_count": 1127,
   "id": "5e4acc3b",
   "metadata": {},
   "outputs": [],
   "source": [
    "model_pred = model_fit.forecast(steps = 81)"
   ]
  },
  {
   "cell_type": "code",
   "execution_count": 1128,
   "id": "1e029905",
   "metadata": {},
   "outputs": [
    {
     "data": {
      "text/plain": [
       "2021-04-30    2.704559\n",
       "2021-05-01    2.731963\n",
       "2021-05-02    2.756110\n",
       "2021-05-03    2.777387\n",
       "2021-05-04    2.796135\n",
       "                ...   \n",
       "2021-07-15    2.935107\n",
       "2021-07-16    2.935109\n",
       "2021-07-17    2.935111\n",
       "2021-07-18    2.935112\n",
       "2021-07-19    2.935114\n",
       "Freq: D, Name: predicted_mean, Length: 81, dtype: float64"
      ]
     },
     "execution_count": 1128,
     "metadata": {},
     "output_type": "execute_result"
    }
   ],
   "source": [
    "model_pred"
   ]
  },
  {
   "cell_type": "code",
   "execution_count": 1129,
   "id": "addd8488",
   "metadata": {},
   "outputs": [
    {
     "name": "stdout",
     "output_type": "stream",
     "text": [
      "                               SARIMAX Results                                \n",
      "==============================================================================\n",
      "Dep. Variable:                 CC_log   No. Observations:                   34\n",
      "Model:                 ARIMA(1, 1, 1)   Log Likelihood                  -1.885\n",
      "Date:                Tue, 16 Aug 2022   AIC                              9.771\n",
      "Time:                        12:55:33   BIC                             14.260\n",
      "Sample:                    03-27-2021   HQIC                            11.281\n",
      "                         - 04-29-2021                                         \n",
      "Covariance Type:                  opg                                         \n",
      "==============================================================================\n",
      "                 coef    std err          z      P>|z|      [0.025      0.975]\n",
      "------------------------------------------------------------------------------\n",
      "ar.L1          0.8811      0.417      2.113      0.035       0.064       1.698\n",
      "ma.L1         -0.4777      0.992     -0.482      0.630      -2.422       1.466\n",
      "sigma2         0.0643      0.009      7.413      0.000       0.047       0.081\n",
      "===================================================================================\n",
      "Ljung-Box (L1) (Q):                   0.01   Jarque-Bera (JB):               685.69\n",
      "Prob(Q):                              0.94   Prob(JB):                         0.00\n",
      "Heteroskedasticity (H):               0.00   Skew:                             4.52\n",
      "Prob(H) (two-sided):                  0.00   Kurtosis:                        23.42\n",
      "===================================================================================\n",
      "\n",
      "Warnings:\n",
      "[1] Covariance matrix calculated using the outer product of gradients (complex-step).\n"
     ]
    }
   ],
   "source": [
    "print (model_fit.summary())"
   ]
  },
  {
   "cell_type": "code",
   "execution_count": 1130,
   "id": "f597b940",
   "metadata": {},
   "outputs": [
    {
     "data": {
      "text/plain": [
       "<AxesSubplot:xlabel='Date'>"
      ]
     },
     "execution_count": 1130,
     "metadata": {},
     "output_type": "execute_result"
    },
    {
     "data": {
      "image/png": "[encoded data removed]",
      "text/plain": [
       "<Figure size 720x360 with 1 Axes>"
      ]
     },
     "metadata": {
      "needs_background": "light"
     },
     "output_type": "display_data"
    }
   ],
   "source": [
    "from pandas import DataFrame\n",
    "residuals = DataFrame(model_fit.resid)\n",
    "residuals.plot()"
   ]
  },
  {
   "cell_type": "code",
   "execution_count": 1131,
   "id": "185a8660",
   "metadata": {},
   "outputs": [
    {
     "data": {
      "text/plain": [
       "<AxesSubplot:ylabel='Density'>"
      ]
     },
     "execution_count": 1131,
     "metadata": {},
     "output_type": "execute_result"
    },
    {
     "data": {
      "image/png": "[encoded data removed]",
      "text/plain": [
       "<Figure size 720x360 with 1 Axes>"
      ]
     },
     "metadata": {
      "needs_background": "light"
     },
     "output_type": "display_data"
    }
   ],
   "source": [
    "residuals.plot(kind='kde')"
   ]
  },
  {
   "cell_type": "code",
   "execution_count": 1132,
   "id": "f2baed19",
   "metadata": {},
   "outputs": [
    {
     "data": {
      "text/html": [
       "<div>\n",
       "<style scoped>\n",
       "    .dataframe tbody tr th:only-of-type {\n",
       "        vertical-align: middle;\n",
       "    }\n",
       "\n",
       "    .dataframe tbody tr th {\n",
       "        vertical-align: top;\n",
       "    }\n",
       "\n",
       "    .dataframe thead th {\n",
       "        text-align: right;\n",
       "    }\n",
       "</style>\n",
       "<table border=\"1\" class=\"dataframe\">\n",
       "  <thead>\n",
       "    <tr style=\"text-align: right;\">\n",
       "      <th></th>\n",
       "      <th>0</th>\n",
       "    </tr>\n",
       "  </thead>\n",
       "  <tbody>\n",
       "    <tr>\n",
       "      <th>count</th>\n",
       "      <td>34.000000</td>\n",
       "    </tr>\n",
       "    <tr>\n",
       "      <th>mean</th>\n",
       "      <td>-0.073941</td>\n",
       "    </tr>\n",
       "    <tr>\n",
       "      <th>std</th>\n",
       "      <td>0.709900</td>\n",
       "    </tr>\n",
       "    <tr>\n",
       "      <th>min</th>\n",
       "      <td>-3.812178</td>\n",
       "    </tr>\n",
       "    <tr>\n",
       "      <th>25%</th>\n",
       "      <td>-0.036015</td>\n",
       "    </tr>\n",
       "    <tr>\n",
       "      <th>50%</th>\n",
       "      <td>-0.001982</td>\n",
       "    </tr>\n",
       "    <tr>\n",
       "      <th>75%</th>\n",
       "      <td>0.005254</td>\n",
       "    </tr>\n",
       "    <tr>\n",
       "      <th>max</th>\n",
       "      <td>1.355256</td>\n",
       "    </tr>\n",
       "  </tbody>\n",
       "</table>\n",
       "</div>"
      ],
      "text/plain": [
       "               0\n",
       "count  34.000000\n",
       "mean   -0.073941\n",
       "std     0.709900\n",
       "min    -3.812178\n",
       "25%    -0.036015\n",
       "50%    -0.001982\n",
       "75%     0.005254\n",
       "max     1.355256"
      ]
     },
     "execution_count": 1132,
     "metadata": {},
     "output_type": "execute_result"
    }
   ],
   "source": [
    "residuals.describe()"
   ]
  },
  {
   "cell_type": "code",
   "execution_count": 1133,
   "id": "df766688",
   "metadata": {},
   "outputs": [
    {
     "data": {
      "text/plain": [
       "2021-04-30    14.947728\n",
       "2021-05-01    15.363020\n",
       "2021-05-02    15.738504\n",
       "2021-05-03    16.076958\n",
       "2021-05-04    16.381211\n",
       "                ...    \n",
       "2021-07-15    18.823525\n",
       "2021-07-16    18.823559\n",
       "2021-07-17    18.823590\n",
       "2021-07-18    18.823616\n",
       "2021-07-19    18.823640\n",
       "Freq: D, Name: predicted_mean, Length: 81, dtype: float64"
      ]
     },
     "execution_count": 1133,
     "metadata": {},
     "output_type": "execute_result"
    }
   ],
   "source": [
    "model_pred_1 = np.exp(model_pred)\n",
    "model_pred_1"
   ]
  },
  {
   "cell_type": "code",
   "execution_count": 1098,
   "id": "4fc8201c",
   "metadata": {},
   "outputs": [],
   "source": [
    "test_data = f4['CC'].iloc[42:116]"
   ]
  },
  {
   "cell_type": "code",
   "execution_count": 1099,
   "id": "904c37cf",
   "metadata": {},
   "outputs": [
    {
     "data": {
      "text/plain": [
       "[<matplotlib.lines.Line2D at 0x201ce67ad60>]"
      ]
     },
     "execution_count": 1099,
     "metadata": {},
     "output_type": "execute_result"
    },
    {
     "data": {
      "image/png": "[encoded data removed]",
      "text/plain": [
       "<Figure size 720x360 with 1 Axes>"
      ]
     },
     "metadata": {
      "needs_background": "light"
     },
     "output_type": "display_data"
    }
   ],
   "source": [
    "plt.plot(model_pred_1)"
   ]
  },
  {
   "cell_type": "code",
   "execution_count": 1134,
   "id": "35aedd29",
   "metadata": {},
   "outputs": [],
   "source": [
    "model_pred_1.to_csv('35_day_2021_CC.csv')"
   ]
  },
  {
   "cell_type": "code",
   "execution_count": 1101,
   "id": "d2a14826",
   "metadata": {},
   "outputs": [
    {
     "name": "stdout",
     "output_type": "stream",
     "text": [
      "Test RMSE: 37.428\n"
     ]
    }
   ],
   "source": [
    "from sklearn.metrics import mean_squared_error\n",
    "from math import sqrt\n",
    "rmse = sqrt(mean_squared_error(test_data, model_pred_1))\n",
    "print('Test RMSE: %.3f' % rmse)"
   ]
  }
 ],
 "metadata": {
  "kernelspec": {
   "display_name": "Python 3 (ipykernel)",
   "language": "python",
   "name": "python3"
  },
  "language_info": {
   "codemirror_mode": {
    "name": "ipython",
    "version": 3
   },
   "file_extension": ".py",
   "mimetype": "text/x-python",
   "name": "python",
   "nbconvert_exporter": "python",
   "pygments_lexer": "ipython3",
   "version": "3.9.12"
  }
 },
 "nbformat": 4,
 "nbformat_minor": 5
}
