{
 "cells": [
  {
   "cell_type": "code",
   "execution_count": 88,
   "id": "ee644ca7",
   "metadata": {},
   "outputs": [],
   "source": [
    "import numpy as np\n",
    "import matplotlib.pyplot as plt\n",
    "import pandas as pd"
   ]
  },
  {
   "cell_type": "code",
   "execution_count": 89,
   "id": "38b20822",
   "metadata": {},
   "outputs": [
    {
     "data": {
      "text/html": [
       "<div>\n",
       "<style scoped>\n",
       "    .dataframe tbody tr th:only-of-type {\n",
       "        vertical-align: middle;\n",
       "    }\n",
       "\n",
       "    .dataframe tbody tr th {\n",
       "        vertical-align: top;\n",
       "    }\n",
       "\n",
       "    .dataframe thead th {\n",
       "        text-align: right;\n",
       "    }\n",
       "</style>\n",
       "<table border=\"1\" class=\"dataframe\">\n",
       "  <thead>\n",
       "    <tr style=\"text-align: right;\">\n",
       "      <th></th>\n",
       "      <th>Day</th>\n",
       "      <th>Date</th>\n",
       "      <th>EXG</th>\n",
       "    </tr>\n",
       "  </thead>\n",
       "  <tbody>\n",
       "    <tr>\n",
       "      <th>0</th>\n",
       "      <td>0 2019</td>\n",
       "      <td>2019-03-26</td>\n",
       "      <td>-0.0120</td>\n",
       "    </tr>\n",
       "    <tr>\n",
       "      <th>1</th>\n",
       "      <td>13</td>\n",
       "      <td>2019-04-07</td>\n",
       "      <td>-0.0078</td>\n",
       "    </tr>\n",
       "    <tr>\n",
       "      <th>2</th>\n",
       "      <td>25</td>\n",
       "      <td>2019-04-19</td>\n",
       "      <td>-0.0067</td>\n",
       "    </tr>\n",
       "    <tr>\n",
       "      <th>3</th>\n",
       "      <td>35</td>\n",
       "      <td>2019-04-29</td>\n",
       "      <td>0.0250</td>\n",
       "    </tr>\n",
       "    <tr>\n",
       "      <th>4</th>\n",
       "      <td>41</td>\n",
       "      <td>2019-05-05</td>\n",
       "      <td>0.0675</td>\n",
       "    </tr>\n",
       "    <tr>\n",
       "      <th>5</th>\n",
       "      <td>49</td>\n",
       "      <td>2019-05-13</td>\n",
       "      <td>0.1000</td>\n",
       "    </tr>\n",
       "    <tr>\n",
       "      <th>6</th>\n",
       "      <td>55</td>\n",
       "      <td>2019-05-19</td>\n",
       "      <td>0.1200</td>\n",
       "    </tr>\n",
       "    <tr>\n",
       "      <th>7</th>\n",
       "      <td>62</td>\n",
       "      <td>2019-05-26</td>\n",
       "      <td>0.1580</td>\n",
       "    </tr>\n",
       "    <tr>\n",
       "      <th>8</th>\n",
       "      <td>69</td>\n",
       "      <td>2019-06-02</td>\n",
       "      <td>0.1800</td>\n",
       "    </tr>\n",
       "    <tr>\n",
       "      <th>9</th>\n",
       "      <td>77</td>\n",
       "      <td>2019-06-10</td>\n",
       "      <td>0.2000</td>\n",
       "    </tr>\n",
       "    <tr>\n",
       "      <th>10</th>\n",
       "      <td>84</td>\n",
       "      <td>2019-06-17</td>\n",
       "      <td>0.2280</td>\n",
       "    </tr>\n",
       "    <tr>\n",
       "      <th>11</th>\n",
       "      <td>91</td>\n",
       "      <td>2019-06-24</td>\n",
       "      <td>0.2300</td>\n",
       "    </tr>\n",
       "    <tr>\n",
       "      <th>12</th>\n",
       "      <td>97</td>\n",
       "      <td>2019-06-30</td>\n",
       "      <td>0.2160</td>\n",
       "    </tr>\n",
       "    <tr>\n",
       "      <th>13</th>\n",
       "      <td>111</td>\n",
       "      <td>2019-07-14</td>\n",
       "      <td>0.1990</td>\n",
       "    </tr>\n",
       "    <tr>\n",
       "      <th>14</th>\n",
       "      <td>116</td>\n",
       "      <td>2019-07-19</td>\n",
       "      <td>0.1660</td>\n",
       "    </tr>\n",
       "    <tr>\n",
       "      <th>15</th>\n",
       "      <td>0 2020</td>\n",
       "      <td>2020-03-26</td>\n",
       "      <td>-0.0150</td>\n",
       "    </tr>\n",
       "    <tr>\n",
       "      <th>16</th>\n",
       "      <td>13</td>\n",
       "      <td>2020-04-07</td>\n",
       "      <td>-0.0100</td>\n",
       "    </tr>\n",
       "    <tr>\n",
       "      <th>17</th>\n",
       "      <td>25</td>\n",
       "      <td>2020-04-19</td>\n",
       "      <td>0.0012</td>\n",
       "    </tr>\n",
       "    <tr>\n",
       "      <th>18</th>\n",
       "      <td>35</td>\n",
       "      <td>2020-04-29</td>\n",
       "      <td>0.0300</td>\n",
       "    </tr>\n",
       "    <tr>\n",
       "      <th>19</th>\n",
       "      <td>41</td>\n",
       "      <td>2020-05-05</td>\n",
       "      <td>0.0400</td>\n",
       "    </tr>\n",
       "    <tr>\n",
       "      <th>20</th>\n",
       "      <td>49</td>\n",
       "      <td>2020-05-13</td>\n",
       "      <td>0.0520</td>\n",
       "    </tr>\n",
       "    <tr>\n",
       "      <th>21</th>\n",
       "      <td>55</td>\n",
       "      <td>2020-05-19</td>\n",
       "      <td>0.0810</td>\n",
       "    </tr>\n",
       "    <tr>\n",
       "      <th>22</th>\n",
       "      <td>62</td>\n",
       "      <td>2020-05-26</td>\n",
       "      <td>0.0950</td>\n",
       "    </tr>\n",
       "    <tr>\n",
       "      <th>23</th>\n",
       "      <td>69</td>\n",
       "      <td>2020-06-02</td>\n",
       "      <td>0.1100</td>\n",
       "    </tr>\n",
       "    <tr>\n",
       "      <th>24</th>\n",
       "      <td>77</td>\n",
       "      <td>2020-06-10</td>\n",
       "      <td>0.1740</td>\n",
       "    </tr>\n",
       "    <tr>\n",
       "      <th>25</th>\n",
       "      <td>84</td>\n",
       "      <td>2020-06-17</td>\n",
       "      <td>0.1960</td>\n",
       "    </tr>\n",
       "    <tr>\n",
       "      <th>26</th>\n",
       "      <td>91</td>\n",
       "      <td>2020-06-24</td>\n",
       "      <td>0.2180</td>\n",
       "    </tr>\n",
       "    <tr>\n",
       "      <th>27</th>\n",
       "      <td>97</td>\n",
       "      <td>2020-06-30</td>\n",
       "      <td>0.2400</td>\n",
       "    </tr>\n",
       "    <tr>\n",
       "      <th>28</th>\n",
       "      <td>111</td>\n",
       "      <td>2020-07-14</td>\n",
       "      <td>0.2100</td>\n",
       "    </tr>\n",
       "    <tr>\n",
       "      <th>29</th>\n",
       "      <td>116</td>\n",
       "      <td>2020-07-19</td>\n",
       "      <td>0.2000</td>\n",
       "    </tr>\n",
       "    <tr>\n",
       "      <th>30</th>\n",
       "      <td>0 2021</td>\n",
       "      <td>2021-03-26</td>\n",
       "      <td>-0.0090</td>\n",
       "    </tr>\n",
       "    <tr>\n",
       "      <th>31</th>\n",
       "      <td>13</td>\n",
       "      <td>2021-04-07</td>\n",
       "      <td>0.0002</td>\n",
       "    </tr>\n",
       "    <tr>\n",
       "      <th>32</th>\n",
       "      <td>25</td>\n",
       "      <td>2021-04-19</td>\n",
       "      <td>0.0130</td>\n",
       "    </tr>\n",
       "    <tr>\n",
       "      <th>33</th>\n",
       "      <td>35</td>\n",
       "      <td>2021-04-29</td>\n",
       "      <td>0.0490</td>\n",
       "    </tr>\n",
       "    <tr>\n",
       "      <th>34</th>\n",
       "      <td>41</td>\n",
       "      <td>2021-05-05</td>\n",
       "      <td>0.0870</td>\n",
       "    </tr>\n",
       "    <tr>\n",
       "      <th>35</th>\n",
       "      <td>49</td>\n",
       "      <td>2021-05-13</td>\n",
       "      <td>0.1500</td>\n",
       "    </tr>\n",
       "    <tr>\n",
       "      <th>36</th>\n",
       "      <td>55</td>\n",
       "      <td>2021-05-19</td>\n",
       "      <td>0.1830</td>\n",
       "    </tr>\n",
       "    <tr>\n",
       "      <th>37</th>\n",
       "      <td>62</td>\n",
       "      <td>2021-05-26</td>\n",
       "      <td>0.2500</td>\n",
       "    </tr>\n",
       "    <tr>\n",
       "      <th>38</th>\n",
       "      <td>69</td>\n",
       "      <td>2021-06-02</td>\n",
       "      <td>0.2500</td>\n",
       "    </tr>\n",
       "    <tr>\n",
       "      <th>39</th>\n",
       "      <td>77</td>\n",
       "      <td>2021-06-10</td>\n",
       "      <td>0.2300</td>\n",
       "    </tr>\n",
       "    <tr>\n",
       "      <th>40</th>\n",
       "      <td>84</td>\n",
       "      <td>2021-06-17</td>\n",
       "      <td>0.2300</td>\n",
       "    </tr>\n",
       "    <tr>\n",
       "      <th>41</th>\n",
       "      <td>91</td>\n",
       "      <td>2021-06-24</td>\n",
       "      <td>0.2400</td>\n",
       "    </tr>\n",
       "    <tr>\n",
       "      <th>42</th>\n",
       "      <td>97</td>\n",
       "      <td>2021-06-30</td>\n",
       "      <td>0.2200</td>\n",
       "    </tr>\n",
       "    <tr>\n",
       "      <th>43</th>\n",
       "      <td>111</td>\n",
       "      <td>2021-07-14</td>\n",
       "      <td>0.2240</td>\n",
       "    </tr>\n",
       "    <tr>\n",
       "      <th>44</th>\n",
       "      <td>116</td>\n",
       "      <td>2021-07-19</td>\n",
       "      <td>0.2200</td>\n",
       "    </tr>\n",
       "  </tbody>\n",
       "</table>\n",
       "</div>"
      ],
      "text/plain": [
       "       Day       Date     EXG\n",
       "0   0 2019 2019-03-26 -0.0120\n",
       "1       13 2019-04-07 -0.0078\n",
       "2       25 2019-04-19 -0.0067\n",
       "3       35 2019-04-29  0.0250\n",
       "4       41 2019-05-05  0.0675\n",
       "5       49 2019-05-13  0.1000\n",
       "6       55 2019-05-19  0.1200\n",
       "7       62 2019-05-26  0.1580\n",
       "8       69 2019-06-02  0.1800\n",
       "9       77 2019-06-10  0.2000\n",
       "10      84 2019-06-17  0.2280\n",
       "11      91 2019-06-24  0.2300\n",
       "12      97 2019-06-30  0.2160\n",
       "13     111 2019-07-14  0.1990\n",
       "14     116 2019-07-19  0.1660\n",
       "15  0 2020 2020-03-26 -0.0150\n",
       "16      13 2020-04-07 -0.0100\n",
       "17      25 2020-04-19  0.0012\n",
       "18      35 2020-04-29  0.0300\n",
       "19      41 2020-05-05  0.0400\n",
       "20      49 2020-05-13  0.0520\n",
       "21      55 2020-05-19  0.0810\n",
       "22      62 2020-05-26  0.0950\n",
       "23      69 2020-06-02  0.1100\n",
       "24      77 2020-06-10  0.1740\n",
       "25      84 2020-06-17  0.1960\n",
       "26      91 2020-06-24  0.2180\n",
       "27      97 2020-06-30  0.2400\n",
       "28     111 2020-07-14  0.2100\n",
       "29     116 2020-07-19  0.2000\n",
       "30  0 2021 2021-03-26 -0.0090\n",
       "31      13 2021-04-07  0.0002\n",
       "32      25 2021-04-19  0.0130\n",
       "33      35 2021-04-29  0.0490\n",
       "34      41 2021-05-05  0.0870\n",
       "35      49 2021-05-13  0.1500\n",
       "36      55 2021-05-19  0.1830\n",
       "37      62 2021-05-26  0.2500\n",
       "38      69 2021-06-02  0.2500\n",
       "39      77 2021-06-10  0.2300\n",
       "40      84 2021-06-17  0.2300\n",
       "41      91 2021-06-24  0.2400\n",
       "42      97 2021-06-30  0.2200\n",
       "43     111 2021-07-14  0.2240\n",
       "44     116 2021-07-19  0.2200"
      ]
     },
     "execution_count": 89,
     "metadata": {},
     "output_type": "execute_result"
    }
   ],
   "source": [
    "data1 = pd.read_excel(\"C:/Users/samba/OneDrive/Desktop/TAMU CORPUS/Driscoll/sarima/datasets/excess green index.xlsx\")\n",
    "data1"
   ]
  },
  {
   "cell_type": "code",
   "execution_count": 90,
   "id": "103b44eb",
   "metadata": {},
   "outputs": [],
   "source": [
    "data1 = data1.iloc[15:30]"
   ]
  },
  {
   "cell_type": "code",
   "execution_count": 91,
   "id": "1d9bfa5e",
   "metadata": {},
   "outputs": [
    {
     "data": {
      "text/html": [
       "<div>\n",
       "<style scoped>\n",
       "    .dataframe tbody tr th:only-of-type {\n",
       "        vertical-align: middle;\n",
       "    }\n",
       "\n",
       "    .dataframe tbody tr th {\n",
       "        vertical-align: top;\n",
       "    }\n",
       "\n",
       "    .dataframe thead th {\n",
       "        text-align: right;\n",
       "    }\n",
       "</style>\n",
       "<table border=\"1\" class=\"dataframe\">\n",
       "  <thead>\n",
       "    <tr style=\"text-align: right;\">\n",
       "      <th></th>\n",
       "      <th>Date</th>\n",
       "      <th>EXG</th>\n",
       "    </tr>\n",
       "  </thead>\n",
       "  <tbody>\n",
       "    <tr>\n",
       "      <th>15</th>\n",
       "      <td>2020-03-26</td>\n",
       "      <td>-0.0150</td>\n",
       "    </tr>\n",
       "    <tr>\n",
       "      <th>16</th>\n",
       "      <td>2020-04-07</td>\n",
       "      <td>-0.0100</td>\n",
       "    </tr>\n",
       "    <tr>\n",
       "      <th>17</th>\n",
       "      <td>2020-04-19</td>\n",
       "      <td>0.0012</td>\n",
       "    </tr>\n",
       "    <tr>\n",
       "      <th>18</th>\n",
       "      <td>2020-04-29</td>\n",
       "      <td>0.0300</td>\n",
       "    </tr>\n",
       "    <tr>\n",
       "      <th>19</th>\n",
       "      <td>2020-05-05</td>\n",
       "      <td>0.0400</td>\n",
       "    </tr>\n",
       "    <tr>\n",
       "      <th>20</th>\n",
       "      <td>2020-05-13</td>\n",
       "      <td>0.0520</td>\n",
       "    </tr>\n",
       "    <tr>\n",
       "      <th>21</th>\n",
       "      <td>2020-05-19</td>\n",
       "      <td>0.0810</td>\n",
       "    </tr>\n",
       "    <tr>\n",
       "      <th>22</th>\n",
       "      <td>2020-05-26</td>\n",
       "      <td>0.0950</td>\n",
       "    </tr>\n",
       "    <tr>\n",
       "      <th>23</th>\n",
       "      <td>2020-06-02</td>\n",
       "      <td>0.1100</td>\n",
       "    </tr>\n",
       "    <tr>\n",
       "      <th>24</th>\n",
       "      <td>2020-06-10</td>\n",
       "      <td>0.1740</td>\n",
       "    </tr>\n",
       "    <tr>\n",
       "      <th>25</th>\n",
       "      <td>2020-06-17</td>\n",
       "      <td>0.1960</td>\n",
       "    </tr>\n",
       "    <tr>\n",
       "      <th>26</th>\n",
       "      <td>2020-06-24</td>\n",
       "      <td>0.2180</td>\n",
       "    </tr>\n",
       "    <tr>\n",
       "      <th>27</th>\n",
       "      <td>2020-06-30</td>\n",
       "      <td>0.2400</td>\n",
       "    </tr>\n",
       "    <tr>\n",
       "      <th>28</th>\n",
       "      <td>2020-07-14</td>\n",
       "      <td>0.2100</td>\n",
       "    </tr>\n",
       "    <tr>\n",
       "      <th>29</th>\n",
       "      <td>2020-07-19</td>\n",
       "      <td>0.2000</td>\n",
       "    </tr>\n",
       "  </tbody>\n",
       "</table>\n",
       "</div>"
      ],
      "text/plain": [
       "         Date     EXG\n",
       "15 2020-03-26 -0.0150\n",
       "16 2020-04-07 -0.0100\n",
       "17 2020-04-19  0.0012\n",
       "18 2020-04-29  0.0300\n",
       "19 2020-05-05  0.0400\n",
       "20 2020-05-13  0.0520\n",
       "21 2020-05-19  0.0810\n",
       "22 2020-05-26  0.0950\n",
       "23 2020-06-02  0.1100\n",
       "24 2020-06-10  0.1740\n",
       "25 2020-06-17  0.1960\n",
       "26 2020-06-24  0.2180\n",
       "27 2020-06-30  0.2400\n",
       "28 2020-07-14  0.2100\n",
       "29 2020-07-19  0.2000"
      ]
     },
     "execution_count": 91,
     "metadata": {},
     "output_type": "execute_result"
    }
   ],
   "source": [
    "data2 = data1.drop(['Day'], axis=1)\n",
    "data2"
   ]
  },
  {
   "cell_type": "code",
   "execution_count": 92,
   "id": "a0c71de4",
   "metadata": {},
   "outputs": [],
   "source": [
    "data0 = data2.copy()\n",
    "data0['Date'] = pd.to_datetime(data0['Date'])\n",
    "data0.index = data0['Date']\n",
    "del data0['Date']"
   ]
  },
  {
   "cell_type": "code",
   "execution_count": 93,
   "id": "aeb3ffd3",
   "metadata": {},
   "outputs": [
    {
     "data": {
      "text/html": [
       "<div>\n",
       "<style scoped>\n",
       "    .dataframe tbody tr th:only-of-type {\n",
       "        vertical-align: middle;\n",
       "    }\n",
       "\n",
       "    .dataframe tbody tr th {\n",
       "        vertical-align: top;\n",
       "    }\n",
       "\n",
       "    .dataframe thead th {\n",
       "        text-align: right;\n",
       "    }\n",
       "</style>\n",
       "<table border=\"1\" class=\"dataframe\">\n",
       "  <thead>\n",
       "    <tr style=\"text-align: right;\">\n",
       "      <th></th>\n",
       "      <th>EXG</th>\n",
       "    </tr>\n",
       "    <tr>\n",
       "      <th>Date</th>\n",
       "      <th></th>\n",
       "    </tr>\n",
       "  </thead>\n",
       "  <tbody>\n",
       "    <tr>\n",
       "      <th>2020-03-26</th>\n",
       "      <td>-0.015000</td>\n",
       "    </tr>\n",
       "    <tr>\n",
       "      <th>2020-03-27</th>\n",
       "      <td>-0.014583</td>\n",
       "    </tr>\n",
       "    <tr>\n",
       "      <th>2020-03-28</th>\n",
       "      <td>-0.014167</td>\n",
       "    </tr>\n",
       "    <tr>\n",
       "      <th>2020-03-29</th>\n",
       "      <td>-0.013750</td>\n",
       "    </tr>\n",
       "    <tr>\n",
       "      <th>2020-03-30</th>\n",
       "      <td>-0.013333</td>\n",
       "    </tr>\n",
       "    <tr>\n",
       "      <th>...</th>\n",
       "      <td>...</td>\n",
       "    </tr>\n",
       "    <tr>\n",
       "      <th>2020-07-15</th>\n",
       "      <td>0.208000</td>\n",
       "    </tr>\n",
       "    <tr>\n",
       "      <th>2020-07-16</th>\n",
       "      <td>0.206000</td>\n",
       "    </tr>\n",
       "    <tr>\n",
       "      <th>2020-07-17</th>\n",
       "      <td>0.204000</td>\n",
       "    </tr>\n",
       "    <tr>\n",
       "      <th>2020-07-18</th>\n",
       "      <td>0.202000</td>\n",
       "    </tr>\n",
       "    <tr>\n",
       "      <th>2020-07-19</th>\n",
       "      <td>0.200000</td>\n",
       "    </tr>\n",
       "  </tbody>\n",
       "</table>\n",
       "<p>116 rows × 1 columns</p>\n",
       "</div>"
      ],
      "text/plain": [
       "                 EXG\n",
       "Date                \n",
       "2020-03-26 -0.015000\n",
       "2020-03-27 -0.014583\n",
       "2020-03-28 -0.014167\n",
       "2020-03-29 -0.013750\n",
       "2020-03-30 -0.013333\n",
       "...              ...\n",
       "2020-07-15  0.208000\n",
       "2020-07-16  0.206000\n",
       "2020-07-17  0.204000\n",
       "2020-07-18  0.202000\n",
       "2020-07-19  0.200000\n",
       "\n",
       "[116 rows x 1 columns]"
      ]
     },
     "execution_count": 93,
     "metadata": {},
     "output_type": "execute_result"
    }
   ],
   "source": [
    "df_interpol = data0.resample('D').mean()\n",
    "df_interpol['EXG'] = df_interpol['EXG'].interpolate()\n",
    "df_interpol"
   ]
  },
  {
   "cell_type": "code",
   "execution_count": 94,
   "id": "4e15bfe9",
   "metadata": {},
   "outputs": [],
   "source": [
    "df_interpol.to_csv('EXG_2020.csv')"
   ]
  },
  {
   "cell_type": "code",
   "execution_count": 95,
   "id": "03f04c50",
   "metadata": {},
   "outputs": [],
   "source": [
    "f4 = pd.read_csv(\"C:/Users/samba/OneDrive/Desktop/TAMU CORPUS/Driscoll/sarima/datasets/EXG_2020.csv\")"
   ]
  },
  {
   "cell_type": "code",
   "execution_count": 96,
   "id": "4ebeea97",
   "metadata": {},
   "outputs": [],
   "source": [
    "f4['Date'] = pd.to_datetime(f4['Date'])"
   ]
  },
  {
   "cell_type": "code",
   "execution_count": 97,
   "id": "26665571",
   "metadata": {},
   "outputs": [],
   "source": [
    "from datetime import datetime, timedelta\n",
    "import matplotlib.pyplot as plt\n",
    "import numpy as np\n",
    "import pandas as pd\n",
    "import statsmodels.api as sm\n",
    "from statsmodels.tsa.stattools import adfuller, kpss\n",
    "from statsmodels.tsa.api import ExponentialSmoothing"
   ]
  },
  {
   "cell_type": "code",
   "execution_count": 98,
   "id": "ecd27b3f",
   "metadata": {},
   "outputs": [
    {
     "data": {
      "text/html": [
       "<div>\n",
       "<style scoped>\n",
       "    .dataframe tbody tr th:only-of-type {\n",
       "        vertical-align: middle;\n",
       "    }\n",
       "\n",
       "    .dataframe tbody tr th {\n",
       "        vertical-align: top;\n",
       "    }\n",
       "\n",
       "    .dataframe thead th {\n",
       "        text-align: right;\n",
       "    }\n",
       "</style>\n",
       "<table border=\"1\" class=\"dataframe\">\n",
       "  <thead>\n",
       "    <tr style=\"text-align: right;\">\n",
       "      <th></th>\n",
       "      <th>Date</th>\n",
       "      <th>EXG</th>\n",
       "    </tr>\n",
       "  </thead>\n",
       "  <tbody>\n",
       "    <tr>\n",
       "      <th>0</th>\n",
       "      <td>2020-03-26</td>\n",
       "      <td>-0.015000</td>\n",
       "    </tr>\n",
       "    <tr>\n",
       "      <th>1</th>\n",
       "      <td>2020-03-27</td>\n",
       "      <td>-0.014583</td>\n",
       "    </tr>\n",
       "    <tr>\n",
       "      <th>2</th>\n",
       "      <td>2020-03-28</td>\n",
       "      <td>-0.014167</td>\n",
       "    </tr>\n",
       "    <tr>\n",
       "      <th>3</th>\n",
       "      <td>2020-03-29</td>\n",
       "      <td>-0.013750</td>\n",
       "    </tr>\n",
       "    <tr>\n",
       "      <th>4</th>\n",
       "      <td>2020-03-30</td>\n",
       "      <td>-0.013333</td>\n",
       "    </tr>\n",
       "    <tr>\n",
       "      <th>...</th>\n",
       "      <td>...</td>\n",
       "      <td>...</td>\n",
       "    </tr>\n",
       "    <tr>\n",
       "      <th>111</th>\n",
       "      <td>2020-07-15</td>\n",
       "      <td>0.208000</td>\n",
       "    </tr>\n",
       "    <tr>\n",
       "      <th>112</th>\n",
       "      <td>2020-07-16</td>\n",
       "      <td>0.206000</td>\n",
       "    </tr>\n",
       "    <tr>\n",
       "      <th>113</th>\n",
       "      <td>2020-07-17</td>\n",
       "      <td>0.204000</td>\n",
       "    </tr>\n",
       "    <tr>\n",
       "      <th>114</th>\n",
       "      <td>2020-07-18</td>\n",
       "      <td>0.202000</td>\n",
       "    </tr>\n",
       "    <tr>\n",
       "      <th>115</th>\n",
       "      <td>2020-07-19</td>\n",
       "      <td>0.200000</td>\n",
       "    </tr>\n",
       "  </tbody>\n",
       "</table>\n",
       "<p>116 rows × 2 columns</p>\n",
       "</div>"
      ],
      "text/plain": [
       "          Date       EXG\n",
       "0   2020-03-26 -0.015000\n",
       "1   2020-03-27 -0.014583\n",
       "2   2020-03-28 -0.014167\n",
       "3   2020-03-29 -0.013750\n",
       "4   2020-03-30 -0.013333\n",
       "..         ...       ...\n",
       "111 2020-07-15  0.208000\n",
       "112 2020-07-16  0.206000\n",
       "113 2020-07-17  0.204000\n",
       "114 2020-07-18  0.202000\n",
       "115 2020-07-19  0.200000\n",
       "\n",
       "[116 rows x 2 columns]"
      ]
     },
     "execution_count": 98,
     "metadata": {},
     "output_type": "execute_result"
    }
   ],
   "source": [
    "f4"
   ]
  },
  {
   "cell_type": "code",
   "execution_count": 99,
   "id": "96c69673",
   "metadata": {},
   "outputs": [],
   "source": [
    "data2 = f4.copy()"
   ]
  },
  {
   "cell_type": "code",
   "execution_count": 100,
   "id": "8e0215f8",
   "metadata": {},
   "outputs": [],
   "source": [
    "data2['Date'] = pd.to_datetime(data2['Date'])\n",
    "data2.index = data2['Date']"
   ]
  },
  {
   "cell_type": "code",
   "execution_count": 101,
   "id": "ecac4c3b",
   "metadata": {},
   "outputs": [],
   "source": [
    "data2.drop(['Date'], axis = 1,inplace = True)"
   ]
  },
  {
   "cell_type": "code",
   "execution_count": 102,
   "id": "eef0aec4",
   "metadata": {},
   "outputs": [
    {
     "data": {
      "text/plain": [
       "[<matplotlib.lines.Line2D at 0x1ca99668b80>]"
      ]
     },
     "execution_count": 102,
     "metadata": {},
     "output_type": "execute_result"
    },
    {
     "data": {
      "image/png": "[encoded data removed]",
      "text/plain": [
       "<Figure size 720x360 with 1 Axes>"
      ]
     },
     "metadata": {
      "needs_background": "light"
     },
     "output_type": "display_data"
    }
   ],
   "source": [
    "from matplotlib.pylab import rcParams\n",
    "rcParams['figure.figsize'] = 10,5\n",
    "plt.plot(data2['EXG'])"
   ]
  },
  {
   "cell_type": "code",
   "execution_count": 103,
   "id": "2ba5b972",
   "metadata": {},
   "outputs": [
    {
     "name": "stdout",
     "output_type": "stream",
     "text": [
      "ADF Statistic: -1.4389724806116957\n",
      "p-value: 0.5634562784154424\n"
     ]
    }
   ],
   "source": [
    "ad_fuller_result = adfuller(data2['EXG'])\n",
    "print(f'ADF Statistic: {ad_fuller_result[0]}')\n",
    "print(f'p-value: {ad_fuller_result[1]}')"
   ]
  },
  {
   "cell_type": "code",
   "execution_count": 104,
   "id": "fd5767cf",
   "metadata": {},
   "outputs": [
    {
     "name": "stdout",
     "output_type": "stream",
     "text": [
      "ADF Statistic: -16.482914546246818\n",
      "p-value: 2.2285757744258891e-29\n"
     ]
    },
    {
     "name": "stderr",
     "output_type": "stream",
     "text": [
      "C:\\ProgramData\\Anaconda3\\lib\\site-packages\\pandas\\core\\arraylike.py:397: RuntimeWarning: invalid value encountered in log\n",
      "  result = getattr(ufunc, method)(*inputs, **kwargs)\n"
     ]
    }
   ],
   "source": [
    "data2['EXG'] = np.log(data2['EXG'])\n",
    "data2['EXG_log_diff'] = data2['EXG'] - data2['EXG'].shift(1)\n",
    "data2 = data2.dropna()\n",
    "ad_fuller_result = adfuller(data2['EXG_log_diff'])\n",
    "print(f'ADF Statistic: {ad_fuller_result[0]}')\n",
    "print(f'p-value: {ad_fuller_result[1]}')"
   ]
  },
  {
   "cell_type": "code",
   "execution_count": 105,
   "id": "9080bbb0",
   "metadata": {},
   "outputs": [
    {
     "data": {
      "text/plain": [
       "[<matplotlib.lines.Line2D at 0x1ca99647c40>]"
      ]
     },
     "execution_count": 105,
     "metadata": {},
     "output_type": "execute_result"
    },
    {
     "data": {
      "image/png": "[encoded data removed]",
      "text/plain": [
       "<Figure size 720x360 with 1 Axes>"
      ]
     },
     "metadata": {
      "needs_background": "light"
     },
     "output_type": "display_data"
    }
   ],
   "source": [
    "plt.plot(data2['EXG_log_diff'])"
   ]
  },
  {
   "cell_type": "code",
   "execution_count": 106,
   "id": "65729003",
   "metadata": {},
   "outputs": [
    {
     "data": {
      "image/png": "[encoded data removed]",
      "text/plain": [
       "<Figure size 720x360 with 1 Axes>"
      ]
     },
     "metadata": {
      "needs_background": "light"
     },
     "output_type": "display_data"
    }
   ],
   "source": [
    "sm.graphics.tsa.plot_acf(data2['EXG_log_diff'].values.squeeze(), lags=40)\n",
    "plt.show()"
   ]
  },
  {
   "cell_type": "code",
   "execution_count": 107,
   "id": "d8e6554f",
   "metadata": {},
   "outputs": [
    {
     "name": "stderr",
     "output_type": "stream",
     "text": [
      "C:\\ProgramData\\Anaconda3\\lib\\site-packages\\statsmodels\\graphics\\tsaplots.py:348: FutureWarning: The default method 'yw' can produce PACF values outside of the [-1,1] interval. After 0.13, the default will change tounadjusted Yule-Walker ('ywm'). You can use this method now by setting method='ywm'.\n",
      "  warnings.warn(\n"
     ]
    },
    {
     "data": {
      "image/png": "[encoded data removed]",
      "text/plain": [
       "<Figure size 720x360 with 1 Axes>"
      ]
     },
     "metadata": {
      "needs_background": "light"
     },
     "output_type": "display_data"
    }
   ],
   "source": [
    "sm.graphics.tsa.plot_pacf(data2['EXG_log_diff'].values.squeeze(), lags=40)\n",
    "plt.show()"
   ]
  },
  {
   "cell_type": "code",
   "execution_count": 108,
   "id": "bfa8c6ff",
   "metadata": {},
   "outputs": [],
   "source": [
    "# p can be 1\n",
    "# q value can be 1 or 0\n",
    "# D value is 1\n",
    "# It is an AR process"
   ]
  },
  {
   "cell_type": "code",
   "execution_count": 109,
   "id": "3d2a5062",
   "metadata": {},
   "outputs": [
    {
     "data": {
      "text/plain": [
       "Date\n",
       "2020-04-19   -6.725434\n",
       "2020-04-20   -5.501658\n",
       "2020-04-21   -4.967576\n",
       "2020-04-22   -4.621300\n",
       "2020-04-23   -4.364580\n",
       "2020-04-24   -4.160484\n",
       "2020-04-25   -3.991066\n",
       "2020-04-26   -3.846235\n",
       "2020-04-27   -3.719751\n",
       "2020-04-28   -3.607484\n",
       "2020-04-29   -3.506558\n",
       "2020-04-30   -3.452491\n",
       "2020-05-01   -3.401197\n",
       "2020-05-02   -3.352407\n",
       "2020-05-03   -3.305887\n",
       "2020-05-04   -3.261435\n",
       "2020-05-05   -3.218876\n",
       "2020-05-06   -3.182062\n",
       "2020-05-07   -3.146555\n",
       "2020-05-08   -3.112266\n",
       "2020-05-09   -3.079114\n",
       "2020-05-10   -3.047026\n",
       "2020-05-11   -3.015935\n",
       "2020-05-12   -2.985782\n",
       "2020-05-13   -2.956512\n",
       "2020-05-14   -2.867632\n",
       "2020-05-15   -2.786012\n",
       "2020-05-16   -2.710553\n",
       "2020-05-17   -2.640392\n",
       "2020-05-18   -2.574831\n",
       "2020-05-19   -2.513306\n",
       "2020-05-20   -2.488915\n",
       "2020-05-21   -2.465104\n",
       "2020-05-22   -2.441847\n",
       "2020-05-23   -2.419119\n",
       "2020-05-24   -2.396896\n",
       "2020-05-25   -2.375156\n",
       "2020-05-26   -2.353878\n",
       "2020-05-27   -2.331573\n",
       "2020-05-28   -2.309754\n",
       "2020-05-29   -2.288400\n",
       "2020-05-30   -2.267494\n",
       "2020-05-31   -2.247015\n",
       "2020-06-01   -2.226948\n",
       "2020-06-02   -2.207275\n",
       "2020-06-03   -2.137071\n",
       "2020-06-04   -2.071473\n",
       "2020-06-05   -2.009915\n",
       "2020-06-06   -1.951928\n",
       "2020-06-07   -1.897120\n",
       "Name: EXG, dtype: float64"
      ]
     },
     "execution_count": 109,
     "metadata": {},
     "output_type": "execute_result"
    }
   ],
   "source": [
    "train_data = data2[:50]\n",
    "train_data_1 = train_data['EXG']\n",
    "train_data_1"
   ]
  },
  {
   "cell_type": "code",
   "execution_count": 110,
   "id": "856883e1",
   "metadata": {},
   "outputs": [
    {
     "name": "stderr",
     "output_type": "stream",
     "text": [
      "C:\\ProgramData\\Anaconda3\\lib\\site-packages\\statsmodels\\tsa\\base\\tsa_model.py:471: ValueWarning: No frequency information was provided, so inferred frequency D will be used.\n",
      "  self._init_dates(dates, freq)\n",
      "C:\\ProgramData\\Anaconda3\\lib\\site-packages\\statsmodels\\tsa\\base\\tsa_model.py:471: ValueWarning: No frequency information was provided, so inferred frequency D will be used.\n",
      "  self._init_dates(dates, freq)\n",
      "C:\\ProgramData\\Anaconda3\\lib\\site-packages\\statsmodels\\tsa\\base\\tsa_model.py:471: ValueWarning: No frequency information was provided, so inferred frequency D will be used.\n",
      "  self._init_dates(dates, freq)\n"
     ]
    }
   ],
   "source": [
    "from math import sqrt\n",
    "from multiprocessing import cpu_count\n",
    "from joblib import Parallel\n",
    "from joblib import delayed\n",
    "from warnings import catch_warnings\n",
    "from warnings import filterwarnings\n",
    "from statsmodels.tsa.statespace.sarimax import SARIMAX\n",
    "from sklearn.metrics import mean_squared_error\n",
    "from statsmodels.tsa.arima.model import ARIMA\n",
    "model = ARIMA(train_data_1, order = (1,1,0))\n",
    "model_fit = model.fit()"
   ]
  },
  {
   "cell_type": "code",
   "execution_count": 111,
   "id": "addd8488",
   "metadata": {},
   "outputs": [
    {
     "name": "stdout",
     "output_type": "stream",
     "text": [
      "                               SARIMAX Results                                \n",
      "==============================================================================\n",
      "Dep. Variable:                    EXG   No. Observations:                   50\n",
      "Model:                 ARIMA(1, 1, 0)   Log Likelihood                  38.786\n",
      "Date:                Wed, 03 Aug 2022   AIC                            -73.572\n",
      "Time:                        13:25:55   BIC                            -69.789\n",
      "Sample:                    04-19-2020   HQIC                           -72.137\n",
      "                         - 06-07-2020                                         \n",
      "Covariance Type:                  opg                                         \n",
      "==============================================================================\n",
      "                 coef    std err          z      P>|z|      [0.025      0.975]\n",
      "------------------------------------------------------------------------------\n",
      "ar.L1          0.9888      0.011     92.369      0.000       0.968       1.010\n",
      "sigma2         0.0111      0.001     16.353      0.000       0.010       0.012\n",
      "===================================================================================\n",
      "Ljung-Box (L1) (Q):                   0.00   Jarque-Bera (JB):              2078.90\n",
      "Prob(Q):                              0.99   Prob(JB):                         0.00\n",
      "Heteroskedasticity (H):               0.00   Skew:                            -5.10\n",
      "Prob(H) (two-sided):                  0.00   Kurtosis:                        33.24\n",
      "===================================================================================\n",
      "\n",
      "Warnings:\n",
      "[1] Covariance matrix calculated using the outer product of gradients (complex-step).\n"
     ]
    }
   ],
   "source": [
    "print (model_fit.summary())"
   ]
  },
  {
   "cell_type": "code",
   "execution_count": 112,
   "id": "f597b940",
   "metadata": {},
   "outputs": [
    {
     "data": {
      "text/plain": [
       "<AxesSubplot:xlabel='Date'>"
      ]
     },
     "execution_count": 112,
     "metadata": {},
     "output_type": "execute_result"
    },
    {
     "data": {
      "image/png": "[encoded data removed]",
      "text/plain": [
       "<Figure size 720x360 with 1 Axes>"
      ]
     },
     "metadata": {
      "needs_background": "light"
     },
     "output_type": "display_data"
    }
   ],
   "source": [
    "from pandas import DataFrame\n",
    "residuals = DataFrame(model_fit.resid)\n",
    "residuals.plot()"
   ]
  },
  {
   "cell_type": "code",
   "execution_count": 113,
   "id": "185a8660",
   "metadata": {},
   "outputs": [
    {
     "data": {
      "text/plain": [
       "<AxesSubplot:ylabel='Density'>"
      ]
     },
     "execution_count": 113,
     "metadata": {},
     "output_type": "execute_result"
    },
    {
     "data": {
      "image/png": "[encoded data removed]",
      "text/plain": [
       "<Figure size 720x360 with 1 Axes>"
      ]
     },
     "metadata": {
      "needs_background": "light"
     },
     "output_type": "display_data"
    }
   ],
   "source": [
    "residuals.plot(kind='kde')"
   ]
  },
  {
   "cell_type": "code",
   "execution_count": 114,
   "id": "f2baed19",
   "metadata": {},
   "outputs": [
    {
     "data": {
      "text/html": [
       "<div>\n",
       "<style scoped>\n",
       "    .dataframe tbody tr th:only-of-type {\n",
       "        vertical-align: middle;\n",
       "    }\n",
       "\n",
       "    .dataframe tbody tr th {\n",
       "        vertical-align: top;\n",
       "    }\n",
       "\n",
       "    .dataframe thead th {\n",
       "        text-align: right;\n",
       "    }\n",
       "</style>\n",
       "<table border=\"1\" class=\"dataframe\">\n",
       "  <thead>\n",
       "    <tr style=\"text-align: right;\">\n",
       "      <th></th>\n",
       "      <th>0</th>\n",
       "    </tr>\n",
       "  </thead>\n",
       "  <tbody>\n",
       "    <tr>\n",
       "      <th>count</th>\n",
       "      <td>50.000000</td>\n",
       "    </tr>\n",
       "    <tr>\n",
       "      <th>mean</th>\n",
       "      <td>-0.132339</td>\n",
       "    </tr>\n",
       "    <tr>\n",
       "      <th>std</th>\n",
       "      <td>0.972741</td>\n",
       "    </tr>\n",
       "    <tr>\n",
       "      <th>min</th>\n",
       "      <td>-6.725434</td>\n",
       "    </tr>\n",
       "    <tr>\n",
       "      <th>25%</th>\n",
       "      <td>-0.006011</td>\n",
       "    </tr>\n",
       "    <tr>\n",
       "      <th>50%</th>\n",
       "      <td>-0.001633</td>\n",
       "    </tr>\n",
       "    <tr>\n",
       "      <th>75%</th>\n",
       "      <td>-0.000254</td>\n",
       "    </tr>\n",
       "    <tr>\n",
       "      <th>max</th>\n",
       "      <td>1.223779</td>\n",
       "    </tr>\n",
       "  </tbody>\n",
       "</table>\n",
       "</div>"
      ],
      "text/plain": [
       "               0\n",
       "count  50.000000\n",
       "mean   -0.132339\n",
       "std     0.972741\n",
       "min    -6.725434\n",
       "25%    -0.006011\n",
       "50%    -0.001633\n",
       "75%    -0.000254\n",
       "max     1.223779"
      ]
     },
     "execution_count": 114,
     "metadata": {},
     "output_type": "execute_result"
    }
   ],
   "source": [
    "residuals.describe()"
   ]
  },
  {
   "cell_type": "code",
   "execution_count": 115,
   "id": "4fc8201c",
   "metadata": {},
   "outputs": [
    {
     "data": {
      "text/plain": [
       "Date\n",
       "2020-06-08   -1.845160\n",
       "2020-06-09   -1.795767\n",
       "2020-06-10   -1.748700\n",
       "2020-06-11   -1.730799\n",
       "2020-06-12   -1.713212\n",
       "2020-06-13   -1.695930\n",
       "2020-06-14   -1.678941\n",
       "2020-06-15   -1.662236\n",
       "2020-06-16   -1.645806\n",
       "2020-06-17   -1.629641\n",
       "Name: EXG, dtype: float64"
      ]
     },
     "execution_count": 115,
     "metadata": {},
     "output_type": "execute_result"
    }
   ],
   "source": [
    "test_data = data2[50:60]\n",
    "test_data_1 = test_data['EXG']\n",
    "test_data_1"
   ]
  },
  {
   "cell_type": "code",
   "execution_count": 116,
   "id": "d66f2307",
   "metadata": {},
   "outputs": [
    {
     "data": {
      "text/plain": [
       "2020-06-08    0.158353\n",
       "2020-06-09    0.167070\n",
       "2020-06-10    0.176160\n",
       "2020-06-11    0.185634\n",
       "2020-06-12    0.195502\n",
       "2020-06-13    0.205775\n",
       "2020-06-14    0.216464\n",
       "2020-06-15    0.227578\n",
       "2020-06-16    0.239128\n",
       "2020-06-17    0.251124\n",
       "Freq: D, Name: predicted_mean, dtype: float64"
      ]
     },
     "execution_count": 116,
     "metadata": {},
     "output_type": "execute_result"
    }
   ],
   "source": [
    "model_pred = model_fit.forecast(steps = 10)\n",
    "model_pred_1 = np.exp(model_pred)\n",
    "model_pred_1"
   ]
  },
  {
   "cell_type": "code",
   "execution_count": 117,
   "id": "75de0ef0",
   "metadata": {},
   "outputs": [
    {
     "data": {
      "text/plain": [
       "Date\n",
       "2020-06-08    0.158000\n",
       "2020-06-09    0.166000\n",
       "2020-06-10    0.174000\n",
       "2020-06-11    0.177143\n",
       "2020-06-12    0.180286\n",
       "2020-06-13    0.183429\n",
       "2020-06-14    0.186571\n",
       "2020-06-15    0.189714\n",
       "2020-06-16    0.192857\n",
       "2020-06-17    0.196000\n",
       "Name: EXG, dtype: float64"
      ]
     },
     "execution_count": 117,
     "metadata": {},
     "output_type": "execute_result"
    }
   ],
   "source": [
    "test_data_2 = np.exp(test_data_1)\n",
    "test_data_2"
   ]
  },
  {
   "cell_type": "code",
   "execution_count": 118,
   "id": "a2d99c59",
   "metadata": {},
   "outputs": [
    {
     "name": "stdout",
     "output_type": "stream",
     "text": [
      "Test RMSE: 0.029\n"
     ]
    }
   ],
   "source": [
    "from sklearn.metrics import mean_squared_error\n",
    "from math import sqrt\n",
    "rmse = sqrt(mean_squared_error(test_data_2, model_pred_1))\n",
    "print('Test RMSE: %.3f' % rmse)"
   ]
  }
 ],
 "metadata": {
  "kernelspec": {
   "display_name": "Python 3 (ipykernel)",
   "language": "python",
   "name": "python3"
  },
  "language_info": {
   "codemirror_mode": {
    "name": "ipython",
    "version": 3
   },
   "file_extension": ".py",
   "mimetype": "text/x-python",
   "name": "python",
   "nbconvert_exporter": "python",
   "pygments_lexer": "ipython3",
   "version": "3.9.12"
  }
 },
 "nbformat": 4,
 "nbformat_minor": 5
}
