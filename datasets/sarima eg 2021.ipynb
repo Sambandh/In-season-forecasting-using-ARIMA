{
 "cells": [
  {
   "cell_type": "code",
   "execution_count": 934,
   "id": "ee644ca7",
   "metadata": {},
   "outputs": [],
   "source": [
    "import numpy as np\n",
    "import matplotlib.pyplot as plt\n",
    "import pandas as pd"
   ]
  },
  {
   "cell_type": "code",
   "execution_count": 935,
   "id": "03f04c50",
   "metadata": {},
   "outputs": [],
   "source": [
    "f4 = pd.read_csv(\"C:/Users/samba/OneDrive/Desktop/TAMU CORPUS/Driscoll/sarima/datasets/EXG_2021.csv\")"
   ]
  },
  {
   "cell_type": "code",
   "execution_count": 936,
   "id": "c7431498",
   "metadata": {},
   "outputs": [
    {
     "data": {
      "text/html": [
       "<div>\n",
       "<style scoped>\n",
       "    .dataframe tbody tr th:only-of-type {\n",
       "        vertical-align: middle;\n",
       "    }\n",
       "\n",
       "    .dataframe tbody tr th {\n",
       "        vertical-align: top;\n",
       "    }\n",
       "\n",
       "    .dataframe thead th {\n",
       "        text-align: right;\n",
       "    }\n",
       "</style>\n",
       "<table border=\"1\" class=\"dataframe\">\n",
       "  <thead>\n",
       "    <tr style=\"text-align: right;\">\n",
       "      <th></th>\n",
       "      <th>Date</th>\n",
       "      <th>EXG</th>\n",
       "    </tr>\n",
       "  </thead>\n",
       "  <tbody>\n",
       "    <tr>\n",
       "      <th>0</th>\n",
       "      <td>3/26/2021</td>\n",
       "      <td>-0.009000</td>\n",
       "    </tr>\n",
       "    <tr>\n",
       "      <th>1</th>\n",
       "      <td>3/27/2021</td>\n",
       "      <td>-0.008233</td>\n",
       "    </tr>\n",
       "    <tr>\n",
       "      <th>2</th>\n",
       "      <td>3/28/2021</td>\n",
       "      <td>-0.007467</td>\n",
       "    </tr>\n",
       "    <tr>\n",
       "      <th>3</th>\n",
       "      <td>3/29/2021</td>\n",
       "      <td>-0.006700</td>\n",
       "    </tr>\n",
       "    <tr>\n",
       "      <th>4</th>\n",
       "      <td>3/30/2021</td>\n",
       "      <td>-0.005933</td>\n",
       "    </tr>\n",
       "    <tr>\n",
       "      <th>...</th>\n",
       "      <td>...</td>\n",
       "      <td>...</td>\n",
       "    </tr>\n",
       "    <tr>\n",
       "      <th>111</th>\n",
       "      <td>7/15/2021</td>\n",
       "      <td>0.223200</td>\n",
       "    </tr>\n",
       "    <tr>\n",
       "      <th>112</th>\n",
       "      <td>7/16/2021</td>\n",
       "      <td>0.222400</td>\n",
       "    </tr>\n",
       "    <tr>\n",
       "      <th>113</th>\n",
       "      <td>7/17/2021</td>\n",
       "      <td>0.221600</td>\n",
       "    </tr>\n",
       "    <tr>\n",
       "      <th>114</th>\n",
       "      <td>7/18/2021</td>\n",
       "      <td>0.220800</td>\n",
       "    </tr>\n",
       "    <tr>\n",
       "      <th>115</th>\n",
       "      <td>7/19/2021</td>\n",
       "      <td>0.220000</td>\n",
       "    </tr>\n",
       "  </tbody>\n",
       "</table>\n",
       "<p>116 rows × 2 columns</p>\n",
       "</div>"
      ],
      "text/plain": [
       "          Date       EXG\n",
       "0    3/26/2021 -0.009000\n",
       "1    3/27/2021 -0.008233\n",
       "2    3/28/2021 -0.007467\n",
       "3    3/29/2021 -0.006700\n",
       "4    3/30/2021 -0.005933\n",
       "..         ...       ...\n",
       "111  7/15/2021  0.223200\n",
       "112  7/16/2021  0.222400\n",
       "113  7/17/2021  0.221600\n",
       "114  7/18/2021  0.220800\n",
       "115  7/19/2021  0.220000\n",
       "\n",
       "[116 rows x 2 columns]"
      ]
     },
     "execution_count": 936,
     "metadata": {},
     "output_type": "execute_result"
    }
   ],
   "source": [
    "f4"
   ]
  },
  {
   "cell_type": "code",
   "execution_count": 937,
   "id": "4ebeea97",
   "metadata": {},
   "outputs": [],
   "source": [
    "f4['Date'] = pd.to_datetime(f4['Date'])"
   ]
  },
  {
   "cell_type": "code",
   "execution_count": 938,
   "id": "26665571",
   "metadata": {},
   "outputs": [],
   "source": [
    "from datetime import datetime, timedelta\n",
    "import matplotlib.pyplot as plt\n",
    "import numpy as np\n",
    "import pandas as pd\n",
    "import statsmodels.api as sm\n",
    "from statsmodels.tsa.stattools import adfuller, kpss\n",
    "from statsmodels.tsa.api import ExponentialSmoothing"
   ]
  },
  {
   "cell_type": "code",
   "execution_count": 939,
   "id": "ecd27b3f",
   "metadata": {},
   "outputs": [
    {
     "data": {
      "text/html": [
       "<div>\n",
       "<style scoped>\n",
       "    .dataframe tbody tr th:only-of-type {\n",
       "        vertical-align: middle;\n",
       "    }\n",
       "\n",
       "    .dataframe tbody tr th {\n",
       "        vertical-align: top;\n",
       "    }\n",
       "\n",
       "    .dataframe thead th {\n",
       "        text-align: right;\n",
       "    }\n",
       "</style>\n",
       "<table border=\"1\" class=\"dataframe\">\n",
       "  <thead>\n",
       "    <tr style=\"text-align: right;\">\n",
       "      <th></th>\n",
       "      <th>Date</th>\n",
       "      <th>EXG</th>\n",
       "    </tr>\n",
       "  </thead>\n",
       "  <tbody>\n",
       "    <tr>\n",
       "      <th>0</th>\n",
       "      <td>2021-03-26</td>\n",
       "      <td>-0.009000</td>\n",
       "    </tr>\n",
       "    <tr>\n",
       "      <th>1</th>\n",
       "      <td>2021-03-27</td>\n",
       "      <td>-0.008233</td>\n",
       "    </tr>\n",
       "    <tr>\n",
       "      <th>2</th>\n",
       "      <td>2021-03-28</td>\n",
       "      <td>-0.007467</td>\n",
       "    </tr>\n",
       "    <tr>\n",
       "      <th>3</th>\n",
       "      <td>2021-03-29</td>\n",
       "      <td>-0.006700</td>\n",
       "    </tr>\n",
       "    <tr>\n",
       "      <th>4</th>\n",
       "      <td>2021-03-30</td>\n",
       "      <td>-0.005933</td>\n",
       "    </tr>\n",
       "    <tr>\n",
       "      <th>...</th>\n",
       "      <td>...</td>\n",
       "      <td>...</td>\n",
       "    </tr>\n",
       "    <tr>\n",
       "      <th>111</th>\n",
       "      <td>2021-07-15</td>\n",
       "      <td>0.223200</td>\n",
       "    </tr>\n",
       "    <tr>\n",
       "      <th>112</th>\n",
       "      <td>2021-07-16</td>\n",
       "      <td>0.222400</td>\n",
       "    </tr>\n",
       "    <tr>\n",
       "      <th>113</th>\n",
       "      <td>2021-07-17</td>\n",
       "      <td>0.221600</td>\n",
       "    </tr>\n",
       "    <tr>\n",
       "      <th>114</th>\n",
       "      <td>2021-07-18</td>\n",
       "      <td>0.220800</td>\n",
       "    </tr>\n",
       "    <tr>\n",
       "      <th>115</th>\n",
       "      <td>2021-07-19</td>\n",
       "      <td>0.220000</td>\n",
       "    </tr>\n",
       "  </tbody>\n",
       "</table>\n",
       "<p>116 rows × 2 columns</p>\n",
       "</div>"
      ],
      "text/plain": [
       "          Date       EXG\n",
       "0   2021-03-26 -0.009000\n",
       "1   2021-03-27 -0.008233\n",
       "2   2021-03-28 -0.007467\n",
       "3   2021-03-29 -0.006700\n",
       "4   2021-03-30 -0.005933\n",
       "..         ...       ...\n",
       "111 2021-07-15  0.223200\n",
       "112 2021-07-16  0.222400\n",
       "113 2021-07-17  0.221600\n",
       "114 2021-07-18  0.220800\n",
       "115 2021-07-19  0.220000\n",
       "\n",
       "[116 rows x 2 columns]"
      ]
     },
     "execution_count": 939,
     "metadata": {},
     "output_type": "execute_result"
    }
   ],
   "source": [
    "f4"
   ]
  },
  {
   "cell_type": "code",
   "execution_count": 940,
   "id": "96c69673",
   "metadata": {},
   "outputs": [],
   "source": [
    "data2 = f4[0:28].copy()"
   ]
  },
  {
   "cell_type": "code",
   "execution_count": 941,
   "id": "8e0215f8",
   "metadata": {},
   "outputs": [],
   "source": [
    "data2['Date'] = pd.to_datetime(data2['Date'])\n",
    "data2.index = data2['Date']"
   ]
  },
  {
   "cell_type": "code",
   "execution_count": 942,
   "id": "ecac4c3b",
   "metadata": {},
   "outputs": [],
   "source": [
    "data2.drop(['Date'], axis = 1,inplace = True)"
   ]
  },
  {
   "cell_type": "code",
   "execution_count": 943,
   "id": "eef0aec4",
   "metadata": {},
   "outputs": [
    {
     "data": {
      "text/plain": [
       "[<matplotlib.lines.Line2D at 0x22fa4224c70>]"
      ]
     },
     "execution_count": 943,
     "metadata": {},
     "output_type": "execute_result"
    },
    {
     "data": {
      "image/png": "[encoded data removed]",
      "text/plain": [
       "<Figure size 720x360 with 1 Axes>"
      ]
     },
     "metadata": {
      "needs_background": "light"
     },
     "output_type": "display_data"
    }
   ],
   "source": [
    "from matplotlib.pylab import rcParams\n",
    "rcParams['figure.figsize'] = 10,5\n",
    "plt.plot(data2['EXG'])"
   ]
  },
  {
   "cell_type": "code",
   "execution_count": 944,
   "id": "2ba5b972",
   "metadata": {},
   "outputs": [
    {
     "name": "stdout",
     "output_type": "stream",
     "text": [
      "ADF Statistic: 2.0513411159930803\n",
      "p-value: 0.9987360609104285\n"
     ]
    }
   ],
   "source": [
    "ad_fuller_result = adfuller(data2['EXG'])\n",
    "print(f'ADF Statistic: {ad_fuller_result[0]}')\n",
    "print(f'p-value: {ad_fuller_result[1]}')"
   ]
  },
  {
   "cell_type": "code",
   "execution_count": 656,
   "id": "aa149771",
   "metadata": {},
   "outputs": [],
   "source": [
    "# Diff by 1 value\n",
    "data2['EXG_log_1'] = data2['EXG'].diff()"
   ]
  },
  {
   "cell_type": "code",
   "execution_count": 945,
   "id": "3acb77b7",
   "metadata": {},
   "outputs": [],
   "source": [
    "# Diff by 2 value\n",
    "data2['EXG_log_1'] = data2['EXG'].diff().diff()"
   ]
  },
  {
   "cell_type": "code",
   "execution_count": 458,
   "id": "6909040e",
   "metadata": {},
   "outputs": [
    {
     "name": "stderr",
     "output_type": "stream",
     "text": [
      "C:\\ProgramData\\Anaconda3\\lib\\site-packages\\pandas\\core\\arraylike.py:397: RuntimeWarning: invalid value encountered in log\n",
      "  result = getattr(ufunc, method)(*inputs, **kwargs)\n"
     ]
    }
   ],
   "source": [
    "# Diff by 2 values (log)\n",
    "data2['EXG_log'] = np.log(data2['EXG'])\n",
    "data2['EXG_log_1'] = data2['EXG_log'].diff().diff()"
   ]
  },
  {
   "cell_type": "code",
   "execution_count": 793,
   "id": "079c513a",
   "metadata": {},
   "outputs": [
    {
     "name": "stderr",
     "output_type": "stream",
     "text": [
      "C:\\ProgramData\\Anaconda3\\lib\\site-packages\\pandas\\core\\arraylike.py:397: RuntimeWarning: invalid value encountered in log\n",
      "  result = getattr(ufunc, method)(*inputs, **kwargs)\n",
      "C:\\ProgramData\\Anaconda3\\lib\\site-packages\\pandas\\core\\arraylike.py:397: RuntimeWarning: invalid value encountered in log\n",
      "  result = getattr(ufunc, method)(*inputs, **kwargs)\n"
     ]
    }
   ],
   "source": [
    "# Diff by 1 value (log)\n",
    "data2['EXG_log'] = np.log(data2['EXG'])\n",
    "data2['EXG_log_1'] = np.log(data2['EXG_log']).diff()"
   ]
  },
  {
   "cell_type": "code",
   "execution_count": 842,
   "id": "253bd22c",
   "metadata": {},
   "outputs": [
    {
     "name": "stderr",
     "output_type": "stream",
     "text": [
      "C:\\ProgramData\\Anaconda3\\lib\\site-packages\\pandas\\core\\arraylike.py:397: RuntimeWarning: invalid value encountered in log\n",
      "  result = getattr(ufunc, method)(*inputs, **kwargs)\n"
     ]
    }
   ],
   "source": [
    "# Log and take difference of log\n",
    "data2['EXG_log'] = np.log(data2['EXG'])\n",
    "data2['EXG_log_1'] = data2['EXG_log'] - data2['EXG_log'].diff()"
   ]
  },
  {
   "cell_type": "code",
   "execution_count": 946,
   "id": "a3286095",
   "metadata": {},
   "outputs": [
    {
     "name": "stdout",
     "output_type": "stream",
     "text": [
      "ADF Statistic: -5.05156025054647\n",
      "p-value: 1.7528748204067904e-05\n"
     ]
    }
   ],
   "source": [
    "ad_fuller_result = adfuller(data2['EXG_log_1'].dropna())\n",
    "print(f'ADF Statistic: {ad_fuller_result[0]}')\n",
    "print(f'p-value: {ad_fuller_result[1]}')"
   ]
  },
  {
   "cell_type": "code",
   "execution_count": 947,
   "id": "76437fff",
   "metadata": {},
   "outputs": [],
   "source": [
    "data2 = data2.dropna()"
   ]
  },
  {
   "cell_type": "code",
   "execution_count": 948,
   "id": "8a552e8a",
   "metadata": {},
   "outputs": [
    {
     "data": {
      "text/html": [
       "<div>\n",
       "<style scoped>\n",
       "    .dataframe tbody tr th:only-of-type {\n",
       "        vertical-align: middle;\n",
       "    }\n",
       "\n",
       "    .dataframe tbody tr th {\n",
       "        vertical-align: top;\n",
       "    }\n",
       "\n",
       "    .dataframe thead th {\n",
       "        text-align: right;\n",
       "    }\n",
       "</style>\n",
       "<table border=\"1\" class=\"dataframe\">\n",
       "  <thead>\n",
       "    <tr style=\"text-align: right;\">\n",
       "      <th></th>\n",
       "      <th>EXG</th>\n",
       "      <th>EXG_log_1</th>\n",
       "    </tr>\n",
       "    <tr>\n",
       "      <th>Date</th>\n",
       "      <th></th>\n",
       "      <th></th>\n",
       "    </tr>\n",
       "  </thead>\n",
       "  <tbody>\n",
       "    <tr>\n",
       "      <th>2021-03-28</th>\n",
       "      <td>-0.007467</td>\n",
       "      <td>-1.000000e-09</td>\n",
       "    </tr>\n",
       "    <tr>\n",
       "      <th>2021-03-29</th>\n",
       "      <td>-0.006700</td>\n",
       "      <td>1.000000e-09</td>\n",
       "    </tr>\n",
       "    <tr>\n",
       "      <th>2021-03-30</th>\n",
       "      <td>-0.005933</td>\n",
       "      <td>8.673617e-19</td>\n",
       "    </tr>\n",
       "    <tr>\n",
       "      <th>2021-03-31</th>\n",
       "      <td>-0.005167</td>\n",
       "      <td>-1.000000e-09</td>\n",
       "    </tr>\n",
       "    <tr>\n",
       "      <th>2021-04-01</th>\n",
       "      <td>-0.004400</td>\n",
       "      <td>1.000000e-09</td>\n",
       "    </tr>\n",
       "    <tr>\n",
       "      <th>2021-04-02</th>\n",
       "      <td>-0.003633</td>\n",
       "      <td>8.673617e-19</td>\n",
       "    </tr>\n",
       "    <tr>\n",
       "      <th>2021-04-03</th>\n",
       "      <td>-0.002867</td>\n",
       "      <td>-1.000000e-09</td>\n",
       "    </tr>\n",
       "    <tr>\n",
       "      <th>2021-04-04</th>\n",
       "      <td>-0.002100</td>\n",
       "      <td>1.000000e-09</td>\n",
       "    </tr>\n",
       "    <tr>\n",
       "      <th>2021-04-05</th>\n",
       "      <td>-0.001333</td>\n",
       "      <td>0.000000e+00</td>\n",
       "    </tr>\n",
       "    <tr>\n",
       "      <th>2021-04-06</th>\n",
       "      <td>-0.000567</td>\n",
       "      <td>-1.000000e-09</td>\n",
       "    </tr>\n",
       "    <tr>\n",
       "      <th>2021-04-07</th>\n",
       "      <td>0.000200</td>\n",
       "      <td>1.000000e-09</td>\n",
       "    </tr>\n",
       "    <tr>\n",
       "      <th>2021-04-08</th>\n",
       "      <td>0.001267</td>\n",
       "      <td>3.000000e-04</td>\n",
       "    </tr>\n",
       "    <tr>\n",
       "      <th>2021-04-09</th>\n",
       "      <td>0.002333</td>\n",
       "      <td>-1.000000e-09</td>\n",
       "    </tr>\n",
       "    <tr>\n",
       "      <th>2021-04-10</th>\n",
       "      <td>0.003400</td>\n",
       "      <td>1.000000e-09</td>\n",
       "    </tr>\n",
       "    <tr>\n",
       "      <th>2021-04-11</th>\n",
       "      <td>0.004467</td>\n",
       "      <td>0.000000e+00</td>\n",
       "    </tr>\n",
       "    <tr>\n",
       "      <th>2021-04-12</th>\n",
       "      <td>0.005533</td>\n",
       "      <td>-1.000000e-09</td>\n",
       "    </tr>\n",
       "    <tr>\n",
       "      <th>2021-04-13</th>\n",
       "      <td>0.006600</td>\n",
       "      <td>1.000000e-09</td>\n",
       "    </tr>\n",
       "    <tr>\n",
       "      <th>2021-04-14</th>\n",
       "      <td>0.007667</td>\n",
       "      <td>0.000000e+00</td>\n",
       "    </tr>\n",
       "    <tr>\n",
       "      <th>2021-04-15</th>\n",
       "      <td>0.008733</td>\n",
       "      <td>-1.000000e-09</td>\n",
       "    </tr>\n",
       "    <tr>\n",
       "      <th>2021-04-16</th>\n",
       "      <td>0.009800</td>\n",
       "      <td>1.000000e-09</td>\n",
       "    </tr>\n",
       "    <tr>\n",
       "      <th>2021-04-17</th>\n",
       "      <td>0.010867</td>\n",
       "      <td>0.000000e+00</td>\n",
       "    </tr>\n",
       "    <tr>\n",
       "      <th>2021-04-18</th>\n",
       "      <td>0.011933</td>\n",
       "      <td>-1.000000e-09</td>\n",
       "    </tr>\n",
       "    <tr>\n",
       "      <th>2021-04-19</th>\n",
       "      <td>0.013000</td>\n",
       "      <td>1.000000e-09</td>\n",
       "    </tr>\n",
       "    <tr>\n",
       "      <th>2021-04-20</th>\n",
       "      <td>0.016600</td>\n",
       "      <td>2.533333e-03</td>\n",
       "    </tr>\n",
       "    <tr>\n",
       "      <th>2021-04-21</th>\n",
       "      <td>0.020200</td>\n",
       "      <td>-1.734723e-18</td>\n",
       "    </tr>\n",
       "    <tr>\n",
       "      <th>2021-04-22</th>\n",
       "      <td>0.023800</td>\n",
       "      <td>3.469447e-18</td>\n",
       "    </tr>\n",
       "  </tbody>\n",
       "</table>\n",
       "</div>"
      ],
      "text/plain": [
       "                 EXG     EXG_log_1\n",
       "Date                              \n",
       "2021-03-28 -0.007467 -1.000000e-09\n",
       "2021-03-29 -0.006700  1.000000e-09\n",
       "2021-03-30 -0.005933  8.673617e-19\n",
       "2021-03-31 -0.005167 -1.000000e-09\n",
       "2021-04-01 -0.004400  1.000000e-09\n",
       "2021-04-02 -0.003633  8.673617e-19\n",
       "2021-04-03 -0.002867 -1.000000e-09\n",
       "2021-04-04 -0.002100  1.000000e-09\n",
       "2021-04-05 -0.001333  0.000000e+00\n",
       "2021-04-06 -0.000567 -1.000000e-09\n",
       "2021-04-07  0.000200  1.000000e-09\n",
       "2021-04-08  0.001267  3.000000e-04\n",
       "2021-04-09  0.002333 -1.000000e-09\n",
       "2021-04-10  0.003400  1.000000e-09\n",
       "2021-04-11  0.004467  0.000000e+00\n",
       "2021-04-12  0.005533 -1.000000e-09\n",
       "2021-04-13  0.006600  1.000000e-09\n",
       "2021-04-14  0.007667  0.000000e+00\n",
       "2021-04-15  0.008733 -1.000000e-09\n",
       "2021-04-16  0.009800  1.000000e-09\n",
       "2021-04-17  0.010867  0.000000e+00\n",
       "2021-04-18  0.011933 -1.000000e-09\n",
       "2021-04-19  0.013000  1.000000e-09\n",
       "2021-04-20  0.016600  2.533333e-03\n",
       "2021-04-21  0.020200 -1.734723e-18\n",
       "2021-04-22  0.023800  3.469447e-18"
      ]
     },
     "execution_count": 948,
     "metadata": {},
     "output_type": "execute_result"
    }
   ],
   "source": [
    "data2"
   ]
  },
  {
   "cell_type": "code",
   "execution_count": 949,
   "id": "65729003",
   "metadata": {},
   "outputs": [
    {
     "data": {
      "image/png": "[encoded data removed]",
      "text/plain": [
       "<Figure size 720x360 with 1 Axes>"
      ]
     },
     "metadata": {
      "needs_background": "light"
     },
     "output_type": "display_data"
    }
   ],
   "source": [
    "sm.graphics.tsa.plot_acf(data2['EXG_log_1'].values.squeeze(), lags=10)\n",
    "plt.show()"
   ]
  },
  {
   "cell_type": "code",
   "execution_count": 950,
   "id": "d8e6554f",
   "metadata": {},
   "outputs": [
    {
     "name": "stderr",
     "output_type": "stream",
     "text": [
      "C:\\ProgramData\\Anaconda3\\lib\\site-packages\\statsmodels\\graphics\\tsaplots.py:348: FutureWarning: The default method 'yw' can produce PACF values outside of the [-1,1] interval. After 0.13, the default will change tounadjusted Yule-Walker ('ywm'). You can use this method now by setting method='ywm'.\n",
      "  warnings.warn(\n"
     ]
    },
    {
     "data": {
      "image/png": "[encoded data removed]",
      "text/plain": [
       "<Figure size 720x360 with 1 Axes>"
      ]
     },
     "metadata": {
      "needs_background": "light"
     },
     "output_type": "display_data"
    }
   ],
   "source": [
    "sm.graphics.tsa.plot_pacf(data2['EXG_log_1'].values.squeeze(), lags=10)\n",
    "plt.show()"
   ]
  },
  {
   "cell_type": "code",
   "execution_count": 109,
   "id": "bfa8c6ff",
   "metadata": {},
   "outputs": [],
   "source": [
    "# p can be 1\n",
    "# q value can be 0"
   ]
  },
  {
   "cell_type": "code",
   "execution_count": 951,
   "id": "3d2a5062",
   "metadata": {},
   "outputs": [
    {
     "data": {
      "text/plain": [
       "Date\n",
       "2021-03-28   -0.007467\n",
       "2021-03-29   -0.006700\n",
       "2021-03-30   -0.005933\n",
       "2021-03-31   -0.005167\n",
       "2021-04-01   -0.004400\n",
       "2021-04-02   -0.003633\n",
       "2021-04-03   -0.002867\n",
       "2021-04-04   -0.002100\n",
       "2021-04-05   -0.001333\n",
       "2021-04-06   -0.000567\n",
       "2021-04-07    0.000200\n",
       "2021-04-08    0.001267\n",
       "2021-04-09    0.002333\n",
       "2021-04-10    0.003400\n",
       "2021-04-11    0.004467\n",
       "2021-04-12    0.005533\n",
       "2021-04-13    0.006600\n",
       "2021-04-14    0.007667\n",
       "2021-04-15    0.008733\n",
       "2021-04-16    0.009800\n",
       "2021-04-17    0.010867\n",
       "2021-04-18    0.011933\n",
       "2021-04-19    0.013000\n",
       "2021-04-20    0.016600\n",
       "2021-04-21    0.020200\n",
       "2021-04-22    0.023800\n",
       "Name: EXG, dtype: float64"
      ]
     },
     "execution_count": 951,
     "metadata": {},
     "output_type": "execute_result"
    }
   ],
   "source": [
    "train_data_1 = data2['EXG']\n",
    "train_data_1"
   ]
  },
  {
   "cell_type": "code",
   "execution_count": 952,
   "id": "856883e1",
   "metadata": {},
   "outputs": [
    {
     "name": "stderr",
     "output_type": "stream",
     "text": [
      "C:\\ProgramData\\Anaconda3\\lib\\site-packages\\statsmodels\\tsa\\base\\tsa_model.py:471: ValueWarning: No frequency information was provided, so inferred frequency D will be used.\n",
      "  self._init_dates(dates, freq)\n",
      "C:\\ProgramData\\Anaconda3\\lib\\site-packages\\statsmodels\\tsa\\base\\tsa_model.py:471: ValueWarning: No frequency information was provided, so inferred frequency D will be used.\n",
      "  self._init_dates(dates, freq)\n",
      "C:\\ProgramData\\Anaconda3\\lib\\site-packages\\statsmodels\\tsa\\base\\tsa_model.py:471: ValueWarning: No frequency information was provided, so inferred frequency D will be used.\n",
      "  self._init_dates(dates, freq)\n"
     ]
    }
   ],
   "source": [
    "from math import sqrt\n",
    "from multiprocessing import cpu_count\n",
    "from joblib import Parallel\n",
    "from joblib import delayed\n",
    "from warnings import catch_warnings\n",
    "from warnings import filterwarnings\n",
    "from statsmodels.tsa.statespace.sarimax import SARIMAX\n",
    "from sklearn.metrics import mean_squared_error\n",
    "from statsmodels.tsa.arima.model import ARIMA\n",
    "model = ARIMA(train_data_1, order = (0,2,0))\n",
    "model_fit = model.fit()"
   ]
  },
  {
   "cell_type": "code",
   "execution_count": 953,
   "id": "addd8488",
   "metadata": {},
   "outputs": [
    {
     "name": "stdout",
     "output_type": "stream",
     "text": [
      "                               SARIMAX Results                                \n",
      "==============================================================================\n",
      "Dep. Variable:                    EXG   No. Observations:                   26\n",
      "Model:                 ARIMA(0, 2, 0)   Log Likelihood                 147.391\n",
      "Date:                Tue, 16 Aug 2022   AIC                           -292.782\n",
      "Time:                        13:25:38   BIC                           -291.604\n",
      "Sample:                    03-28-2021   HQIC                          -292.469\n",
      "                         - 04-22-2021                                         \n",
      "Covariance Type:                  opg                                         \n",
      "==============================================================================\n",
      "                 coef    std err          z      P>|z|      [0.025      0.975]\n",
      "------------------------------------------------------------------------------\n",
      "sigma2      2.673e-07   2.27e-08     11.766      0.000    2.23e-07    3.12e-07\n",
      "===================================================================================\n",
      "Ljung-Box (L1) (Q):                   0.09   Jarque-Bera (JB):               420.49\n",
      "Prob(Q):                              0.77   Prob(JB):                         0.00\n",
      "Heteroskedasticity (H):   1282668448707.33   Skew:                             4.49\n",
      "Prob(H) (two-sided):                  0.00   Kurtosis:                        21.43\n",
      "===================================================================================\n",
      "\n",
      "Warnings:\n",
      "[1] Covariance matrix calculated using the outer product of gradients (complex-step).\n"
     ]
    }
   ],
   "source": [
    "print (model_fit.summary())"
   ]
  },
  {
   "cell_type": "code",
   "execution_count": 954,
   "id": "f597b940",
   "metadata": {},
   "outputs": [
    {
     "data": {
      "text/plain": [
       "<AxesSubplot:xlabel='Date'>"
      ]
     },
     "execution_count": 954,
     "metadata": {},
     "output_type": "execute_result"
    },
    {
     "data": {
      "image/png": "[encoded data removed]",
      "text/plain": [
       "<Figure size 720x360 with 1 Axes>"
      ]
     },
     "metadata": {
      "needs_background": "light"
     },
     "output_type": "display_data"
    }
   ],
   "source": [
    "from pandas import DataFrame\n",
    "residuals = DataFrame(model_fit.resid)\n",
    "residuals.plot()"
   ]
  },
  {
   "cell_type": "code",
   "execution_count": 955,
   "id": "185a8660",
   "metadata": {},
   "outputs": [
    {
     "data": {
      "text/plain": [
       "<AxesSubplot:ylabel='Density'>"
      ]
     },
     "execution_count": 955,
     "metadata": {},
     "output_type": "execute_result"
    },
    {
     "data": {
      "image/png": "[encoded data removed]",
      "text/plain": [
       "<Figure size 720x360 with 1 Axes>"
      ]
     },
     "metadata": {
      "needs_background": "light"
     },
     "output_type": "display_data"
    }
   ],
   "source": [
    "residuals.plot(kind='kde')"
   ]
  },
  {
   "cell_type": "code",
   "execution_count": 956,
   "id": "f2baed19",
   "metadata": {},
   "outputs": [
    {
     "data": {
      "text/html": [
       "<div>\n",
       "<style scoped>\n",
       "    .dataframe tbody tr th:only-of-type {\n",
       "        vertical-align: middle;\n",
       "    }\n",
       "\n",
       "    .dataframe tbody tr th {\n",
       "        vertical-align: top;\n",
       "    }\n",
       "\n",
       "    .dataframe thead th {\n",
       "        text-align: right;\n",
       "    }\n",
       "</style>\n",
       "<table border=\"1\" class=\"dataframe\">\n",
       "  <thead>\n",
       "    <tr style=\"text-align: right;\">\n",
       "      <th></th>\n",
       "      <th>0</th>\n",
       "    </tr>\n",
       "  </thead>\n",
       "  <tbody>\n",
       "    <tr>\n",
       "      <th>count</th>\n",
       "      <td>2.600000e+01</td>\n",
       "    </tr>\n",
       "    <tr>\n",
       "      <th>mean</th>\n",
       "      <td>-5.176257e-06</td>\n",
       "    </tr>\n",
       "    <tr>\n",
       "      <th>std</th>\n",
       "      <td>1.816681e-03</td>\n",
       "    </tr>\n",
       "    <tr>\n",
       "      <th>min</th>\n",
       "      <td>-7.466667e-03</td>\n",
       "    </tr>\n",
       "    <tr>\n",
       "      <th>25%</th>\n",
       "      <td>-9.999998e-10</td>\n",
       "    </tr>\n",
       "    <tr>\n",
       "      <th>50%</th>\n",
       "      <td>-4.412811e-13</td>\n",
       "    </tr>\n",
       "    <tr>\n",
       "      <th>75%</th>\n",
       "      <td>1.000441e-09</td>\n",
       "    </tr>\n",
       "    <tr>\n",
       "      <th>max</th>\n",
       "      <td>4.500001e-03</td>\n",
       "    </tr>\n",
       "  </tbody>\n",
       "</table>\n",
       "</div>"
      ],
      "text/plain": [
       "                  0\n",
       "count  2.600000e+01\n",
       "mean  -5.176257e-06\n",
       "std    1.816681e-03\n",
       "min   -7.466667e-03\n",
       "25%   -9.999998e-10\n",
       "50%   -4.412811e-13\n",
       "75%    1.000441e-09\n",
       "max    4.500001e-03"
      ]
     },
     "execution_count": 956,
     "metadata": {},
     "output_type": "execute_result"
    }
   ],
   "source": [
    "residuals.describe()"
   ]
  },
  {
   "cell_type": "code",
   "execution_count": 957,
   "id": "b09ab895",
   "metadata": {},
   "outputs": [],
   "source": [
    "model_pred = model_fit.forecast(steps = 88)"
   ]
  },
  {
   "cell_type": "code",
   "execution_count": 958,
   "id": "57d1ff9c",
   "metadata": {},
   "outputs": [
    {
     "data": {
      "text/plain": [
       "2021-04-23    0.0274\n",
       "2021-04-24    0.0310\n",
       "2021-04-25    0.0346\n",
       "2021-04-26    0.0382\n",
       "2021-04-27    0.0418\n",
       "               ...  \n",
       "2021-07-15    0.3262\n",
       "2021-07-16    0.3298\n",
       "2021-07-17    0.3334\n",
       "2021-07-18    0.3370\n",
       "2021-07-19    0.3406\n",
       "Freq: D, Name: predicted_mean, Length: 88, dtype: float64"
      ]
     },
     "execution_count": 958,
     "metadata": {},
     "output_type": "execute_result"
    }
   ],
   "source": [
    "model_pred"
   ]
  },
  {
   "cell_type": "code",
   "execution_count": 715,
   "id": "7d624d95",
   "metadata": {},
   "outputs": [],
   "source": [
    "model_pred_1 = np.exp(model_pred)"
   ]
  },
  {
   "cell_type": "code",
   "execution_count": 716,
   "id": "1cf76d04",
   "metadata": {},
   "outputs": [
    {
     "data": {
      "text/plain": [
       "2021-05-21    0.203937\n",
       "2021-05-22    0.215810\n",
       "2021-05-23    0.228203\n",
       "2021-05-24    0.241131\n",
       "2021-05-25    0.254606\n",
       "2021-05-26    0.268641\n",
       "2021-05-27    0.283250\n",
       "2021-05-28    0.298444\n",
       "2021-05-29    0.314236\n",
       "2021-05-30    0.330640\n",
       "2021-05-31    0.347666\n",
       "2021-06-01    0.365327\n",
       "2021-06-02    0.383634\n",
       "2021-06-03    0.402598\n",
       "2021-06-04    0.422232\n",
       "2021-06-05    0.442545\n",
       "2021-06-06    0.463547\n",
       "2021-06-07    0.485250\n",
       "2021-06-08    0.507662\n",
       "2021-06-09    0.530793\n",
       "2021-06-10    0.554652\n",
       "2021-06-11    0.579247\n",
       "2021-06-12    0.604587\n",
       "2021-06-13    0.630679\n",
       "2021-06-14    0.657530\n",
       "2021-06-15    0.685148\n",
       "2021-06-16    0.713539\n",
       "2021-06-17    0.742708\n",
       "2021-06-18    0.772660\n",
       "2021-06-19    0.803402\n",
       "2021-06-20    0.834937\n",
       "2021-06-21    0.867269\n",
       "2021-06-22    0.900402\n",
       "2021-06-23    0.934339\n",
       "2021-06-24    0.969081\n",
       "2021-06-25    1.004632\n",
       "2021-06-26    1.040991\n",
       "2021-06-27    1.078161\n",
       "2021-06-28    1.116142\n",
       "2021-06-29    1.154933\n",
       "2021-06-30    1.194533\n",
       "2021-07-01    1.234942\n",
       "2021-07-02    1.276158\n",
       "2021-07-03    1.318179\n",
       "2021-07-04    1.361001\n",
       "2021-07-05    1.404622\n",
       "2021-07-06    1.449038\n",
       "2021-07-07    1.494245\n",
       "2021-07-08    1.540237\n",
       "2021-07-09    1.587011\n",
       "2021-07-10    1.634560\n",
       "2021-07-11    1.682878\n",
       "2021-07-12    1.731958\n",
       "2021-07-13    1.781795\n",
       "2021-07-14    1.832379\n",
       "2021-07-15    1.883704\n",
       "2021-07-16    1.935761\n",
       "2021-07-17    1.988541\n",
       "2021-07-18    2.042036\n",
       "2021-07-19    2.096235\n",
       "Freq: D, Name: predicted_mean, dtype: float64"
      ]
     },
     "execution_count": 716,
     "metadata": {},
     "output_type": "execute_result"
    }
   ],
   "source": [
    "model_pred_1"
   ]
  },
  {
   "cell_type": "code",
   "execution_count": 930,
   "id": "8f14f5a6",
   "metadata": {},
   "outputs": [],
   "source": [
    "test_data = f4['EXG'].iloc[98:116]"
   ]
  },
  {
   "cell_type": "code",
   "execution_count": 931,
   "id": "ab508cbd",
   "metadata": {},
   "outputs": [
    {
     "data": {
      "text/plain": [
       "98     0.220571\n",
       "99     0.220857\n",
       "100    0.221143\n",
       "101    0.221429\n",
       "102    0.221714\n",
       "103    0.222000\n",
       "104    0.222286\n",
       "105    0.222571\n",
       "106    0.222857\n",
       "107    0.223143\n",
       "108    0.223429\n",
       "109    0.223714\n",
       "110    0.224000\n",
       "111    0.223200\n",
       "112    0.222400\n",
       "113    0.221600\n",
       "114    0.220800\n",
       "115    0.220000\n",
       "Name: EXG, dtype: float64"
      ]
     },
     "execution_count": 931,
     "metadata": {},
     "output_type": "execute_result"
    }
   ],
   "source": [
    "test_data"
   ]
  },
  {
   "cell_type": "code",
   "execution_count": 959,
   "id": "af2d8254",
   "metadata": {},
   "outputs": [],
   "source": [
    "model_pred.to_csv('28_day_2021_EXG.csv')"
   ]
  },
  {
   "cell_type": "code",
   "execution_count": 933,
   "id": "049c0f3c",
   "metadata": {},
   "outputs": [
    {
     "name": "stdout",
     "output_type": "stream",
     "text": [
      "Test RMSE: 0.002\n"
     ]
    }
   ],
   "source": [
    "from sklearn.metrics import mean_squared_error\n",
    "from math import sqrt\n",
    "rmse = sqrt(mean_squared_error(test_data, model_pred))\n",
    "print('Test RMSE: %.3f' % rmse)"
   ]
  },
  {
   "cell_type": "code",
   "execution_count": null,
   "id": "ad3721e1",
   "metadata": {},
   "outputs": [],
   "source": []
  }
 ],
 "metadata": {
  "kernelspec": {
   "display_name": "Python 3 (ipykernel)",
   "language": "python",
   "name": "python3"
  },
  "language_info": {
   "codemirror_mode": {
    "name": "ipython",
    "version": 3
   },
   "file_extension": ".py",
   "mimetype": "text/x-python",
   "name": "python",
   "nbconvert_exporter": "python",
   "pygments_lexer": "ipython3",
   "version": "3.9.12"
  }
 },
 "nbformat": 4,
 "nbformat_minor": 5
}
