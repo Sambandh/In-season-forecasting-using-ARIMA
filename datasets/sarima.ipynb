{
 "cells": [
  {
   "cell_type": "code",
   "execution_count": 239,
   "id": "ee644ca7",
   "metadata": {},
   "outputs": [],
   "source": [
    "import numpy as np\n",
    "import matplotlib.pyplot as plt\n",
    "import pandas as pd"
   ]
  },
  {
   "cell_type": "code",
   "execution_count": 240,
   "id": "a352f488",
   "metadata": {},
   "outputs": [
    {
     "data": {
      "text/html": [
       "<div>\n",
       "<style scoped>\n",
       "    .dataframe tbody tr th:only-of-type {\n",
       "        vertical-align: middle;\n",
       "    }\n",
       "\n",
       "    .dataframe tbody tr th {\n",
       "        vertical-align: top;\n",
       "    }\n",
       "\n",
       "    .dataframe thead th {\n",
       "        text-align: right;\n",
       "    }\n",
       "</style>\n",
       "<table border=\"1\" class=\"dataframe\">\n",
       "  <thead>\n",
       "    <tr style=\"text-align: right;\">\n",
       "      <th></th>\n",
       "      <th>Day</th>\n",
       "      <th>Date</th>\n",
       "      <th>CC</th>\n",
       "    </tr>\n",
       "  </thead>\n",
       "  <tbody>\n",
       "    <tr>\n",
       "      <th>0</th>\n",
       "      <td>0 2019</td>\n",
       "      <td>2019-03-26</td>\n",
       "      <td>0.00020</td>\n",
       "    </tr>\n",
       "    <tr>\n",
       "      <th>1</th>\n",
       "      <td>13</td>\n",
       "      <td>2019-04-07</td>\n",
       "      <td>0.02500</td>\n",
       "    </tr>\n",
       "    <tr>\n",
       "      <th>2</th>\n",
       "      <td>25</td>\n",
       "      <td>2019-04-19</td>\n",
       "      <td>1.30000</td>\n",
       "    </tr>\n",
       "    <tr>\n",
       "      <th>3</th>\n",
       "      <td>35</td>\n",
       "      <td>2019-04-29</td>\n",
       "      <td>17.32000</td>\n",
       "    </tr>\n",
       "    <tr>\n",
       "      <th>4</th>\n",
       "      <td>41</td>\n",
       "      <td>2019-05-05</td>\n",
       "      <td>35.63000</td>\n",
       "    </tr>\n",
       "    <tr>\n",
       "      <th>5</th>\n",
       "      <td>49</td>\n",
       "      <td>2019-05-13</td>\n",
       "      <td>50.14000</td>\n",
       "    </tr>\n",
       "    <tr>\n",
       "      <th>6</th>\n",
       "      <td>55</td>\n",
       "      <td>2019-05-19</td>\n",
       "      <td>58.85000</td>\n",
       "    </tr>\n",
       "    <tr>\n",
       "      <th>7</th>\n",
       "      <td>62</td>\n",
       "      <td>2019-05-26</td>\n",
       "      <td>67.48000</td>\n",
       "    </tr>\n",
       "    <tr>\n",
       "      <th>8</th>\n",
       "      <td>69</td>\n",
       "      <td>2019-06-02</td>\n",
       "      <td>75.48000</td>\n",
       "    </tr>\n",
       "    <tr>\n",
       "      <th>9</th>\n",
       "      <td>77</td>\n",
       "      <td>2019-06-10</td>\n",
       "      <td>84.80000</td>\n",
       "    </tr>\n",
       "    <tr>\n",
       "      <th>10</th>\n",
       "      <td>84</td>\n",
       "      <td>2019-06-17</td>\n",
       "      <td>94.14000</td>\n",
       "    </tr>\n",
       "    <tr>\n",
       "      <th>11</th>\n",
       "      <td>91</td>\n",
       "      <td>2019-06-24</td>\n",
       "      <td>95.72000</td>\n",
       "    </tr>\n",
       "    <tr>\n",
       "      <th>12</th>\n",
       "      <td>97</td>\n",
       "      <td>2019-06-30</td>\n",
       "      <td>89.73000</td>\n",
       "    </tr>\n",
       "    <tr>\n",
       "      <th>13</th>\n",
       "      <td>111</td>\n",
       "      <td>2019-07-14</td>\n",
       "      <td>83.46000</td>\n",
       "    </tr>\n",
       "    <tr>\n",
       "      <th>14</th>\n",
       "      <td>116</td>\n",
       "      <td>2019-07-19</td>\n",
       "      <td>71.20000</td>\n",
       "    </tr>\n",
       "    <tr>\n",
       "      <th>15</th>\n",
       "      <td>0 2020</td>\n",
       "      <td>2020-03-26</td>\n",
       "      <td>0.00049</td>\n",
       "    </tr>\n",
       "    <tr>\n",
       "      <th>16</th>\n",
       "      <td>13</td>\n",
       "      <td>2020-04-07</td>\n",
       "      <td>0.21000</td>\n",
       "    </tr>\n",
       "    <tr>\n",
       "      <th>17</th>\n",
       "      <td>25</td>\n",
       "      <td>2020-04-19</td>\n",
       "      <td>5.73500</td>\n",
       "    </tr>\n",
       "    <tr>\n",
       "      <th>18</th>\n",
       "      <td>35</td>\n",
       "      <td>2020-04-29</td>\n",
       "      <td>20.50000</td>\n",
       "    </tr>\n",
       "    <tr>\n",
       "      <th>19</th>\n",
       "      <td>41</td>\n",
       "      <td>2020-05-05</td>\n",
       "      <td>24.78000</td>\n",
       "    </tr>\n",
       "    <tr>\n",
       "      <th>20</th>\n",
       "      <td>49</td>\n",
       "      <td>2020-05-13</td>\n",
       "      <td>31.62000</td>\n",
       "    </tr>\n",
       "    <tr>\n",
       "      <th>21</th>\n",
       "      <td>55</td>\n",
       "      <td>2020-05-19</td>\n",
       "      <td>41.44000</td>\n",
       "    </tr>\n",
       "    <tr>\n",
       "      <th>22</th>\n",
       "      <td>62</td>\n",
       "      <td>2020-05-26</td>\n",
       "      <td>48.46000</td>\n",
       "    </tr>\n",
       "    <tr>\n",
       "      <th>23</th>\n",
       "      <td>69</td>\n",
       "      <td>2020-06-02</td>\n",
       "      <td>54.90000</td>\n",
       "    </tr>\n",
       "    <tr>\n",
       "      <th>24</th>\n",
       "      <td>77</td>\n",
       "      <td>2020-06-10</td>\n",
       "      <td>69.30000</td>\n",
       "    </tr>\n",
       "    <tr>\n",
       "      <th>25</th>\n",
       "      <td>84</td>\n",
       "      <td>2020-06-17</td>\n",
       "      <td>78.34000</td>\n",
       "    </tr>\n",
       "    <tr>\n",
       "      <th>26</th>\n",
       "      <td>91</td>\n",
       "      <td>2020-06-24</td>\n",
       "      <td>84.80000</td>\n",
       "    </tr>\n",
       "    <tr>\n",
       "      <th>27</th>\n",
       "      <td>97</td>\n",
       "      <td>2020-06-30</td>\n",
       "      <td>92.45000</td>\n",
       "    </tr>\n",
       "    <tr>\n",
       "      <th>28</th>\n",
       "      <td>111</td>\n",
       "      <td>2020-07-14</td>\n",
       "      <td>89.89000</td>\n",
       "    </tr>\n",
       "    <tr>\n",
       "      <th>29</th>\n",
       "      <td>116</td>\n",
       "      <td>2020-07-19</td>\n",
       "      <td>94.50000</td>\n",
       "    </tr>\n",
       "    <tr>\n",
       "      <th>30</th>\n",
       "      <td>0 2021</td>\n",
       "      <td>2021-03-26</td>\n",
       "      <td>0.00320</td>\n",
       "    </tr>\n",
       "    <tr>\n",
       "      <th>31</th>\n",
       "      <td>13</td>\n",
       "      <td>2021-04-07</td>\n",
       "      <td>0.23000</td>\n",
       "    </tr>\n",
       "    <tr>\n",
       "      <th>32</th>\n",
       "      <td>25</td>\n",
       "      <td>2021-04-19</td>\n",
       "      <td>8.99000</td>\n",
       "    </tr>\n",
       "    <tr>\n",
       "      <th>33</th>\n",
       "      <td>35</td>\n",
       "      <td>2021-04-29</td>\n",
       "      <td>14.49000</td>\n",
       "    </tr>\n",
       "    <tr>\n",
       "      <th>34</th>\n",
       "      <td>41</td>\n",
       "      <td>2021-05-05</td>\n",
       "      <td>22.63000</td>\n",
       "    </tr>\n",
       "    <tr>\n",
       "      <th>35</th>\n",
       "      <td>49</td>\n",
       "      <td>2021-05-13</td>\n",
       "      <td>40.43000</td>\n",
       "    </tr>\n",
       "    <tr>\n",
       "      <th>36</th>\n",
       "      <td>55</td>\n",
       "      <td>2021-05-19</td>\n",
       "      <td>56.09000</td>\n",
       "    </tr>\n",
       "    <tr>\n",
       "      <th>37</th>\n",
       "      <td>62</td>\n",
       "      <td>2021-05-26</td>\n",
       "      <td>68.20000</td>\n",
       "    </tr>\n",
       "    <tr>\n",
       "      <th>38</th>\n",
       "      <td>69</td>\n",
       "      <td>2021-06-02</td>\n",
       "      <td>79.82000</td>\n",
       "    </tr>\n",
       "    <tr>\n",
       "      <th>39</th>\n",
       "      <td>77</td>\n",
       "      <td>2021-06-10</td>\n",
       "      <td>84.83000</td>\n",
       "    </tr>\n",
       "    <tr>\n",
       "      <th>40</th>\n",
       "      <td>84</td>\n",
       "      <td>2021-06-17</td>\n",
       "      <td>84.42000</td>\n",
       "    </tr>\n",
       "    <tr>\n",
       "      <th>41</th>\n",
       "      <td>91</td>\n",
       "      <td>2021-06-24</td>\n",
       "      <td>88.42000</td>\n",
       "    </tr>\n",
       "    <tr>\n",
       "      <th>42</th>\n",
       "      <td>97</td>\n",
       "      <td>2021-06-30</td>\n",
       "      <td>90.53000</td>\n",
       "    </tr>\n",
       "    <tr>\n",
       "      <th>43</th>\n",
       "      <td>111</td>\n",
       "      <td>2021-07-14</td>\n",
       "      <td>91.83000</td>\n",
       "    </tr>\n",
       "    <tr>\n",
       "      <th>44</th>\n",
       "      <td>116</td>\n",
       "      <td>2021-07-19</td>\n",
       "      <td>94.57000</td>\n",
       "    </tr>\n",
       "  </tbody>\n",
       "</table>\n",
       "</div>"
      ],
      "text/plain": [
       "       Day       Date        CC\n",
       "0   0 2019 2019-03-26   0.00020\n",
       "1       13 2019-04-07   0.02500\n",
       "2       25 2019-04-19   1.30000\n",
       "3       35 2019-04-29  17.32000\n",
       "4       41 2019-05-05  35.63000\n",
       "5       49 2019-05-13  50.14000\n",
       "6       55 2019-05-19  58.85000\n",
       "7       62 2019-05-26  67.48000\n",
       "8       69 2019-06-02  75.48000\n",
       "9       77 2019-06-10  84.80000\n",
       "10      84 2019-06-17  94.14000\n",
       "11      91 2019-06-24  95.72000\n",
       "12      97 2019-06-30  89.73000\n",
       "13     111 2019-07-14  83.46000\n",
       "14     116 2019-07-19  71.20000\n",
       "15  0 2020 2020-03-26   0.00049\n",
       "16      13 2020-04-07   0.21000\n",
       "17      25 2020-04-19   5.73500\n",
       "18      35 2020-04-29  20.50000\n",
       "19      41 2020-05-05  24.78000\n",
       "20      49 2020-05-13  31.62000\n",
       "21      55 2020-05-19  41.44000\n",
       "22      62 2020-05-26  48.46000\n",
       "23      69 2020-06-02  54.90000\n",
       "24      77 2020-06-10  69.30000\n",
       "25      84 2020-06-17  78.34000\n",
       "26      91 2020-06-24  84.80000\n",
       "27      97 2020-06-30  92.45000\n",
       "28     111 2020-07-14  89.89000\n",
       "29     116 2020-07-19  94.50000\n",
       "30  0 2021 2021-03-26   0.00320\n",
       "31      13 2021-04-07   0.23000\n",
       "32      25 2021-04-19   8.99000\n",
       "33      35 2021-04-29  14.49000\n",
       "34      41 2021-05-05  22.63000\n",
       "35      49 2021-05-13  40.43000\n",
       "36      55 2021-05-19  56.09000\n",
       "37      62 2021-05-26  68.20000\n",
       "38      69 2021-06-02  79.82000\n",
       "39      77 2021-06-10  84.83000\n",
       "40      84 2021-06-17  84.42000\n",
       "41      91 2021-06-24  88.42000\n",
       "42      97 2021-06-30  90.53000\n",
       "43     111 2021-07-14  91.83000\n",
       "44     116 2021-07-19  94.57000"
      ]
     },
     "execution_count": 240,
     "metadata": {},
     "output_type": "execute_result"
    }
   ],
   "source": [
    "data1 = pd.read_excel(\"C:/Users/samba/OneDrive/Desktop/TAMU CORPUS/Driscoll/sarima/datasets/canopy cover.xlsx\")\n",
    "data1"
   ]
  },
  {
   "cell_type": "code",
   "execution_count": 241,
   "id": "6946a6fb",
   "metadata": {},
   "outputs": [],
   "source": [
    "data1 = data1.iloc[30:45]"
   ]
  },
  {
   "cell_type": "code",
   "execution_count": 242,
   "id": "483c42ee",
   "metadata": {},
   "outputs": [
    {
     "data": {
      "text/html": [
       "<div>\n",
       "<style scoped>\n",
       "    .dataframe tbody tr th:only-of-type {\n",
       "        vertical-align: middle;\n",
       "    }\n",
       "\n",
       "    .dataframe tbody tr th {\n",
       "        vertical-align: top;\n",
       "    }\n",
       "\n",
       "    .dataframe thead th {\n",
       "        text-align: right;\n",
       "    }\n",
       "</style>\n",
       "<table border=\"1\" class=\"dataframe\">\n",
       "  <thead>\n",
       "    <tr style=\"text-align: right;\">\n",
       "      <th></th>\n",
       "      <th>Date</th>\n",
       "      <th>CC</th>\n",
       "    </tr>\n",
       "  </thead>\n",
       "  <tbody>\n",
       "    <tr>\n",
       "      <th>30</th>\n",
       "      <td>2021-03-26</td>\n",
       "      <td>0.0032</td>\n",
       "    </tr>\n",
       "    <tr>\n",
       "      <th>31</th>\n",
       "      <td>2021-04-07</td>\n",
       "      <td>0.2300</td>\n",
       "    </tr>\n",
       "    <tr>\n",
       "      <th>32</th>\n",
       "      <td>2021-04-19</td>\n",
       "      <td>8.9900</td>\n",
       "    </tr>\n",
       "    <tr>\n",
       "      <th>33</th>\n",
       "      <td>2021-04-29</td>\n",
       "      <td>14.4900</td>\n",
       "    </tr>\n",
       "    <tr>\n",
       "      <th>34</th>\n",
       "      <td>2021-05-05</td>\n",
       "      <td>22.6300</td>\n",
       "    </tr>\n",
       "    <tr>\n",
       "      <th>35</th>\n",
       "      <td>2021-05-13</td>\n",
       "      <td>40.4300</td>\n",
       "    </tr>\n",
       "    <tr>\n",
       "      <th>36</th>\n",
       "      <td>2021-05-19</td>\n",
       "      <td>56.0900</td>\n",
       "    </tr>\n",
       "    <tr>\n",
       "      <th>37</th>\n",
       "      <td>2021-05-26</td>\n",
       "      <td>68.2000</td>\n",
       "    </tr>\n",
       "    <tr>\n",
       "      <th>38</th>\n",
       "      <td>2021-06-02</td>\n",
       "      <td>79.8200</td>\n",
       "    </tr>\n",
       "    <tr>\n",
       "      <th>39</th>\n",
       "      <td>2021-06-10</td>\n",
       "      <td>84.8300</td>\n",
       "    </tr>\n",
       "    <tr>\n",
       "      <th>40</th>\n",
       "      <td>2021-06-17</td>\n",
       "      <td>84.4200</td>\n",
       "    </tr>\n",
       "    <tr>\n",
       "      <th>41</th>\n",
       "      <td>2021-06-24</td>\n",
       "      <td>88.4200</td>\n",
       "    </tr>\n",
       "    <tr>\n",
       "      <th>42</th>\n",
       "      <td>2021-06-30</td>\n",
       "      <td>90.5300</td>\n",
       "    </tr>\n",
       "    <tr>\n",
       "      <th>43</th>\n",
       "      <td>2021-07-14</td>\n",
       "      <td>91.8300</td>\n",
       "    </tr>\n",
       "    <tr>\n",
       "      <th>44</th>\n",
       "      <td>2021-07-19</td>\n",
       "      <td>94.5700</td>\n",
       "    </tr>\n",
       "  </tbody>\n",
       "</table>\n",
       "</div>"
      ],
      "text/plain": [
       "         Date       CC\n",
       "30 2021-03-26   0.0032\n",
       "31 2021-04-07   0.2300\n",
       "32 2021-04-19   8.9900\n",
       "33 2021-04-29  14.4900\n",
       "34 2021-05-05  22.6300\n",
       "35 2021-05-13  40.4300\n",
       "36 2021-05-19  56.0900\n",
       "37 2021-05-26  68.2000\n",
       "38 2021-06-02  79.8200\n",
       "39 2021-06-10  84.8300\n",
       "40 2021-06-17  84.4200\n",
       "41 2021-06-24  88.4200\n",
       "42 2021-06-30  90.5300\n",
       "43 2021-07-14  91.8300\n",
       "44 2021-07-19  94.5700"
      ]
     },
     "execution_count": 242,
     "metadata": {},
     "output_type": "execute_result"
    }
   ],
   "source": [
    "data2 = data1.drop(['Day'], axis=1)\n",
    "data2"
   ]
  },
  {
   "cell_type": "code",
   "execution_count": 243,
   "id": "2560eefc",
   "metadata": {},
   "outputs": [],
   "source": [
    "data0 = data2.copy()\n",
    "data0['Date'] = pd.to_datetime(data0['Date'])\n",
    "data0.index = data0['Date']\n",
    "del data0['Date']"
   ]
  },
  {
   "cell_type": "code",
   "execution_count": 244,
   "id": "ebc213f1",
   "metadata": {},
   "outputs": [
    {
     "data": {
      "text/html": [
       "<div>\n",
       "<style scoped>\n",
       "    .dataframe tbody tr th:only-of-type {\n",
       "        vertical-align: middle;\n",
       "    }\n",
       "\n",
       "    .dataframe tbody tr th {\n",
       "        vertical-align: top;\n",
       "    }\n",
       "\n",
       "    .dataframe thead th {\n",
       "        text-align: right;\n",
       "    }\n",
       "</style>\n",
       "<table border=\"1\" class=\"dataframe\">\n",
       "  <thead>\n",
       "    <tr style=\"text-align: right;\">\n",
       "      <th></th>\n",
       "      <th>CC</th>\n",
       "    </tr>\n",
       "    <tr>\n",
       "      <th>Date</th>\n",
       "      <th></th>\n",
       "    </tr>\n",
       "  </thead>\n",
       "  <tbody>\n",
       "    <tr>\n",
       "      <th>2021-03-26</th>\n",
       "      <td>0.0032</td>\n",
       "    </tr>\n",
       "    <tr>\n",
       "      <th>2021-03-27</th>\n",
       "      <td>0.0221</td>\n",
       "    </tr>\n",
       "    <tr>\n",
       "      <th>2021-03-28</th>\n",
       "      <td>0.0410</td>\n",
       "    </tr>\n",
       "    <tr>\n",
       "      <th>2021-03-29</th>\n",
       "      <td>0.0599</td>\n",
       "    </tr>\n",
       "    <tr>\n",
       "      <th>2021-03-30</th>\n",
       "      <td>0.0788</td>\n",
       "    </tr>\n",
       "    <tr>\n",
       "      <th>...</th>\n",
       "      <td>...</td>\n",
       "    </tr>\n",
       "    <tr>\n",
       "      <th>2021-07-15</th>\n",
       "      <td>92.3780</td>\n",
       "    </tr>\n",
       "    <tr>\n",
       "      <th>2021-07-16</th>\n",
       "      <td>92.9260</td>\n",
       "    </tr>\n",
       "    <tr>\n",
       "      <th>2021-07-17</th>\n",
       "      <td>93.4740</td>\n",
       "    </tr>\n",
       "    <tr>\n",
       "      <th>2021-07-18</th>\n",
       "      <td>94.0220</td>\n",
       "    </tr>\n",
       "    <tr>\n",
       "      <th>2021-07-19</th>\n",
       "      <td>94.5700</td>\n",
       "    </tr>\n",
       "  </tbody>\n",
       "</table>\n",
       "<p>116 rows × 1 columns</p>\n",
       "</div>"
      ],
      "text/plain": [
       "                 CC\n",
       "Date               \n",
       "2021-03-26   0.0032\n",
       "2021-03-27   0.0221\n",
       "2021-03-28   0.0410\n",
       "2021-03-29   0.0599\n",
       "2021-03-30   0.0788\n",
       "...             ...\n",
       "2021-07-15  92.3780\n",
       "2021-07-16  92.9260\n",
       "2021-07-17  93.4740\n",
       "2021-07-18  94.0220\n",
       "2021-07-19  94.5700\n",
       "\n",
       "[116 rows x 1 columns]"
      ]
     },
     "execution_count": 244,
     "metadata": {},
     "output_type": "execute_result"
    }
   ],
   "source": [
    "df_interpol = data0.resample('D').mean()\n",
    "df_interpol['CC'] = df_interpol['CC'].interpolate()\n",
    "df_interpol"
   ]
  },
  {
   "cell_type": "code",
   "execution_count": 245,
   "id": "fc9fbdb2",
   "metadata": {},
   "outputs": [],
   "source": [
    "df_interpol.to_csv('CC_2021.csv')"
   ]
  },
  {
   "cell_type": "code",
   "execution_count": 287,
   "id": "4e225f11",
   "metadata": {},
   "outputs": [],
   "source": [
    "f0 = pd.read_csv(\"C:/Users/samba/OneDrive/Desktop/TAMU CORPUS/Driscoll/sarima/datasets/CC_2019.csv\")\n",
    "f1 = pd.read_csv(\"C:/Users/samba/OneDrive/Desktop/TAMU CORPUS/Driscoll/sarima/datasets/CC_2020.csv\")\n",
    "f2 = pd.read_csv(\"C:/Users/samba/OneDrive/Desktop/TAMU CORPUS/Driscoll/sarima/datasets/CC_2021.csv\")"
   ]
  },
  {
   "cell_type": "code",
   "execution_count": 288,
   "id": "9dd2e48a",
   "metadata": {},
   "outputs": [
    {
     "name": "stdout",
     "output_type": "stream",
     "text": [
      "           Date         CC\n",
      "0    2019-03-26   0.000200\n",
      "1    2019-03-27   0.002267\n",
      "2    2019-03-28   0.004333\n",
      "3    2019-03-29   0.006400\n",
      "4    2019-03-30   0.008467\n",
      "..          ...        ...\n",
      "111  2021-07-15  92.378000\n",
      "112  2021-07-16  92.926000\n",
      "113  2021-07-17  93.474000\n",
      "114  2021-07-18  94.022000\n",
      "115  2021-07-19  94.570000\n",
      "\n",
      "[348 rows x 2 columns]\n"
     ]
    },
    {
     "name": "stderr",
     "output_type": "stream",
     "text": [
      "C:\\Users\\samba\\AppData\\Local\\Temp\\ipykernel_24108\\1467872578.py:1: FutureWarning: The frame.append method is deprecated and will be removed from pandas in a future version. Use pandas.concat instead.\n",
      "  f3 = f0.append(f1)\n",
      "C:\\Users\\samba\\AppData\\Local\\Temp\\ipykernel_24108\\1467872578.py:2: FutureWarning: The frame.append method is deprecated and will be removed from pandas in a future version. Use pandas.concat instead.\n",
      "  f4 = f3.append(f2)\n"
     ]
    }
   ],
   "source": [
    "f3 = f0.append(f1)\n",
    "f4 = f3.append(f2)\n",
    "print (f4)"
   ]
  },
  {
   "cell_type": "code",
   "execution_count": 289,
   "id": "03f04c50",
   "metadata": {},
   "outputs": [],
   "source": [
    "f4.to_csv('final_dataset_sarima_cc.csv')"
   ]
  },
  {
   "cell_type": "code",
   "execution_count": 290,
   "id": "4ebeea97",
   "metadata": {},
   "outputs": [],
   "source": [
    "f4['Date'] = pd.to_datetime(f4['Date'])"
   ]
  },
  {
   "cell_type": "code",
   "execution_count": 291,
   "id": "26665571",
   "metadata": {},
   "outputs": [],
   "source": [
    "from datetime import datetime, timedelta\n",
    "import matplotlib.pyplot as plt\n",
    "import numpy as np\n",
    "import pandas as pd\n",
    "import statsmodels.api as sm\n",
    "from statsmodels.tsa.stattools import adfuller, kpss\n",
    "from statsmodels.tsa.api import ExponentialSmoothing"
   ]
  },
  {
   "cell_type": "code",
   "execution_count": 292,
   "id": "ecd27b3f",
   "metadata": {},
   "outputs": [
    {
     "data": {
      "text/html": [
       "<div>\n",
       "<style scoped>\n",
       "    .dataframe tbody tr th:only-of-type {\n",
       "        vertical-align: middle;\n",
       "    }\n",
       "\n",
       "    .dataframe tbody tr th {\n",
       "        vertical-align: top;\n",
       "    }\n",
       "\n",
       "    .dataframe thead th {\n",
       "        text-align: right;\n",
       "    }\n",
       "</style>\n",
       "<table border=\"1\" class=\"dataframe\">\n",
       "  <thead>\n",
       "    <tr style=\"text-align: right;\">\n",
       "      <th></th>\n",
       "      <th>Date</th>\n",
       "      <th>CC</th>\n",
       "    </tr>\n",
       "  </thead>\n",
       "  <tbody>\n",
       "    <tr>\n",
       "      <th>0</th>\n",
       "      <td>2019-03-26</td>\n",
       "      <td>0.000200</td>\n",
       "    </tr>\n",
       "    <tr>\n",
       "      <th>1</th>\n",
       "      <td>2019-03-27</td>\n",
       "      <td>0.002267</td>\n",
       "    </tr>\n",
       "    <tr>\n",
       "      <th>2</th>\n",
       "      <td>2019-03-28</td>\n",
       "      <td>0.004333</td>\n",
       "    </tr>\n",
       "    <tr>\n",
       "      <th>3</th>\n",
       "      <td>2019-03-29</td>\n",
       "      <td>0.006400</td>\n",
       "    </tr>\n",
       "    <tr>\n",
       "      <th>4</th>\n",
       "      <td>2019-03-30</td>\n",
       "      <td>0.008467</td>\n",
       "    </tr>\n",
       "    <tr>\n",
       "      <th>...</th>\n",
       "      <td>...</td>\n",
       "      <td>...</td>\n",
       "    </tr>\n",
       "    <tr>\n",
       "      <th>111</th>\n",
       "      <td>2021-07-15</td>\n",
       "      <td>92.378000</td>\n",
       "    </tr>\n",
       "    <tr>\n",
       "      <th>112</th>\n",
       "      <td>2021-07-16</td>\n",
       "      <td>92.926000</td>\n",
       "    </tr>\n",
       "    <tr>\n",
       "      <th>113</th>\n",
       "      <td>2021-07-17</td>\n",
       "      <td>93.474000</td>\n",
       "    </tr>\n",
       "    <tr>\n",
       "      <th>114</th>\n",
       "      <td>2021-07-18</td>\n",
       "      <td>94.022000</td>\n",
       "    </tr>\n",
       "    <tr>\n",
       "      <th>115</th>\n",
       "      <td>2021-07-19</td>\n",
       "      <td>94.570000</td>\n",
       "    </tr>\n",
       "  </tbody>\n",
       "</table>\n",
       "<p>348 rows × 2 columns</p>\n",
       "</div>"
      ],
      "text/plain": [
       "          Date         CC\n",
       "0   2019-03-26   0.000200\n",
       "1   2019-03-27   0.002267\n",
       "2   2019-03-28   0.004333\n",
       "3   2019-03-29   0.006400\n",
       "4   2019-03-30   0.008467\n",
       "..         ...        ...\n",
       "111 2021-07-15  92.378000\n",
       "112 2021-07-16  92.926000\n",
       "113 2021-07-17  93.474000\n",
       "114 2021-07-18  94.022000\n",
       "115 2021-07-19  94.570000\n",
       "\n",
       "[348 rows x 2 columns]"
      ]
     },
     "execution_count": 292,
     "metadata": {},
     "output_type": "execute_result"
    }
   ],
   "source": [
    "f4"
   ]
  },
  {
   "cell_type": "code",
   "execution_count": 293,
   "id": "96c69673",
   "metadata": {},
   "outputs": [],
   "source": [
    "data2 = f4.copy()"
   ]
  },
  {
   "cell_type": "code",
   "execution_count": 296,
   "id": "8e0215f8",
   "metadata": {},
   "outputs": [],
   "source": [
    "data2['Date'] = pd.to_datetime(data2['Date'])\n",
    "data2.index = data2['Date']"
   ]
  },
  {
   "cell_type": "code",
   "execution_count": 297,
   "id": "ecac4c3b",
   "metadata": {},
   "outputs": [],
   "source": [
    "data2.drop(['Date'], axis = 1,inplace = True)"
   ]
  },
  {
   "cell_type": "code",
   "execution_count": 298,
   "id": "24835227",
   "metadata": {},
   "outputs": [
    {
     "data": {
      "text/plain": [
       "0.0002"
      ]
     },
     "execution_count": 298,
     "metadata": {},
     "output_type": "execute_result"
    }
   ],
   "source": [
    "min(data2['CC'])"
   ]
  },
  {
   "cell_type": "code",
   "execution_count": 210,
   "id": "eef0aec4",
   "metadata": {},
   "outputs": [
    {
     "data": {
      "text/plain": [
       "[<matplotlib.lines.Line2D at 0x28cbb5a3610>]"
      ]
     },
     "execution_count": 210,
     "metadata": {},
     "output_type": "execute_result"
    },
    {
     "data": {
      "image/png": "[encoded data removed]",
      "text/plain": [
       "<Figure size 720x360 with 1 Axes>"
      ]
     },
     "metadata": {
      "needs_background": "light"
     },
     "output_type": "display_data"
    }
   ],
   "source": [
    "from matplotlib.pylab import rcParams\n",
    "rcParams['figure.figsize'] = 10,5\n",
    "plt.plot(data2['CC'])"
   ]
  },
  {
   "cell_type": "code",
   "execution_count": 299,
   "id": "c379d794",
   "metadata": {},
   "outputs": [
    {
     "data": {
      "text/plain": [
       "95.72"
      ]
     },
     "execution_count": 299,
     "metadata": {},
     "output_type": "execute_result"
    }
   ],
   "source": [
    "max(data2['CC'])"
   ]
  },
  {
   "cell_type": "code",
   "execution_count": 300,
   "id": "b436fb78",
   "metadata": {},
   "outputs": [
    {
     "data": {
      "text/plain": [
       "Text(0, 0.5, 'Canopy Cover')"
      ]
     },
     "execution_count": 300,
     "metadata": {},
     "output_type": "execute_result"
    },
    {
     "data": {
      "image/png": "[encoded data removed]",
      "text/plain": [
       "<Figure size 864x432 with 1 Axes>"
      ]
     },
     "metadata": {
      "needs_background": "light"
     },
     "output_type": "display_data"
    }
   ],
   "source": [
    "ax = f4.plot(x='Date', y='CC', figsize=(12,6))\n",
    "xcoords = ['2019-03-26', '2020-03-26', '2021-03-26']\n",
    "for xc in xcoords:\n",
    "    plt.axvline(x=xc, color='black', linestyle='--')\n",
    "ax.set_ylabel('Canopy Cover')"
   ]
  },
  {
   "cell_type": "code",
   "execution_count": 301,
   "id": "b127bc0e",
   "metadata": {},
   "outputs": [
    {
     "data": {
      "text/plain": [
       "[<matplotlib.lines.Line2D at 0x28cbcad2640>]"
      ]
     },
     "execution_count": 301,
     "metadata": {},
     "output_type": "execute_result"
    },
    {
     "data": {
      "image/png": "[encoded data removed]",
      "text/plain": [
       "<Figure size 720x360 with 1 Axes>"
      ]
     },
     "metadata": {
      "needs_background": "light"
     },
     "output_type": "display_data"
    }
   ],
   "source": [
    "#plt.plot(data2['CC'].loc['2020-04-01':'2020-07-19'])\n",
    "plt.plot(data2['CC'].loc['2020'])"
   ]
  },
  {
   "cell_type": "code",
   "execution_count": 302,
   "id": "eaf611a7",
   "metadata": {},
   "outputs": [],
   "source": [
    "data2['CC'] = np.log(data2['CC'])\n",
    "data2['CC_log_diff'] = data2['CC'] - data2['CC'].shift(1)"
   ]
  },
  {
   "cell_type": "code",
   "execution_count": 303,
   "id": "35ed44ed",
   "metadata": {},
   "outputs": [
    {
     "name": "stdout",
     "output_type": "stream",
     "text": [
      "ADF Statistic: -5.5692968457323\n",
      "p-value: 1.4799827403407619e-06\n"
     ]
    }
   ],
   "source": [
    "ad_fuller_result = adfuller(data2['CC_log_diff'].loc['2020'])\n",
    "print(f'ADF Statistic: {ad_fuller_result[0]}')\n",
    "print(f'p-value: {ad_fuller_result[1]}')"
   ]
  },
  {
   "cell_type": "code",
   "execution_count": 304,
   "id": "9080bbb0",
   "metadata": {},
   "outputs": [
    {
     "data": {
      "text/plain": [
       "[<matplotlib.lines.Line2D at 0x28cbd284fa0>]"
      ]
     },
     "execution_count": 304,
     "metadata": {},
     "output_type": "execute_result"
    },
    {
     "data": {
      "image/png": "[encoded data removed]",
      "text/plain": [
       "<Figure size 720x360 with 1 Axes>"
      ]
     },
     "metadata": {
      "needs_background": "light"
     },
     "output_type": "display_data"
    }
   ],
   "source": [
    "plt.plot(data2['CC_log_diff'].loc['2020'])"
   ]
  },
  {
   "cell_type": "code",
   "execution_count": 283,
   "id": "809f7efe",
   "metadata": {},
   "outputs": [],
   "source": [
    "check = data2['CC'].loc['2020'].diff(40)\n",
    "check = check.dropna()"
   ]
  },
  {
   "cell_type": "code",
   "execution_count": 284,
   "id": "d87183dd",
   "metadata": {},
   "outputs": [
    {
     "name": "stdout",
     "output_type": "stream",
     "text": [
      "ADF Statistic: -1.3895783102536536\n",
      "p-value: 0.5872620840583\n"
     ]
    }
   ],
   "source": [
    "ad_fuller_result = adfuller(check)\n",
    "print(f'ADF Statistic: {ad_fuller_result[0]}')\n",
    "print(f'p-value: {ad_fuller_result[1]}')"
   ]
  },
  {
   "cell_type": "code",
   "execution_count": 238,
   "id": "e4990059",
   "metadata": {},
   "outputs": [
    {
     "data": {
      "text/plain": [
       "Date\n",
       "2020-06-01    3.680000\n",
       "2020-06-02    3.680000\n",
       "2020-06-03    4.560000\n",
       "2020-06-04    5.440000\n",
       "2020-06-05    6.320000\n",
       "2020-06-06    7.200000\n",
       "2020-06-07    7.200000\n",
       "2020-06-08    7.200000\n",
       "2020-06-09    7.200000\n",
       "2020-06-10    7.200000\n",
       "2020-06-11    6.691429\n",
       "2020-06-12    6.182857\n",
       "2020-06-13    5.674286\n",
       "2020-06-14    5.165714\n",
       "2020-06-15    5.165714\n",
       "Name: CC, dtype: float64"
      ]
     },
     "execution_count": 238,
     "metadata": {},
     "output_type": "execute_result"
    }
   ],
   "source": [
    "data2['CC'].loc['2020-06-01':'2020-06-15']"
   ]
  },
  {
   "cell_type": "code",
   "execution_count": 173,
   "id": "65729003",
   "metadata": {},
   "outputs": [
    {
     "data": {
      "image/png": "[encoded data removed]",
      "text/plain": [
       "<Figure size 432x288 with 1 Axes>"
      ]
     },
     "metadata": {
      "needs_background": "light"
     },
     "output_type": "display_data"
    }
   ],
   "source": [
    "sm.graphics.tsa.plot_acf(f4['CC'].values.squeeze(), lags=20)\n",
    "plt.show()"
   ]
  },
  {
   "cell_type": "code",
   "execution_count": 174,
   "id": "d8e6554f",
   "metadata": {},
   "outputs": [
    {
     "name": "stderr",
     "output_type": "stream",
     "text": [
      "C:\\ProgramData\\Anaconda3\\lib\\site-packages\\statsmodels\\graphics\\tsaplots.py:348: FutureWarning: The default method 'yw' can produce PACF values outside of the [-1,1] interval. After 0.13, the default will change tounadjusted Yule-Walker ('ywm'). You can use this method now by setting method='ywm'.\n",
      "  warnings.warn(\n"
     ]
    },
    {
     "data": {
      "image/png": "[encoded data removed]",
      "text/plain": [
       "<Figure size 432x288 with 1 Axes>"
      ]
     },
     "metadata": {
      "needs_background": "light"
     },
     "output_type": "display_data"
    }
   ],
   "source": [
    "sm.graphics.tsa.plot_pacf(f4['CC'].values.squeeze(), lags=40)\n",
    "plt.show()"
   ]
  },
  {
   "cell_type": "code",
   "execution_count": 175,
   "id": "6595b6c3",
   "metadata": {},
   "outputs": [
    {
     "name": "stdout",
     "output_type": "stream",
     "text": [
      "ADF Statistic: -1.7417522295489278\n",
      "p-value: 0.40973892220197944\n"
     ]
    }
   ],
   "source": [
    "ad_fuller_result = adfuller(f4['CC'])\n",
    "print(f'ADF Statistic: {ad_fuller_result[0]}')\n",
    "print(f'p-value: {ad_fuller_result[1]}')"
   ]
  },
  {
   "cell_type": "code",
   "execution_count": 176,
   "id": "b7e9ff54",
   "metadata": {},
   "outputs": [],
   "source": [
    "f4 = f4.dropna()"
   ]
  },
  {
   "cell_type": "code",
   "execution_count": 216,
   "id": "9f131721",
   "metadata": {},
   "outputs": [
    {
     "data": {
      "text/html": [
       "<div>\n",
       "<style scoped>\n",
       "    .dataframe tbody tr th:only-of-type {\n",
       "        vertical-align: middle;\n",
       "    }\n",
       "\n",
       "    .dataframe tbody tr th {\n",
       "        vertical-align: top;\n",
       "    }\n",
       "\n",
       "    .dataframe thead th {\n",
       "        text-align: right;\n",
       "    }\n",
       "</style>\n",
       "<table border=\"1\" class=\"dataframe\">\n",
       "  <thead>\n",
       "    <tr style=\"text-align: right;\">\n",
       "      <th></th>\n",
       "      <th>Date</th>\n",
       "      <th>CC</th>\n",
       "    </tr>\n",
       "  </thead>\n",
       "  <tbody>\n",
       "    <tr>\n",
       "      <th>0</th>\n",
       "      <td>2019-04-04</td>\n",
       "      <td>NaN</td>\n",
       "    </tr>\n",
       "    <tr>\n",
       "      <th>1</th>\n",
       "      <td>2019-04-05</td>\n",
       "      <td>NaN</td>\n",
       "    </tr>\n",
       "    <tr>\n",
       "      <th>2</th>\n",
       "      <td>2019-04-06</td>\n",
       "      <td>NaN</td>\n",
       "    </tr>\n",
       "    <tr>\n",
       "      <th>3</th>\n",
       "      <td>2019-04-07</td>\n",
       "      <td>NaN</td>\n",
       "    </tr>\n",
       "    <tr>\n",
       "      <th>4</th>\n",
       "      <td>2019-04-08</td>\n",
       "      <td>NaN</td>\n",
       "    </tr>\n",
       "    <tr>\n",
       "      <th>...</th>\n",
       "      <td>...</td>\n",
       "      <td>...</td>\n",
       "    </tr>\n",
       "    <tr>\n",
       "      <th>326</th>\n",
       "      <td>2021-07-15</td>\n",
       "      <td>NaN</td>\n",
       "    </tr>\n",
       "    <tr>\n",
       "      <th>327</th>\n",
       "      <td>2021-07-16</td>\n",
       "      <td>NaN</td>\n",
       "    </tr>\n",
       "    <tr>\n",
       "      <th>328</th>\n",
       "      <td>2021-07-17</td>\n",
       "      <td>NaN</td>\n",
       "    </tr>\n",
       "    <tr>\n",
       "      <th>329</th>\n",
       "      <td>2021-07-18</td>\n",
       "      <td>NaN</td>\n",
       "    </tr>\n",
       "    <tr>\n",
       "      <th>330</th>\n",
       "      <td>2021-07-19</td>\n",
       "      <td>NaN</td>\n",
       "    </tr>\n",
       "  </tbody>\n",
       "</table>\n",
       "<p>331 rows × 2 columns</p>\n",
       "</div>"
      ],
      "text/plain": [
       "          Date  CC\n",
       "0   2019-04-04 NaN\n",
       "1   2019-04-05 NaN\n",
       "2   2019-04-06 NaN\n",
       "3   2019-04-07 NaN\n",
       "4   2019-04-08 NaN\n",
       "..         ...  ..\n",
       "326 2021-07-15 NaN\n",
       "327 2021-07-16 NaN\n",
       "328 2021-07-17 NaN\n",
       "329 2021-07-18 NaN\n",
       "330 2021-07-19 NaN\n",
       "\n",
       "[331 rows x 2 columns]"
      ]
     },
     "execution_count": 216,
     "metadata": {},
     "output_type": "execute_result"
    }
   ],
   "source": [
    "f4"
   ]
  },
  {
   "cell_type": "code",
   "execution_count": 229,
   "id": "3644d406",
   "metadata": {},
   "outputs": [],
   "source": [
    "# Seasonal differencing\n",
    "check = f4['CC'].diff(365)\n",
    "#f4 = f4.drop([1, 2, 3, 4], axis=0).reset_index(drop=True)"
   ]
  },
  {
   "cell_type": "code",
   "execution_count": null,
   "id": "ac76c9c8",
   "metadata": {},
   "outputs": [],
   "source": [
    "f4"
   ]
  },
  {
   "cell_type": "code",
   "execution_count": 230,
   "id": "dc500cdd",
   "metadata": {},
   "outputs": [
    {
     "data": {
      "text/plain": [
       "0   NaN\n",
       "1   NaN\n",
       "2   NaN\n",
       "3   NaN\n",
       "4   NaN\n",
       "Name: CC, dtype: float64"
      ]
     },
     "execution_count": 230,
     "metadata": {},
     "output_type": "execute_result"
    }
   ],
   "source": [
    "check.head()"
   ]
  },
  {
   "cell_type": "code",
   "execution_count": 232,
   "id": "3f88ef5f",
   "metadata": {},
   "outputs": [
    {
     "data": {
      "text/plain": [
       "66    NaN\n",
       "67    NaN\n",
       "68    NaN\n",
       "69    NaN\n",
       "70    NaN\n",
       "71    NaN\n",
       "72    NaN\n",
       "73    NaN\n",
       "74    NaN\n",
       "75    NaN\n",
       "76    NaN\n",
       "77    NaN\n",
       "78    NaN\n",
       "79    NaN\n",
       "80    NaN\n",
       "81    NaN\n",
       "82    NaN\n",
       "83    NaN\n",
       "84    NaN\n",
       "85    NaN\n",
       "86    NaN\n",
       "87    NaN\n",
       "88    NaN\n",
       "89    NaN\n",
       "90    NaN\n",
       "91    NaN\n",
       "92    NaN\n",
       "93    NaN\n",
       "94    NaN\n",
       "95    NaN\n",
       "96    NaN\n",
       "97    NaN\n",
       "98    NaN\n",
       "99    NaN\n",
       "100   NaN\n",
       "101   NaN\n",
       "102   NaN\n",
       "103   NaN\n",
       "104   NaN\n",
       "105   NaN\n",
       "106   NaN\n",
       "107   NaN\n",
       "108   NaN\n",
       "109   NaN\n",
       "110   NaN\n",
       "111   NaN\n",
       "112   NaN\n",
       "113   NaN\n",
       "114   NaN\n",
       "115   NaN\n",
       "Name: CC, dtype: float64"
      ]
     },
     "execution_count": 232,
     "metadata": {},
     "output_type": "execute_result"
    }
   ],
   "source": [
    "check.tail(50)"
   ]
  },
  {
   "cell_type": "code",
   "execution_count": null,
   "id": "3ec475a7",
   "metadata": {},
   "outputs": [],
   "source": [
    "ax = f.plot(x='Date', y='CC', figsize=(12,6))\n",
    "xcoords = ['2019-03-26', '2020-03-26', '2021-03-26']\n",
    "for xc in xcoords:\n",
    "    plt.axvline(x=xc, color='black', linestyle='--')\n",
    "ax.set_ylabel('Canopy Cover')"
   ]
  },
  {
   "cell_type": "code",
   "execution_count": 178,
   "id": "41720592",
   "metadata": {},
   "outputs": [],
   "source": [
    "f4 = f4.dropna()"
   ]
  },
  {
   "cell_type": "code",
   "execution_count": 179,
   "id": "30f28fba",
   "metadata": {},
   "outputs": [
    {
     "data": {
      "text/html": [
       "<div>\n",
       "<style scoped>\n",
       "    .dataframe tbody tr th:only-of-type {\n",
       "        vertical-align: middle;\n",
       "    }\n",
       "\n",
       "    .dataframe tbody tr th {\n",
       "        vertical-align: top;\n",
       "    }\n",
       "\n",
       "    .dataframe thead th {\n",
       "        text-align: right;\n",
       "    }\n",
       "</style>\n",
       "<table border=\"1\" class=\"dataframe\">\n",
       "  <thead>\n",
       "    <tr style=\"text-align: right;\">\n",
       "      <th></th>\n",
       "      <th>Date</th>\n",
       "      <th>CC</th>\n",
       "    </tr>\n",
       "  </thead>\n",
       "  <tbody>\n",
       "    <tr>\n",
       "      <th>1</th>\n",
       "      <td>2019-03-31</td>\n",
       "      <td>0.008267</td>\n",
       "    </tr>\n",
       "    <tr>\n",
       "      <th>2</th>\n",
       "      <td>2019-04-01</td>\n",
       "      <td>0.008267</td>\n",
       "    </tr>\n",
       "    <tr>\n",
       "      <th>3</th>\n",
       "      <td>2019-04-02</td>\n",
       "      <td>0.008267</td>\n",
       "    </tr>\n",
       "    <tr>\n",
       "      <th>4</th>\n",
       "      <td>2019-04-03</td>\n",
       "      <td>0.008267</td>\n",
       "    </tr>\n",
       "    <tr>\n",
       "      <th>5</th>\n",
       "      <td>2019-04-04</td>\n",
       "      <td>0.008267</td>\n",
       "    </tr>\n",
       "    <tr>\n",
       "      <th>...</th>\n",
       "      <td>...</td>\n",
       "      <td>...</td>\n",
       "    </tr>\n",
       "    <tr>\n",
       "      <th>331</th>\n",
       "      <td>2021-07-15</td>\n",
       "      <td>0.826571</td>\n",
       "    </tr>\n",
       "    <tr>\n",
       "      <th>332</th>\n",
       "      <td>2021-07-16</td>\n",
       "      <td>1.281714</td>\n",
       "    </tr>\n",
       "    <tr>\n",
       "      <th>333</th>\n",
       "      <td>2021-07-17</td>\n",
       "      <td>1.736857</td>\n",
       "    </tr>\n",
       "    <tr>\n",
       "      <th>334</th>\n",
       "      <td>2021-07-18</td>\n",
       "      <td>2.192000</td>\n",
       "    </tr>\n",
       "    <tr>\n",
       "      <th>335</th>\n",
       "      <td>2021-07-19</td>\n",
       "      <td>2.192000</td>\n",
       "    </tr>\n",
       "  </tbody>\n",
       "</table>\n",
       "<p>335 rows × 2 columns</p>\n",
       "</div>"
      ],
      "text/plain": [
       "          Date        CC\n",
       "1   2019-03-31  0.008267\n",
       "2   2019-04-01  0.008267\n",
       "3   2019-04-02  0.008267\n",
       "4   2019-04-03  0.008267\n",
       "5   2019-04-04  0.008267\n",
       "..         ...       ...\n",
       "331 2021-07-15  0.826571\n",
       "332 2021-07-16  1.281714\n",
       "333 2021-07-17  1.736857\n",
       "334 2021-07-18  2.192000\n",
       "335 2021-07-19  2.192000\n",
       "\n",
       "[335 rows x 2 columns]"
      ]
     },
     "execution_count": 179,
     "metadata": {},
     "output_type": "execute_result"
    }
   ],
   "source": [
    "f4"
   ]
  },
  {
   "cell_type": "code",
   "execution_count": 180,
   "id": "42343267",
   "metadata": {},
   "outputs": [
    {
     "data": {
      "image/png": "[encoded data removed]",
      "text/plain": [
       "<Figure size 1080x540 with 1 Axes>"
      ]
     },
     "metadata": {
      "needs_background": "light"
     },
     "output_type": "display_data"
    }
   ],
   "source": [
    "plt.figure(figsize=[15, 7.5]); # Set dimensions for figure\n",
    "plt.plot(f4['CC'])\n",
    "plt.title(\"Canopy Cover\")\n",
    "plt.show()"
   ]
  },
  {
   "cell_type": "code",
   "execution_count": 181,
   "id": "e56ba9e0",
   "metadata": {},
   "outputs": [],
   "source": [
    "f4 = f4.dropna()"
   ]
  },
  {
   "cell_type": "code",
   "execution_count": 182,
   "id": "7a6ae9ec",
   "metadata": {},
   "outputs": [
    {
     "name": "stdout",
     "output_type": "stream",
     "text": [
      "ADF Statistic: -4.9842013917159305\n",
      "p-value: 2.384766626995825e-05\n"
     ]
    }
   ],
   "source": [
    "ad_fuller_result = adfuller(f4['CC'])\n",
    "print(f'ADF Statistic: {ad_fuller_result[0]}')\n",
    "print(f'p-value: {ad_fuller_result[1]}')"
   ]
  },
  {
   "cell_type": "code",
   "execution_count": 183,
   "id": "e46b7491",
   "metadata": {},
   "outputs": [
    {
     "name": "stderr",
     "output_type": "stream",
     "text": [
      "C:\\ProgramData\\Anaconda3\\lib\\site-packages\\statsmodels\\graphics\\tsaplots.py:348: FutureWarning: The default method 'yw' can produce PACF values outside of the [-1,1] interval. After 0.13, the default will change tounadjusted Yule-Walker ('ywm'). You can use this method now by setting method='ywm'.\n",
      "  warnings.warn(\n"
     ]
    },
    {
     "data": {
      "image/png": "[encoded data removed]",
      "text/plain": [
       "<Figure size 432x288 with 1 Axes>"
      ]
     },
     "metadata": {
      "needs_background": "light"
     },
     "output_type": "display_data"
    },
    {
     "data": {
      "image/png": "[encoded data removed]",
      "text/plain": [
       "<Figure size 432x288 with 1 Axes>"
      ]
     },
     "metadata": {
      "needs_background": "light"
     },
     "output_type": "display_data"
    }
   ],
   "source": [
    "from statsmodels.graphics.tsaplots import plot_pacf\n",
    "from statsmodels.graphics.tsaplots import plot_acf\n",
    "plot_pacf(f4['CC']);\n",
    "plot_acf(f4['CC']);\n",
    "# p value can be 7 or 8 \n",
    "# q value can be 3\n",
    "\n"
   ]
  },
  {
   "cell_type": "code",
   "execution_count": 184,
   "id": "3f26548f",
   "metadata": {},
   "outputs": [
    {
     "data": {
      "text/plain": [
       "1      0.008267\n",
       "2      0.008267\n",
       "3      0.008267\n",
       "4      0.008267\n",
       "5      0.008267\n",
       "         ...   \n",
       "246    2.560000\n",
       "247    2.380000\n",
       "248    2.200000\n",
       "249    2.200000\n",
       "250    2.200000\n",
       "Name: CC, Length: 250, dtype: float64"
      ]
     },
     "execution_count": 184,
     "metadata": {},
     "output_type": "execute_result"
    }
   ],
   "source": [
    "train_data = f4[:250]\n",
    "train_data_1 = train_data['CC']\n",
    "train_data_1"
   ]
  },
  {
   "cell_type": "code",
   "execution_count": 23,
   "id": "65a6ad74",
   "metadata": {},
   "outputs": [
    {
     "data": {
      "text/plain": [
       "251    2.200000\n",
       "252    2.200000\n",
       "253    2.200000\n",
       "254    2.200000\n",
       "255    3.006667\n",
       "         ...   \n",
       "331    0.826571\n",
       "332    1.281714\n",
       "333    1.736857\n",
       "334    2.192000\n",
       "335    2.192000\n",
       "Name: CC, Length: 85, dtype: float64"
      ]
     },
     "execution_count": 23,
     "metadata": {},
     "output_type": "execute_result"
    }
   ],
   "source": [
    "test_data = f4[250:348]\n",
    "test_data_1 = test_data['CC']\n",
    "test_data_1"
   ]
  },
  {
   "cell_type": "code",
   "execution_count": 185,
   "id": "856883e1",
   "metadata": {},
   "outputs": [
    {
     "name": "stderr",
     "output_type": "stream",
     "text": [
      "C:\\ProgramData\\Anaconda3\\lib\\site-packages\\statsmodels\\tsa\\base\\tsa_model.py:471: ValueWarning: An unsupported index was provided and will be ignored when e.g. forecasting.\n",
      "  self._init_dates(dates, freq)\n",
      "C:\\ProgramData\\Anaconda3\\lib\\site-packages\\statsmodels\\tsa\\base\\tsa_model.py:471: ValueWarning: An unsupported index was provided and will be ignored when e.g. forecasting.\n",
      "  self._init_dates(dates, freq)\n",
      "C:\\ProgramData\\Anaconda3\\lib\\site-packages\\statsmodels\\tsa\\base\\tsa_model.py:471: ValueWarning: An unsupported index was provided and will be ignored when e.g. forecasting.\n",
      "  self._init_dates(dates, freq)\n",
      "C:\\ProgramData\\Anaconda3\\lib\\site-packages\\statsmodels\\base\\model.py:604: ConvergenceWarning: Maximum Likelihood optimization failed to converge. Check mle_retvals\n",
      "  warnings.warn(\"Maximum Likelihood optimization failed to \"\n"
     ]
    }
   ],
   "source": [
    "from math import sqrt\n",
    "from multiprocessing import cpu_count\n",
    "from joblib import Parallel\n",
    "from joblib import delayed\n",
    "from warnings import catch_warnings\n",
    "from warnings import filterwarnings\n",
    "from statsmodels.tsa.statespace.sarimax import SARIMAX\n",
    "from sklearn.metrics import mean_squared_error\n",
    "from statsmodels.tsa.arima.model import ARIMA\n",
    "model = ARIMA(train_data_1, order = (7,1,3))\n",
    "model_fit = model.fit()"
   ]
  },
  {
   "cell_type": "code",
   "execution_count": 71,
   "id": "addd8488",
   "metadata": {},
   "outputs": [
    {
     "name": "stdout",
     "output_type": "stream",
     "text": [
      "                               SARIMAX Results                                \n",
      "==============================================================================\n",
      "Dep. Variable:                     CC   No. Observations:                  250\n",
      "Model:                 ARIMA(7, 1, 3)   Log Likelihood                -874.071\n",
      "Date:                Mon, 01 Aug 2022   AIC                           1770.142\n",
      "Time:                        14:16:35   BIC                           1808.834\n",
      "Sample:                             0   HQIC                          1785.716\n",
      "                                - 250                                         \n",
      "Covariance Type:                  opg                                         \n",
      "==============================================================================\n",
      "                 coef    std err          z      P>|z|      [0.025      0.975]\n",
      "------------------------------------------------------------------------------\n",
      "ar.L1         -0.0768      0.588     -0.131      0.896      -1.229       1.075\n",
      "ar.L2          0.9175      0.674      1.361      0.173      -0.403       2.238\n",
      "ar.L3          0.0107      0.166      0.065      0.949      -0.314       0.336\n",
      "ar.L4          0.0047      0.158      0.030      0.976      -0.304       0.314\n",
      "ar.L5          0.0037      0.157      0.024      0.981      -0.304       0.312\n",
      "ar.L6          0.0146      0.173      0.085      0.933      -0.324       0.353\n",
      "ar.L7          0.0048      0.168      0.029      0.977      -0.325       0.335\n",
      "ma.L1         -0.7934      0.665     -1.193      0.233      -2.097       0.510\n",
      "ma.L2         -0.9902      0.720     -1.376      0.169      -2.401       0.421\n",
      "ma.L3          0.7842      0.866      0.906      0.365      -0.913       2.481\n",
      "sigma2        65.4670     26.469      2.473      0.013      13.588     117.346\n",
      "===================================================================================\n",
      "Ljung-Box (L1) (Q):                   0.01   Jarque-Bera (JB):            106614.30\n",
      "Prob(Q):                              0.93   Prob(JB):                         0.00\n",
      "Heteroskedasticity (H):              31.57   Skew:                            -9.42\n",
      "Prob(H) (two-sided):                  0.00   Kurtosis:                       102.61\n",
      "===================================================================================\n",
      "\n",
      "Warnings:\n",
      "[1] Covariance matrix calculated using the outer product of gradients (complex-step).\n"
     ]
    }
   ],
   "source": [
    "print (model_fit.summary())"
   ]
  },
  {
   "cell_type": "code",
   "execution_count": 186,
   "id": "f597b940",
   "metadata": {},
   "outputs": [
    {
     "data": {
      "text/plain": [
       "<AxesSubplot:>"
      ]
     },
     "execution_count": 186,
     "metadata": {},
     "output_type": "execute_result"
    },
    {
     "data": {
      "image/png": "[encoded data removed]",
      "text/plain": [
       "<Figure size 432x288 with 1 Axes>"
      ]
     },
     "metadata": {
      "needs_background": "light"
     },
     "output_type": "display_data"
    }
   ],
   "source": [
    "from pandas import DataFrame\n",
    "residuals = DataFrame(model_fit.resid)\n",
    "residuals.plot()"
   ]
  },
  {
   "cell_type": "code",
   "execution_count": 187,
   "id": "185a8660",
   "metadata": {},
   "outputs": [
    {
     "data": {
      "text/plain": [
       "<AxesSubplot:ylabel='Density'>"
      ]
     },
     "execution_count": 187,
     "metadata": {},
     "output_type": "execute_result"
    },
    {
     "data": {
      "image/png": "[encoded data removed]",
      "text/plain": [
       "<Figure size 432x288 with 1 Axes>"
      ]
     },
     "metadata": {
      "needs_background": "light"
     },
     "output_type": "display_data"
    }
   ],
   "source": [
    "residuals.plot(kind='kde')"
   ]
  },
  {
   "cell_type": "code",
   "execution_count": 188,
   "id": "f2baed19",
   "metadata": {},
   "outputs": [
    {
     "data": {
      "text/html": [
       "<div>\n",
       "<style scoped>\n",
       "    .dataframe tbody tr th:only-of-type {\n",
       "        vertical-align: middle;\n",
       "    }\n",
       "\n",
       "    .dataframe tbody tr th {\n",
       "        vertical-align: top;\n",
       "    }\n",
       "\n",
       "    .dataframe thead th {\n",
       "        text-align: right;\n",
       "    }\n",
       "</style>\n",
       "<table border=\"1\" class=\"dataframe\">\n",
       "  <thead>\n",
       "    <tr style=\"text-align: right;\">\n",
       "      <th></th>\n",
       "      <th>0</th>\n",
       "    </tr>\n",
       "  </thead>\n",
       "  <tbody>\n",
       "    <tr>\n",
       "      <th>count</th>\n",
       "      <td>250.000000</td>\n",
       "    </tr>\n",
       "    <tr>\n",
       "      <th>mean</th>\n",
       "      <td>-0.022462</td>\n",
       "    </tr>\n",
       "    <tr>\n",
       "      <th>std</th>\n",
       "      <td>8.060423</td>\n",
       "    </tr>\n",
       "    <tr>\n",
       "      <th>min</th>\n",
       "      <td>-93.434780</td>\n",
       "    </tr>\n",
       "    <tr>\n",
       "      <th>25%</th>\n",
       "      <td>-0.445179</td>\n",
       "    </tr>\n",
       "    <tr>\n",
       "      <th>50%</th>\n",
       "      <td>0.170548</td>\n",
       "    </tr>\n",
       "    <tr>\n",
       "      <th>75%</th>\n",
       "      <td>1.965314</td>\n",
       "    </tr>\n",
       "    <tr>\n",
       "      <th>max</th>\n",
       "      <td>13.613350</td>\n",
       "    </tr>\n",
       "  </tbody>\n",
       "</table>\n",
       "</div>"
      ],
      "text/plain": [
       "                0\n",
       "count  250.000000\n",
       "mean    -0.022462\n",
       "std      8.060423\n",
       "min    -93.434780\n",
       "25%     -0.445179\n",
       "50%      0.170548\n",
       "75%      1.965314\n",
       "max     13.613350"
      ]
     },
     "execution_count": 188,
     "metadata": {},
     "output_type": "execute_result"
    }
   ],
   "source": [
    "residuals.describe()"
   ]
  },
  {
   "cell_type": "code",
   "execution_count": 189,
   "id": "7056d76d",
   "metadata": {},
   "outputs": [
    {
     "name": "stderr",
     "output_type": "stream",
     "text": [
      "C:\\ProgramData\\Anaconda3\\lib\\site-packages\\statsmodels\\tsa\\base\\tsa_model.py:834: ValueWarning: No supported index is available. Prediction results will be given with an integer index beginning at `start`.\n",
      "  return get_prediction_index(\n"
     ]
    }
   ],
   "source": [
    "forecast_1= model_fit.forecast(steps=21, exog=test_data_1)"
   ]
  },
  {
   "cell_type": "code",
   "execution_count": 190,
   "id": "df700e57",
   "metadata": {},
   "outputs": [
    {
     "name": "stdout",
     "output_type": "stream",
     "text": [
      "     predicted_mean\n",
      "250        2.616200\n",
      "251        2.007549\n",
      "252        2.587645\n",
      "253        1.985637\n",
      "254        2.558667\n",
      "255        1.967229\n",
      "256        2.538490\n",
      "257        1.950560\n",
      "258        2.519501\n",
      "259        1.935856\n",
      "260        2.502338\n",
      "261        1.922918\n",
      "262        2.486892\n",
      "263        1.911570\n",
      "264        2.472960\n",
      "265        1.901632\n",
      "266        2.460377\n",
      "267        1.892948\n",
      "268        2.448998\n",
      "269        1.885382\n",
      "270        2.438691\n"
     ]
    }
   ],
   "source": [
    "predictions=pd.DataFrame(forecast_1)\n",
    "print (predictions)"
   ]
  },
  {
   "cell_type": "code",
   "execution_count": null,
   "id": "535e3039",
   "metadata": {},
   "outputs": [],
   "source": []
  }
 ],
 "metadata": {
  "kernelspec": {
   "display_name": "Python 3 (ipykernel)",
   "language": "python",
   "name": "python3"
  },
  "language_info": {
   "codemirror_mode": {
    "name": "ipython",
    "version": 3
   },
   "file_extension": ".py",
   "mimetype": "text/x-python",
   "name": "python",
   "nbconvert_exporter": "python",
   "pygments_lexer": "ipython3",
   "version": "3.9.12"
  }
 },
 "nbformat": 4,
 "nbformat_minor": 5
}
