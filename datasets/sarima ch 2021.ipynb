{
 "cells": [
  {
   "cell_type": "code",
   "execution_count": 628,
   "id": "ee644ca7",
   "metadata": {},
   "outputs": [],
   "source": [
    "import numpy as np\n",
    "import matplotlib.pyplot as plt\n",
    "import pandas as pd"
   ]
  },
  {
   "cell_type": "code",
   "execution_count": 629,
   "id": "4e225f11",
   "metadata": {},
   "outputs": [],
   "source": [
    "f2 = pd.read_csv(\"C:/Users/samba/OneDrive/Desktop/TAMU CORPUS/Driscoll/sarima/datasets/CH_2021.csv\")"
   ]
  },
  {
   "cell_type": "code",
   "execution_count": 630,
   "id": "2d8951be",
   "metadata": {},
   "outputs": [
    {
     "data": {
      "text/html": [
       "<div>\n",
       "<style scoped>\n",
       "    .dataframe tbody tr th:only-of-type {\n",
       "        vertical-align: middle;\n",
       "    }\n",
       "\n",
       "    .dataframe tbody tr th {\n",
       "        vertical-align: top;\n",
       "    }\n",
       "\n",
       "    .dataframe thead th {\n",
       "        text-align: right;\n",
       "    }\n",
       "</style>\n",
       "<table border=\"1\" class=\"dataframe\">\n",
       "  <thead>\n",
       "    <tr style=\"text-align: right;\">\n",
       "      <th></th>\n",
       "      <th>Date</th>\n",
       "      <th>CH</th>\n",
       "    </tr>\n",
       "  </thead>\n",
       "  <tbody>\n",
       "    <tr>\n",
       "      <th>0</th>\n",
       "      <td>3/26/2021</td>\n",
       "      <td>0.000000</td>\n",
       "    </tr>\n",
       "    <tr>\n",
       "      <th>1</th>\n",
       "      <td>3/27/2021</td>\n",
       "      <td>0.000667</td>\n",
       "    </tr>\n",
       "    <tr>\n",
       "      <th>2</th>\n",
       "      <td>3/28/2021</td>\n",
       "      <td>0.001333</td>\n",
       "    </tr>\n",
       "    <tr>\n",
       "      <th>3</th>\n",
       "      <td>3/29/2021</td>\n",
       "      <td>0.002000</td>\n",
       "    </tr>\n",
       "    <tr>\n",
       "      <th>4</th>\n",
       "      <td>3/30/2021</td>\n",
       "      <td>0.002667</td>\n",
       "    </tr>\n",
       "    <tr>\n",
       "      <th>...</th>\n",
       "      <td>...</td>\n",
       "      <td>...</td>\n",
       "    </tr>\n",
       "    <tr>\n",
       "      <th>111</th>\n",
       "      <td>7/15/2021</td>\n",
       "      <td>0.690000</td>\n",
       "    </tr>\n",
       "    <tr>\n",
       "      <th>112</th>\n",
       "      <td>7/16/2021</td>\n",
       "      <td>0.700000</td>\n",
       "    </tr>\n",
       "    <tr>\n",
       "      <th>113</th>\n",
       "      <td>7/17/2021</td>\n",
       "      <td>0.710000</td>\n",
       "    </tr>\n",
       "    <tr>\n",
       "      <th>114</th>\n",
       "      <td>7/18/2021</td>\n",
       "      <td>0.720000</td>\n",
       "    </tr>\n",
       "    <tr>\n",
       "      <th>115</th>\n",
       "      <td>7/19/2021</td>\n",
       "      <td>0.730000</td>\n",
       "    </tr>\n",
       "  </tbody>\n",
       "</table>\n",
       "<p>116 rows × 2 columns</p>\n",
       "</div>"
      ],
      "text/plain": [
       "          Date        CH\n",
       "0    3/26/2021  0.000000\n",
       "1    3/27/2021  0.000667\n",
       "2    3/28/2021  0.001333\n",
       "3    3/29/2021  0.002000\n",
       "4    3/30/2021  0.002667\n",
       "..         ...       ...\n",
       "111  7/15/2021  0.690000\n",
       "112  7/16/2021  0.700000\n",
       "113  7/17/2021  0.710000\n",
       "114  7/18/2021  0.720000\n",
       "115  7/19/2021  0.730000\n",
       "\n",
       "[116 rows x 2 columns]"
      ]
     },
     "execution_count": 630,
     "metadata": {},
     "output_type": "execute_result"
    }
   ],
   "source": [
    "f2"
   ]
  },
  {
   "cell_type": "code",
   "execution_count": 631,
   "id": "4ebeea97",
   "metadata": {},
   "outputs": [],
   "source": [
    "f2['Date'] = pd.to_datetime(f2['Date'])"
   ]
  },
  {
   "cell_type": "code",
   "execution_count": 632,
   "id": "26665571",
   "metadata": {},
   "outputs": [],
   "source": [
    "from datetime import datetime, timedelta\n",
    "import matplotlib.pyplot as plt\n",
    "import numpy as np\n",
    "import pandas as pd\n",
    "import statsmodels.api as sm\n",
    "from statsmodels.tsa.stattools import adfuller, kpss\n",
    "from statsmodels.tsa.api import ExponentialSmoothing"
   ]
  },
  {
   "cell_type": "code",
   "execution_count": 633,
   "id": "690cfb5b",
   "metadata": {},
   "outputs": [],
   "source": [
    "data2 = f2[0:98].copy()"
   ]
  },
  {
   "cell_type": "code",
   "execution_count": 634,
   "id": "8e0215f8",
   "metadata": {},
   "outputs": [],
   "source": [
    "data2['Date'] = pd.to_datetime(data2['Date'])\n",
    "data2.index = data2['Date']"
   ]
  },
  {
   "cell_type": "code",
   "execution_count": 635,
   "id": "ecac4c3b",
   "metadata": {},
   "outputs": [],
   "source": [
    "data2.drop(['Date'], axis = 1,inplace = True)"
   ]
  },
  {
   "cell_type": "code",
   "execution_count": 636,
   "id": "eef0aec4",
   "metadata": {},
   "outputs": [
    {
     "data": {
      "text/plain": [
       "[<matplotlib.lines.Line2D at 0x20a87759c70>]"
      ]
     },
     "execution_count": 636,
     "metadata": {},
     "output_type": "execute_result"
    },
    {
     "data": {
      "image/png": "[encoded data removed]",
      "text/plain": [
       "<Figure size 720x360 with 1 Axes>"
      ]
     },
     "metadata": {
      "needs_background": "light"
     },
     "output_type": "display_data"
    }
   ],
   "source": [
    "from matplotlib.pylab import rcParams\n",
    "rcParams['figure.figsize'] = 10,5\n",
    "plt.plot(data2['CH'])"
   ]
  },
  {
   "cell_type": "code",
   "execution_count": 496,
   "id": "48ec3a62",
   "metadata": {},
   "outputs": [],
   "source": [
    "data2['CH_log'] = np.cbrt(data2['CH'])\n",
    "data2['CH_log_1'] = data2['CH_log'].diff().diff()"
   ]
  },
  {
   "cell_type": "code",
   "execution_count": 30,
   "id": "165849ab",
   "metadata": {},
   "outputs": [],
   "source": [
    "# Diff by 1 value\n",
    "data2['CH_log_1'] = data2['CH'].diff()"
   ]
  },
  {
   "cell_type": "code",
   "execution_count": 637,
   "id": "1723c6f8",
   "metadata": {},
   "outputs": [],
   "source": [
    "# Diff by 2 value\n",
    "data2['CH_log_1'] = data2['CH'].diff().diff()"
   ]
  },
  {
   "cell_type": "code",
   "execution_count": 445,
   "id": "6cf6db5f",
   "metadata": {},
   "outputs": [
    {
     "name": "stderr",
     "output_type": "stream",
     "text": [
      "C:\\ProgramData\\Anaconda3\\lib\\site-packages\\pandas\\core\\arraylike.py:397: RuntimeWarning: divide by zero encountered in log\n",
      "  result = getattr(ufunc, method)(*inputs, **kwargs)\n"
     ]
    }
   ],
   "source": [
    "# Diff by 2 values (log)\n",
    "data2['CH_log'] = np.log(data2['CH']).diff()\n",
    "#data2['CH_log_1'] = data2['CH_log'].diff().diff()"
   ]
  },
  {
   "cell_type": "code",
   "execution_count": 346,
   "id": "f0b77efd",
   "metadata": {},
   "outputs": [
    {
     "name": "stderr",
     "output_type": "stream",
     "text": [
      "C:\\ProgramData\\Anaconda3\\lib\\site-packages\\pandas\\core\\arraylike.py:397: RuntimeWarning: divide by zero encountered in log\n",
      "  result = getattr(ufunc, method)(*inputs, **kwargs)\n",
      "C:\\ProgramData\\Anaconda3\\lib\\site-packages\\pandas\\core\\arraylike.py:397: RuntimeWarning: invalid value encountered in log\n",
      "  result = getattr(ufunc, method)(*inputs, **kwargs)\n"
     ]
    }
   ],
   "source": [
    "# Diff by 1 value (log)\n",
    "data2['CH_log'] = np.log(data2['CH'])\n",
    "data2['CH_log_1'] = np.log(data2['CH_log']).diff()"
   ]
  },
  {
   "cell_type": "code",
   "execution_count": 405,
   "id": "4119b6a0",
   "metadata": {},
   "outputs": [
    {
     "name": "stderr",
     "output_type": "stream",
     "text": [
      "C:\\ProgramData\\Anaconda3\\lib\\site-packages\\pandas\\core\\arraylike.py:397: RuntimeWarning: divide by zero encountered in log\n",
      "  result = getattr(ufunc, method)(*inputs, **kwargs)\n"
     ]
    }
   ],
   "source": [
    "# Log and take difference of log\n",
    "data2['CH_log'] = np.log(data2['CH'])\n",
    "data2['CH_log_1'] = data2['CH_log'] - data2['CH_log'].diff()"
   ]
  },
  {
   "cell_type": "code",
   "execution_count": 616,
   "id": "672e6a5b",
   "metadata": {},
   "outputs": [
    {
     "data": {
      "text/html": [
       "<div>\n",
       "<style scoped>\n",
       "    .dataframe tbody tr th:only-of-type {\n",
       "        vertical-align: middle;\n",
       "    }\n",
       "\n",
       "    .dataframe tbody tr th {\n",
       "        vertical-align: top;\n",
       "    }\n",
       "\n",
       "    .dataframe thead th {\n",
       "        text-align: right;\n",
       "    }\n",
       "</style>\n",
       "<table border=\"1\" class=\"dataframe\">\n",
       "  <thead>\n",
       "    <tr style=\"text-align: right;\">\n",
       "      <th></th>\n",
       "      <th>CH</th>\n",
       "      <th>CH_log_1</th>\n",
       "    </tr>\n",
       "    <tr>\n",
       "      <th>Date</th>\n",
       "      <th></th>\n",
       "      <th></th>\n",
       "    </tr>\n",
       "  </thead>\n",
       "  <tbody>\n",
       "    <tr>\n",
       "      <th>2021-03-26</th>\n",
       "      <td>0.000000</td>\n",
       "      <td>NaN</td>\n",
       "    </tr>\n",
       "    <tr>\n",
       "      <th>2021-03-27</th>\n",
       "      <td>0.000667</td>\n",
       "      <td>NaN</td>\n",
       "    </tr>\n",
       "    <tr>\n",
       "      <th>2021-03-28</th>\n",
       "      <td>0.001333</td>\n",
       "      <td>-1.000000e-09</td>\n",
       "    </tr>\n",
       "    <tr>\n",
       "      <th>2021-03-29</th>\n",
       "      <td>0.002000</td>\n",
       "      <td>1.000000e-09</td>\n",
       "    </tr>\n",
       "    <tr>\n",
       "      <th>2021-03-30</th>\n",
       "      <td>0.002667</td>\n",
       "      <td>0.000000e+00</td>\n",
       "    </tr>\n",
       "    <tr>\n",
       "      <th>...</th>\n",
       "      <td>...</td>\n",
       "      <td>...</td>\n",
       "    </tr>\n",
       "    <tr>\n",
       "      <th>2021-06-27</th>\n",
       "      <td>0.620000</td>\n",
       "      <td>-9.999999e-10</td>\n",
       "    </tr>\n",
       "    <tr>\n",
       "      <th>2021-06-28</th>\n",
       "      <td>0.623333</td>\n",
       "      <td>0.000000e+00</td>\n",
       "    </tr>\n",
       "    <tr>\n",
       "      <th>2021-06-29</th>\n",
       "      <td>0.626667</td>\n",
       "      <td>9.999999e-10</td>\n",
       "    </tr>\n",
       "    <tr>\n",
       "      <th>2021-06-30</th>\n",
       "      <td>0.630000</td>\n",
       "      <td>-9.999999e-10</td>\n",
       "    </tr>\n",
       "    <tr>\n",
       "      <th>2021-07-01</th>\n",
       "      <td>0.633571</td>\n",
       "      <td>2.380960e-04</td>\n",
       "    </tr>\n",
       "  </tbody>\n",
       "</table>\n",
       "<p>98 rows × 2 columns</p>\n",
       "</div>"
      ],
      "text/plain": [
       "                  CH      CH_log_1\n",
       "Date                              \n",
       "2021-03-26  0.000000           NaN\n",
       "2021-03-27  0.000667           NaN\n",
       "2021-03-28  0.001333 -1.000000e-09\n",
       "2021-03-29  0.002000  1.000000e-09\n",
       "2021-03-30  0.002667  0.000000e+00\n",
       "...              ...           ...\n",
       "2021-06-27  0.620000 -9.999999e-10\n",
       "2021-06-28  0.623333  0.000000e+00\n",
       "2021-06-29  0.626667  9.999999e-10\n",
       "2021-06-30  0.630000 -9.999999e-10\n",
       "2021-07-01  0.633571  2.380960e-04\n",
       "\n",
       "[98 rows x 2 columns]"
      ]
     },
     "execution_count": 616,
     "metadata": {},
     "output_type": "execute_result"
    }
   ],
   "source": [
    "data2"
   ]
  },
  {
   "cell_type": "code",
   "execution_count": 638,
   "id": "1dc5ef7e",
   "metadata": {},
   "outputs": [
    {
     "name": "stdout",
     "output_type": "stream",
     "text": [
      "ADF Statistic: -9.645233286885478\n",
      "p-value: 1.483936906245502e-16\n"
     ]
    }
   ],
   "source": [
    "ad_fuller_result = adfuller(data2['CH_log_1'].dropna())\n",
    "print(f'ADF Statistic: {ad_fuller_result[0]}')\n",
    "print(f'p-value: {ad_fuller_result[1]}')"
   ]
  },
  {
   "cell_type": "code",
   "execution_count": 639,
   "id": "d419c55f",
   "metadata": {},
   "outputs": [],
   "source": [
    "data2 = data2.dropna()"
   ]
  },
  {
   "cell_type": "code",
   "execution_count": 640,
   "id": "e859bbf5",
   "metadata": {},
   "outputs": [
    {
     "data": {
      "image/png": "[encoded data removed]",
      "text/plain": [
       "<Figure size 720x360 with 1 Axes>"
      ]
     },
     "metadata": {
      "needs_background": "light"
     },
     "output_type": "display_data"
    }
   ],
   "source": [
    "sm.graphics.tsa.plot_acf(data2['CH_log_1'].values.squeeze(), lags=10)\n",
    "plt.show()"
   ]
  },
  {
   "cell_type": "code",
   "execution_count": 641,
   "id": "9499431d",
   "metadata": {},
   "outputs": [
    {
     "name": "stderr",
     "output_type": "stream",
     "text": [
      "C:\\ProgramData\\Anaconda3\\lib\\site-packages\\statsmodels\\graphics\\tsaplots.py:348: FutureWarning: The default method 'yw' can produce PACF values outside of the [-1,1] interval. After 0.13, the default will change tounadjusted Yule-Walker ('ywm'). You can use this method now by setting method='ywm'.\n",
      "  warnings.warn(\n"
     ]
    },
    {
     "data": {
      "image/png": "[encoded data removed]",
      "text/plain": [
       "<Figure size 720x360 with 1 Axes>"
      ]
     },
     "metadata": {
      "needs_background": "light"
     },
     "output_type": "display_data"
    }
   ],
   "source": [
    "sm.graphics.tsa.plot_pacf(data2['CH_log_1'].values.squeeze(), lags=10)\n",
    "plt.show()"
   ]
  },
  {
   "cell_type": "code",
   "execution_count": 642,
   "id": "435649a7",
   "metadata": {},
   "outputs": [
    {
     "data": {
      "text/plain": [
       "Date\n",
       "2021-03-28    0.001333\n",
       "2021-03-29    0.002000\n",
       "2021-03-30    0.002667\n",
       "2021-03-31    0.003333\n",
       "2021-04-01    0.004000\n",
       "                ...   \n",
       "2021-06-27    0.620000\n",
       "2021-06-28    0.623333\n",
       "2021-06-29    0.626667\n",
       "2021-06-30    0.630000\n",
       "2021-07-01    0.633571\n",
       "Name: CH, Length: 96, dtype: float64"
      ]
     },
     "execution_count": 642,
     "metadata": {},
     "output_type": "execute_result"
    }
   ],
   "source": [
    "train_data_1 = data2['CH']\n",
    "train_data_1"
   ]
  },
  {
   "cell_type": "code",
   "execution_count": 643,
   "id": "ffe500c3",
   "metadata": {},
   "outputs": [
    {
     "name": "stderr",
     "output_type": "stream",
     "text": [
      "C:\\ProgramData\\Anaconda3\\lib\\site-packages\\statsmodels\\tsa\\base\\tsa_model.py:471: ValueWarning: No frequency information was provided, so inferred frequency D will be used.\n",
      "  self._init_dates(dates, freq)\n",
      "C:\\ProgramData\\Anaconda3\\lib\\site-packages\\statsmodels\\tsa\\base\\tsa_model.py:471: ValueWarning: No frequency information was provided, so inferred frequency D will be used.\n",
      "  self._init_dates(dates, freq)\n",
      "C:\\ProgramData\\Anaconda3\\lib\\site-packages\\statsmodels\\tsa\\base\\tsa_model.py:471: ValueWarning: No frequency information was provided, so inferred frequency D will be used.\n",
      "  self._init_dates(dates, freq)\n"
     ]
    }
   ],
   "source": [
    "from math import sqrt\n",
    "from multiprocessing import cpu_count\n",
    "from joblib import Parallel\n",
    "from joblib import delayed\n",
    "from warnings import catch_warnings\n",
    "from warnings import filterwarnings\n",
    "from statsmodels.tsa.statespace.sarimax import SARIMAX\n",
    "from sklearn.metrics import mean_squared_error\n",
    "from statsmodels.tsa.arima.model import ARIMA\n",
    "model = ARIMA(train_data_1, order = (0,2,0))\n",
    "model_fit = model.fit()"
   ]
  },
  {
   "cell_type": "code",
   "execution_count": 644,
   "id": "23a226d3",
   "metadata": {},
   "outputs": [
    {
     "data": {
      "text/plain": [
       "2021-07-02    0.637143\n",
       "2021-07-03    0.640714\n",
       "2021-07-04    0.644286\n",
       "2021-07-05    0.647857\n",
       "2021-07-06    0.651429\n",
       "2021-07-07    0.655000\n",
       "2021-07-08    0.658571\n",
       "2021-07-09    0.662143\n",
       "2021-07-10    0.665714\n",
       "2021-07-11    0.669286\n",
       "2021-07-12    0.672857\n",
       "2021-07-13    0.676429\n",
       "2021-07-14    0.680000\n",
       "2021-07-15    0.683571\n",
       "2021-07-16    0.687143\n",
       "2021-07-17    0.690714\n",
       "2021-07-18    0.694286\n",
       "2021-07-19    0.697857\n",
       "Freq: D, Name: predicted_mean, dtype: float64"
      ]
     },
     "execution_count": 644,
     "metadata": {},
     "output_type": "execute_result"
    }
   ],
   "source": [
    "model_pred = model_fit.forecast(steps = 18)\n",
    "model_pred"
   ]
  },
  {
   "cell_type": "code",
   "execution_count": 645,
   "id": "eeb078dc",
   "metadata": {},
   "outputs": [
    {
     "name": "stdout",
     "output_type": "stream",
     "text": [
      "                               SARIMAX Results                                \n",
      "==============================================================================\n",
      "Dep. Variable:                     CH   No. Observations:                   96\n",
      "Model:                 ARIMA(0, 2, 0)   Log Likelihood                 451.945\n",
      "Date:                Tue, 16 Aug 2022   AIC                           -901.889\n",
      "Time:                        14:41:58   BIC                           -899.346\n",
      "Sample:                    03-28-2021   HQIC                          -900.862\n",
      "                         - 07-01-2021                                         \n",
      "Covariance Type:                  opg                                         \n",
      "==============================================================================\n",
      "                 coef    std err          z      P>|z|      [0.025      0.975]\n",
      "------------------------------------------------------------------------------\n",
      "sigma2        3.9e-06   1.51e-07     25.763      0.000     3.6e-06     4.2e-06\n",
      "===================================================================================\n",
      "Ljung-Box (L1) (Q):                   0.00   Jarque-Bera (JB):              2802.13\n",
      "Prob(Q):                              1.00   Prob(JB):                         0.00\n",
      "Heteroskedasticity (H):             394.40   Skew:                            -2.28\n",
      "Prob(H) (two-sided):                  0.00   Kurtosis:                        29.36\n",
      "===================================================================================\n",
      "\n",
      "Warnings:\n",
      "[1] Covariance matrix calculated using the outer product of gradients (complex-step).\n"
     ]
    }
   ],
   "source": [
    "print (model_fit.summary())"
   ]
  },
  {
   "cell_type": "code",
   "execution_count": 646,
   "id": "b7203f60",
   "metadata": {},
   "outputs": [],
   "source": [
    "test_data = f2['CH'].iloc[98:116]"
   ]
  },
  {
   "cell_type": "code",
   "execution_count": 647,
   "id": "fe9f9ff1",
   "metadata": {},
   "outputs": [
    {
     "data": {
      "text/plain": [
       "98     0.637143\n",
       "99     0.640714\n",
       "100    0.644286\n",
       "101    0.647857\n",
       "102    0.651429\n",
       "103    0.655000\n",
       "104    0.658571\n",
       "105    0.662143\n",
       "106    0.665714\n",
       "107    0.669286\n",
       "108    0.672857\n",
       "109    0.676429\n",
       "110    0.680000\n",
       "111    0.690000\n",
       "112    0.700000\n",
       "113    0.710000\n",
       "114    0.720000\n",
       "115    0.730000\n",
       "Name: CH, dtype: float64"
      ]
     },
     "execution_count": 647,
     "metadata": {},
     "output_type": "execute_result"
    }
   ],
   "source": [
    "test_data"
   ]
  },
  {
   "cell_type": "code",
   "execution_count": 648,
   "id": "b3498832",
   "metadata": {},
   "outputs": [
    {
     "name": "stdout",
     "output_type": "stream",
     "text": [
      "Test RMSE: 0.011\n"
     ]
    }
   ],
   "source": [
    "from sklearn.metrics import mean_squared_error\n",
    "from math import sqrt\n",
    "rmse = sqrt(mean_squared_error(test_data, model_pred))\n",
    "print('Test RMSE: %.3f' % rmse)"
   ]
  },
  {
   "cell_type": "code",
   "execution_count": 650,
   "id": "556fc8ee",
   "metadata": {},
   "outputs": [],
   "source": [
    "model_pred.to_csv('98_day_2021_CH.csv')"
   ]
  },
  {
   "cell_type": "code",
   "execution_count": null,
   "id": "ddc22f24",
   "metadata": {},
   "outputs": [],
   "source": []
  }
 ],
 "metadata": {
  "kernelspec": {
   "display_name": "Python 3 (ipykernel)",
   "language": "python",
   "name": "python3"
  },
  "language_info": {
   "codemirror_mode": {
    "name": "ipython",
    "version": 3
   },
   "file_extension": ".py",
   "mimetype": "text/x-python",
   "name": "python",
   "nbconvert_exporter": "python",
   "pygments_lexer": "ipython3",
   "version": "3.9.12"
  }
 },
 "nbformat": 4,
 "nbformat_minor": 5
}
