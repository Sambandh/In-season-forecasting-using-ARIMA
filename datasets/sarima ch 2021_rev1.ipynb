{
 "cells": [
  {
   "cell_type": "code",
   "execution_count": 1,
   "id": "d76b26ea",
   "metadata": {},
   "outputs": [],
   "source": [
    "import numpy as np\n",
    "import matplotlib.pyplot as plt\n",
    "import pandas as pd"
   ]
  },
  {
   "cell_type": "code",
   "execution_count": 2,
   "id": "a84a8122",
   "metadata": {},
   "outputs": [],
   "source": [
    "f2 = pd.read_csv(\"CH_2021.csv\")"
   ]
  },
  {
   "cell_type": "code",
   "execution_count": 3,
   "id": "70120849",
   "metadata": {},
   "outputs": [
    {
     "data": {
      "text/html": [
       "<div>\n",
       "<style scoped>\n",
       "    .dataframe tbody tr th:only-of-type {\n",
       "        vertical-align: middle;\n",
       "    }\n",
       "\n",
       "    .dataframe tbody tr th {\n",
       "        vertical-align: top;\n",
       "    }\n",
       "\n",
       "    .dataframe thead th {\n",
       "        text-align: right;\n",
       "    }\n",
       "</style>\n",
       "<table border=\"1\" class=\"dataframe\">\n",
       "  <thead>\n",
       "    <tr style=\"text-align: right;\">\n",
       "      <th></th>\n",
       "      <th>Date</th>\n",
       "      <th>CH</th>\n",
       "    </tr>\n",
       "  </thead>\n",
       "  <tbody>\n",
       "    <tr>\n",
       "      <th>0</th>\n",
       "      <td>2021-03-26</td>\n",
       "      <td>0.000000</td>\n",
       "    </tr>\n",
       "    <tr>\n",
       "      <th>1</th>\n",
       "      <td>2021-03-27</td>\n",
       "      <td>0.000667</td>\n",
       "    </tr>\n",
       "    <tr>\n",
       "      <th>2</th>\n",
       "      <td>2021-03-28</td>\n",
       "      <td>0.001333</td>\n",
       "    </tr>\n",
       "    <tr>\n",
       "      <th>3</th>\n",
       "      <td>2021-03-29</td>\n",
       "      <td>0.002000</td>\n",
       "    </tr>\n",
       "    <tr>\n",
       "      <th>4</th>\n",
       "      <td>2021-03-30</td>\n",
       "      <td>0.002667</td>\n",
       "    </tr>\n",
       "    <tr>\n",
       "      <th>...</th>\n",
       "      <td>...</td>\n",
       "      <td>...</td>\n",
       "    </tr>\n",
       "    <tr>\n",
       "      <th>111</th>\n",
       "      <td>2021-07-15</td>\n",
       "      <td>0.690000</td>\n",
       "    </tr>\n",
       "    <tr>\n",
       "      <th>112</th>\n",
       "      <td>2021-07-16</td>\n",
       "      <td>0.700000</td>\n",
       "    </tr>\n",
       "    <tr>\n",
       "      <th>113</th>\n",
       "      <td>2021-07-17</td>\n",
       "      <td>0.710000</td>\n",
       "    </tr>\n",
       "    <tr>\n",
       "      <th>114</th>\n",
       "      <td>2021-07-18</td>\n",
       "      <td>0.720000</td>\n",
       "    </tr>\n",
       "    <tr>\n",
       "      <th>115</th>\n",
       "      <td>2021-07-19</td>\n",
       "      <td>0.730000</td>\n",
       "    </tr>\n",
       "  </tbody>\n",
       "</table>\n",
       "<p>116 rows × 2 columns</p>\n",
       "</div>"
      ],
      "text/plain": [
       "           Date        CH\n",
       "0    2021-03-26  0.000000\n",
       "1    2021-03-27  0.000667\n",
       "2    2021-03-28  0.001333\n",
       "3    2021-03-29  0.002000\n",
       "4    2021-03-30  0.002667\n",
       "..          ...       ...\n",
       "111  2021-07-15  0.690000\n",
       "112  2021-07-16  0.700000\n",
       "113  2021-07-17  0.710000\n",
       "114  2021-07-18  0.720000\n",
       "115  2021-07-19  0.730000\n",
       "\n",
       "[116 rows x 2 columns]"
      ]
     },
     "execution_count": 3,
     "metadata": {},
     "output_type": "execute_result"
    }
   ],
   "source": [
    "f2"
   ]
  },
  {
   "cell_type": "code",
   "execution_count": 4,
   "id": "5d03eee2",
   "metadata": {},
   "outputs": [],
   "source": [
    "f2['Date'] = pd.to_datetime(f2['Date'])"
   ]
  },
  {
   "cell_type": "code",
   "execution_count": 5,
   "id": "cb2c6f2f",
   "metadata": {},
   "outputs": [],
   "source": [
    "from datetime import datetime, timedelta\n",
    "import matplotlib.pyplot as plt\n",
    "import numpy as np\n",
    "import pandas as pd\n",
    "import statsmodels.api as sm\n",
    "from statsmodels.tsa.stattools import adfuller, kpss\n",
    "from statsmodels.tsa.api import ExponentialSmoothing"
   ]
  },
  {
   "cell_type": "code",
   "execution_count": 6,
   "id": "f043ec32",
   "metadata": {},
   "outputs": [],
   "source": [
    "data2 = f2"
   ]
  },
  {
   "cell_type": "code",
   "execution_count": 7,
   "id": "d067f3e5",
   "metadata": {},
   "outputs": [],
   "source": [
    "data2['Date'] = pd.to_datetime(data2['Date'])\n",
    "data2.index = data2['Date']"
   ]
  },
  {
   "cell_type": "code",
   "execution_count": 8,
   "id": "4adcef1e",
   "metadata": {},
   "outputs": [],
   "source": [
    "data2.drop(['Date'], axis = 1,inplace = True)"
   ]
  },
  {
   "cell_type": "code",
   "execution_count": 9,
   "id": "6aae24da",
   "metadata": {},
   "outputs": [
    {
     "data": {
      "text/plain": [
       "[<matplotlib.lines.Line2D at 0x172f003dc48>]"
      ]
     },
     "execution_count": 9,
     "metadata": {},
     "output_type": "execute_result"
    },
    {
     "data": {
      "image/png": "[encoded data removed]",
      "text/plain": [
       "<Figure size 720x360 with 1 Axes>"
      ]
     },
     "metadata": {
      "needs_background": "light"
     },
     "output_type": "display_data"
    }
   ],
   "source": [
    "from matplotlib.pylab import rcParams\n",
    "rcParams['figure.figsize'] = 10,5\n",
    "plt.plot(data2['CH'])"
   ]
  },
  {
   "cell_type": "code",
   "execution_count": 10,
   "id": "c382c337",
   "metadata": {},
   "outputs": [
    {
     "name": "stdout",
     "output_type": "stream",
     "text": [
      "ADF Statistic: -0.3212703695778869\n",
      "p-value: 0.9224373201170837\n"
     ]
    }
   ],
   "source": [
    "ad_fuller_result = adfuller(data2['CH'])\n",
    "print(f'ADF Statistic: {ad_fuller_result[0]}')\n",
    "print(f'p-value: {ad_fuller_result[1]}')"
   ]
  },
  {
   "cell_type": "code",
   "execution_count": 12,
   "id": "11aeafd3",
   "metadata": {},
   "outputs": [],
   "source": [
    "data2['CH_diff'] = data2['CH'].diff()"
   ]
  },
  {
   "cell_type": "code",
   "execution_count": 13,
   "id": "8a8ae8a5",
   "metadata": {},
   "outputs": [
    {
     "name": "stdout",
     "output_type": "stream",
     "text": [
      "ADF Statistic: -1.841482601821047\n",
      "p-value: 0.36006976507279265\n"
     ]
    }
   ],
   "source": [
    "ad_fuller_result = adfuller(data2['CH_diff'].dropna())\n",
    "print(f'ADF Statistic: {ad_fuller_result[0]}')\n",
    "print(f'p-value: {ad_fuller_result[1]}')"
   ]
  },
  {
   "cell_type": "code",
   "execution_count": 15,
   "id": "57a59e2f",
   "metadata": {},
   "outputs": [],
   "source": [
    "data2['CH_diff2'] = data2['CH_diff'].diff()"
   ]
  },
  {
   "cell_type": "code",
   "execution_count": 16,
   "id": "6f30d899",
   "metadata": {},
   "outputs": [
    {
     "name": "stdout",
     "output_type": "stream",
     "text": [
      "ADF Statistic: -10.555605878563211\n",
      "p-value: 7.967340348898418e-19\n"
     ]
    }
   ],
   "source": [
    "ad_fuller_result = adfuller(data2['CH_diff2'].dropna())\n",
    "print(f'ADF Statistic: {ad_fuller_result[0]}')\n",
    "print(f'p-value: {ad_fuller_result[1]}')"
   ]
  },
  {
   "cell_type": "code",
   "execution_count": 17,
   "id": "4fc2a25c",
   "metadata": {},
   "outputs": [
    {
     "data": {
      "image/png": "[encoded data removed]",
      "text/plain": [
       "<Figure size 720x360 with 1 Axes>"
      ]
     },
     "execution_count": 17,
     "metadata": {},
     "output_type": "execute_result"
    },
    {
     "data": {
      "image/png": "[encoded data removed]",
      "text/plain": [
       "<Figure size 720x360 with 1 Axes>"
      ]
     },
     "metadata": {
      "needs_background": "light"
     },
     "output_type": "display_data"
    }
   ],
   "source": [
    "import matplotlib.pyplot as plt\n",
    "from statsmodels.graphics.tsaplots import plot_acf, plot_pacf\n",
    "plot_pacf(data2['CH_diff2'].dropna())"
   ]
  },
  {
   "cell_type": "code",
   "execution_count": 18,
   "id": "550451b0",
   "metadata": {},
   "outputs": [
    {
     "data": {
      "image/png": "[encoded data removed]",
      "text/plain": [
       "<Figure size 720x360 with 1 Axes>"
      ]
     },
     "execution_count": 18,
     "metadata": {},
     "output_type": "execute_result"
    },
    {
     "data": {
      "image/png": "[encoded data removed]",
      "text/plain": [
       "<Figure size 720x360 with 1 Axes>"
      ]
     },
     "metadata": {
      "needs_background": "light"
     },
     "output_type": "display_data"
    }
   ],
   "source": [
    "plot_acf(data2['CH_diff2'].dropna())"
   ]
  },
  {
   "cell_type": "code",
   "execution_count": 19,
   "id": "98888142",
   "metadata": {},
   "outputs": [],
   "source": [
    "train_data = data2[:80]"
   ]
  },
  {
   "cell_type": "code",
   "execution_count": null,
   "id": "01195bca",
   "metadata": {},
   "outputs": [],
   "source": []
  },
  {
   "cell_type": "code",
   "execution_count": 21,
   "id": "5a42ae70",
   "metadata": {},
   "outputs": [
    {
     "name": "stderr",
     "output_type": "stream",
     "text": [
      "C:\\Users\\mahesh\\anaconda3\\lib\\site-packages\\statsmodels\\tsa\\base\\tsa_model.py:162: ValueWarning: No frequency information was provided, so inferred frequency D will be used.\n",
      "  % freq, ValueWarning)\n",
      "C:\\Users\\mahesh\\anaconda3\\lib\\site-packages\\statsmodels\\tsa\\base\\tsa_model.py:162: ValueWarning: No frequency information was provided, so inferred frequency D will be used.\n",
      "  % freq, ValueWarning)\n",
      "C:\\Users\\mahesh\\anaconda3\\lib\\site-packages\\statsmodels\\tsa\\base\\tsa_model.py:162: ValueWarning: No frequency information was provided, so inferred frequency D will be used.\n",
      "  % freq, ValueWarning)\n"
     ]
    }
   ],
   "source": [
    "from math import sqrt\n",
    "from multiprocessing import cpu_count\n",
    "from joblib import Parallel\n",
    "from joblib import delayed\n",
    "from warnings import catch_warnings\n",
    "from warnings import filterwarnings\n",
    "from statsmodels.tsa.statespace.sarimax import SARIMAX\n",
    "from sklearn.metrics import mean_squared_error\n",
    "from statsmodels.tsa.arima.model import ARIMA\n",
    "model = ARIMA(train_data['CH'], order = (1,2,1))\n",
    "model_fit = model.fit()"
   ]
  },
  {
   "cell_type": "code",
   "execution_count": 22,
   "id": "948318f2",
   "metadata": {},
   "outputs": [
    {
     "data": {
      "text/plain": [
       "2021-06-14    0.567143\n",
       "2021-06-15    0.571429\n",
       "2021-06-16    0.575714\n",
       "2021-06-17    0.580000\n",
       "2021-06-18    0.584286\n",
       "2021-06-19    0.588571\n",
       "2021-06-20    0.592857\n",
       "2021-06-21    0.597143\n",
       "2021-06-22    0.601429\n",
       "2021-06-23    0.605714\n",
       "2021-06-24    0.610000\n",
       "2021-06-25    0.614286\n",
       "2021-06-26    0.618571\n",
       "2021-06-27    0.622857\n",
       "2021-06-28    0.627143\n",
       "2021-06-29    0.631429\n",
       "2021-06-30    0.635714\n",
       "2021-07-01    0.640000\n",
       "2021-07-02    0.644286\n",
       "2021-07-03    0.648571\n",
       "Freq: D, dtype: float64"
      ]
     },
     "execution_count": 22,
     "metadata": {},
     "output_type": "execute_result"
    }
   ],
   "source": [
    "model_pred = model_fit.forecast(steps = 20)\n",
    "model_pred"
   ]
  },
  {
   "cell_type": "code",
   "execution_count": 26,
   "id": "61508de1",
   "metadata": {},
   "outputs": [
    {
     "data": {
      "text/plain": [
       "(array([737956., 737958., 737960., 737962., 737964., 737966., 737968.,\n",
       "        737970., 737972., 737974.]),\n",
       " <a list of 10 Text xticklabel objects>)"
      ]
     },
     "execution_count": 26,
     "metadata": {},
     "output_type": "execute_result"
    },
    {
     "data": {
      "image/png": "[encoded data removed]",
      "text/plain": [
       "<Figure size 720x360 with 1 Axes>"
      ]
     },
     "metadata": {
      "needs_background": "light"
     },
     "output_type": "display_data"
    }
   ],
   "source": [
    "plt.plot(model_pred)\n",
    "plt.plot(data2[80:100]['CH'])\n",
    "plt.xticks(rotation = 30)"
   ]
  },
  {
   "cell_type": "code",
   "execution_count": null,
   "id": "b976b68e",
   "metadata": {},
   "outputs": [],
   "source": []
  }
 ],
 "metadata": {
  "kernelspec": {
   "display_name": "Python 3 (ipykernel)",
   "language": "python",
   "name": "python3"
  },
  "language_info": {
   "codemirror_mode": {
    "name": "ipython",
    "version": 3
   },
   "file_extension": ".py",
   "mimetype": "text/x-python",
   "name": "python",
   "nbconvert_exporter": "python",
   "pygments_lexer": "ipython3",
   "version": "3.9.12"
  }
 },
 "nbformat": 4,
 "nbformat_minor": 5
}
